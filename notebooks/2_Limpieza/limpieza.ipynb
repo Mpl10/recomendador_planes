{
 "cells": [
  {
   "cell_type": "code",
   "execution_count": 393,
   "metadata": {},
   "outputs": [],
   "source": [
    "import pandas as pd\n",
    "import re\n",
    "from geopy.geocoders import Nominatim\n",
    "import re\n",
    "import nltk\n",
    "from nltk.corpus import stopwords"
   ]
  },
  {
   "cell_type": "code",
   "execution_count": 94,
   "metadata": {},
   "outputs": [],
   "source": [
    "geolocalizador = Nominatim(user_agent=\"M\")"
   ]
  },
  {
   "cell_type": "code",
   "execution_count": 78,
   "metadata": {},
   "outputs": [],
   "source": [
    "#df_fever= pd.read_csv('../../data/data_inicial/FEVER.csv')\n",
    "#df_fever_detalle= pd.read_csv('../../data/data_inicial/FEVER_DETALLE.csv')\n",
    "#df_groupon= pd.read_csv('../../data/data_inicial/GROUPON.csv')\n",
    "#df_groupon_detalle= pd.read_csv('../../data/data_inicial/GROUPON_DETALLE.csv')\n",
    "#df_tripadvisor= pd.read_json('../1_Extraccion/tutorial/TRIPADVISOR_DETALLE.json')"
   ]
  },
  {
   "attachments": {},
   "cell_type": "markdown",
   "metadata": {},
   "source": [
    "## Limpieza Fever"
   ]
  },
  {
   "cell_type": "code",
   "execution_count": 269,
   "metadata": {},
   "outputs": [],
   "source": [
    "df_fever= pd.read_csv('../../data/data_inicial/FEVER.csv')\n",
    "df_fever_detalle= pd.read_csv('../../data/data_inicial/FEVER_DETALLE.csv')"
   ]
  },
  {
   "cell_type": "code",
   "execution_count": 221,
   "metadata": {},
   "outputs": [
    {
     "name": "stdout",
     "output_type": "stream",
     "text": [
      "<class 'pandas.core.frame.DataFrame'>\n",
      "RangeIndex: 912 entries, 0 to 911\n",
      "Data columns (total 7 columns):\n",
      " #   Column     Non-Null Count  Dtype  \n",
      "---  ------     --------------  -----  \n",
      " 0   categoria  912 non-null    object \n",
      " 1   nombre     912 non-null    object \n",
      " 2   url        912 non-null    object \n",
      " 3   precio     886 non-null    object \n",
      " 4   fecha      812 non-null    object \n",
      " 5   rating     552 non-null    float64\n",
      " 6   sku        912 non-null    int32  \n",
      "dtypes: float64(1), int32(1), object(5)\n",
      "memory usage: 46.4+ KB\n"
     ]
    }
   ],
   "source": [
    "df_fever.info()"
   ]
  },
  {
   "cell_type": "code",
   "execution_count": 208,
   "metadata": {},
   "outputs": [
    {
     "name": "stdout",
     "output_type": "stream",
     "text": [
      "<class 'pandas.core.frame.DataFrame'>\n",
      "RangeIndex: 481 entries, 0 to 480\n",
      "Data columns (total 6 columns):\n",
      " #   Column       Non-Null Count  Dtype  \n",
      "---  ------       --------------  -----  \n",
      " 0   descripcion  481 non-null    object \n",
      " 1   sku          481 non-null    int64  \n",
      " 2   imagen       481 non-null    object \n",
      " 3   latitud      481 non-null    float64\n",
      " 4   longitud     481 non-null    float64\n",
      " 5   lugar        481 non-null    object \n",
      "dtypes: float64(2), int64(1), object(3)\n",
      "memory usage: 22.7+ KB\n"
     ]
    }
   ],
   "source": [
    "df_fever_detalle.info()"
   ]
  },
  {
   "cell_type": "code",
   "execution_count": 224,
   "metadata": {},
   "outputs": [
    {
     "data": {
      "text/html": [
       "<div>\n",
       "<style scoped>\n",
       "    .dataframe tbody tr th:only-of-type {\n",
       "        vertical-align: middle;\n",
       "    }\n",
       "\n",
       "    .dataframe tbody tr th {\n",
       "        vertical-align: top;\n",
       "    }\n",
       "\n",
       "    .dataframe thead th {\n",
       "        text-align: right;\n",
       "    }\n",
       "</style>\n",
       "<table border=\"1\" class=\"dataframe\">\n",
       "  <thead>\n",
       "    <tr style=\"text-align: right;\">\n",
       "      <th></th>\n",
       "      <th>categoria</th>\n",
       "      <th>nombre</th>\n",
       "      <th>url</th>\n",
       "      <th>precio</th>\n",
       "      <th>fecha</th>\n",
       "      <th>rating</th>\n",
       "      <th>sku</th>\n",
       "    </tr>\n",
       "  </thead>\n",
       "  <tbody>\n",
       "    <tr>\n",
       "      <th>0</th>\n",
       "      <td>conciertos-festivales</td>\n",
       "      <td>Candlelight Orquesta: lo mejor de Joe Hisaishi</td>\n",
       "      <td>https://feverup.com/m/127269</td>\n",
       "      <td>Desde\\n15,00 €</td>\n",
       "      <td>20 abr</td>\n",
       "      <td>NaN</td>\n",
       "      <td>127269</td>\n",
       "    </tr>\n",
       "  </tbody>\n",
       "</table>\n",
       "</div>"
      ],
      "text/plain": [
       "               categoria                                          nombre  \\\n",
       "0  conciertos-festivales  Candlelight Orquesta: lo mejor de Joe Hisaishi   \n",
       "\n",
       "                            url          precio   fecha  rating     sku  \n",
       "0  https://feverup.com/m/127269  Desde\\n15,00 €  20 abr     NaN  127269  "
      ]
     },
     "execution_count": 224,
     "metadata": {},
     "output_type": "execute_result"
    }
   ],
   "source": [
    "df_fever.head(1)"
   ]
  },
  {
   "cell_type": "code",
   "execution_count": 230,
   "metadata": {},
   "outputs": [
    {
     "data": {
      "text/html": [
       "<div>\n",
       "<style scoped>\n",
       "    .dataframe tbody tr th:only-of-type {\n",
       "        vertical-align: middle;\n",
       "    }\n",
       "\n",
       "    .dataframe tbody tr th {\n",
       "        vertical-align: top;\n",
       "    }\n",
       "\n",
       "    .dataframe thead th {\n",
       "        text-align: right;\n",
       "    }\n",
       "</style>\n",
       "<table border=\"1\" class=\"dataframe\">\n",
       "  <thead>\n",
       "    <tr style=\"text-align: right;\">\n",
       "      <th></th>\n",
       "      <th>categoria</th>\n",
       "      <th>nombre</th>\n",
       "      <th>url</th>\n",
       "      <th>precio</th>\n",
       "      <th>fecha</th>\n",
       "      <th>rating</th>\n",
       "      <th>sku</th>\n",
       "      <th>descripcion</th>\n",
       "      <th>imagen</th>\n",
       "      <th>latitud</th>\n",
       "      <th>longitud</th>\n",
       "      <th>lugar</th>\n",
       "    </tr>\n",
       "  </thead>\n",
       "  <tbody>\n",
       "    <tr>\n",
       "      <th>0</th>\n",
       "      <td>conciertos-festivales</td>\n",
       "      <td>Candlelight Orquesta: lo mejor de Joe Hisaishi</td>\n",
       "      <td>https://feverup.com/m/127269</td>\n",
       "      <td>Desde\\n15,00 €</td>\n",
       "      <td>20 abr</td>\n",
       "      <td>NaN</td>\n",
       "      <td>127269</td>\n",
       "      <td>elight  son los conciertos a la luz de las vel...</td>\n",
       "      <td>https://applications-media.feverup.com/image/u...</td>\n",
       "      <td>40.420915</td>\n",
       "      <td>-3.718800</td>\n",
       "      <td>Gran Teatro CAIXABANK Príncipe Pío</td>\n",
       "    </tr>\n",
       "    <tr>\n",
       "      <th>1</th>\n",
       "      <td>conciertos-festivales</td>\n",
       "      <td>Candlelight Summer 2023 - Lista de espera</td>\n",
       "      <td>https://feverup.com/m/121393</td>\n",
       "      <td>NaN</td>\n",
       "      <td>NaN</td>\n",
       "      <td>NaN</td>\n",
       "      <td>121393</td>\n",
       "      <td>Candlelight Summer 2023 - Lista de espera</td>\n",
       "      <td>NaN</td>\n",
       "      <td>NaN</td>\n",
       "      <td>NaN</td>\n",
       "      <td>NaN</td>\n",
       "    </tr>\n",
       "    <tr>\n",
       "      <th>2</th>\n",
       "      <td>conciertos-festivales</td>\n",
       "      <td>Rockin'1000: Una banda de mil músicos en directo</td>\n",
       "      <td>https://feverup.com/m/125023</td>\n",
       "      <td>Desde\\n39,50 €</td>\n",
       "      <td>03 jun</td>\n",
       "      <td>NaN</td>\n",
       "      <td>125023</td>\n",
       "      <td>¿Quieres vivir el concierto en directo de la...</td>\n",
       "      <td>https://applications-media.feverup.com/image/u...</td>\n",
       "      <td>40.436913</td>\n",
       "      <td>-3.599382</td>\n",
       "      <td>Cívitas Metropolitano</td>\n",
       "    </tr>\n",
       "    <tr>\n",
       "      <th>3</th>\n",
       "      <td>conciertos-festivales</td>\n",
       "      <td>Candlelight: Requiem de Mozart en San Antonio ...</td>\n",
       "      <td>https://feverup.com/m/128037</td>\n",
       "      <td>Desde\\n15,00 €</td>\n",
       "      <td>07 may</td>\n",
       "      <td>NaN</td>\n",
       "      <td>128037</td>\n",
       "      <td>elight  trae la magia de una experiencia music...</td>\n",
       "      <td>https://applications-media.feverup.com/image/u...</td>\n",
       "      <td>40.422359</td>\n",
       "      <td>-3.703813</td>\n",
       "      <td>Iglesia de San Antonio de los Alemanes</td>\n",
       "    </tr>\n",
       "  </tbody>\n",
       "</table>\n",
       "</div>"
      ],
      "text/plain": [
       "               categoria                                             nombre  \\\n",
       "0  conciertos-festivales     Candlelight Orquesta: lo mejor de Joe Hisaishi   \n",
       "1  conciertos-festivales          Candlelight Summer 2023 - Lista de espera   \n",
       "2  conciertos-festivales   Rockin'1000: Una banda de mil músicos en directo   \n",
       "3  conciertos-festivales  Candlelight: Requiem de Mozart en San Antonio ...   \n",
       "\n",
       "                            url          precio   fecha  rating     sku  \\\n",
       "0  https://feverup.com/m/127269  Desde\\n15,00 €  20 abr     NaN  127269   \n",
       "1  https://feverup.com/m/121393             NaN     NaN     NaN  121393   \n",
       "2  https://feverup.com/m/125023  Desde\\n39,50 €  03 jun     NaN  125023   \n",
       "3  https://feverup.com/m/128037  Desde\\n15,00 €  07 may     NaN  128037   \n",
       "\n",
       "                                         descripcion  \\\n",
       "0  elight  son los conciertos a la luz de las vel...   \n",
       "1          Candlelight Summer 2023 - Lista de espera   \n",
       "2    ¿Quieres vivir el concierto en directo de la...   \n",
       "3  elight  trae la magia de una experiencia music...   \n",
       "\n",
       "                                              imagen    latitud  longitud  \\\n",
       "0  https://applications-media.feverup.com/image/u...  40.420915 -3.718800   \n",
       "1                                                NaN        NaN       NaN   \n",
       "2  https://applications-media.feverup.com/image/u...  40.436913 -3.599382   \n",
       "3  https://applications-media.feverup.com/image/u...  40.422359 -3.703813   \n",
       "\n",
       "                                    lugar  \n",
       "0      Gran Teatro CAIXABANK Príncipe Pío  \n",
       "1                                     NaN  \n",
       "2                   Cívitas Metropolitano  \n",
       "3  Iglesia de San Antonio de los Alemanes  "
      ]
     },
     "execution_count": 230,
     "metadata": {},
     "output_type": "execute_result"
    }
   ],
   "source": [
    "df_fever_all.head(4)\n"
   ]
  },
  {
   "cell_type": "code",
   "execution_count": 270,
   "metadata": {},
   "outputs": [],
   "source": [
    "#FUNCION EXTRACCION SKU DE URL MOVER A SRC\n",
    "\n",
    "def extract_sku(url):\n",
    "    match = re.search(r'\\d+$', url)\n",
    "    if match:\n",
    "        return match.group()\n",
    "    else:\n",
    "        return None"
   ]
  },
  {
   "cell_type": "code",
   "execution_count": 271,
   "metadata": {},
   "outputs": [],
   "source": [
    "#Extraemos el sku de las url para cruzar los 2 df\n",
    "df_fever['sku'] = df_fever['url'].apply(extract_sku).astype(int)\n",
    "\n",
    "#Agrupamos los df\n",
    "df_fever_all = pd.merge(df_fever, df_fever_detalle, on='sku', how='left')\n",
    "\n",
    "#Gestionaremos los nulos en la columna descripción reemplazándolos por el nombre de la actividad\n",
    "df_fever_all['descripcion'].fillna(df_fever_all['nombre'], inplace=True)\n",
    "\n",
    "#Renombrado de columnas\n",
    "df_fever_all.rename(columns={'categoria': 'subcategoria'}, inplace=True)"
   ]
  },
  {
   "attachments": {},
   "cell_type": "markdown",
   "metadata": {},
   "source": [
    "## Limpieza Groupon"
   ]
  },
  {
   "cell_type": "code",
   "execution_count": 274,
   "metadata": {},
   "outputs": [],
   "source": [
    "df_groupon= pd.read_csv('../../data/data_inicial/GROUPON.csv')\n",
    "df_groupon_detalle= pd.read_csv('../../data/data_inicial/GROUPON_DETALLE.csv')"
   ]
  },
  {
   "cell_type": "code",
   "execution_count": 233,
   "metadata": {},
   "outputs": [
    {
     "name": "stdout",
     "output_type": "stream",
     "text": [
      "<class 'pandas.core.frame.DataFrame'>\n",
      "RangeIndex: 98 entries, 0 to 97\n",
      "Data columns (total 7 columns):\n",
      " #   Column     Non-Null Count  Dtype  \n",
      "---  ------     --------------  -----  \n",
      " 0   categoria  98 non-null     object \n",
      " 1   nombre     98 non-null     object \n",
      " 2   direccion  98 non-null     object \n",
      " 3   url        98 non-null     object \n",
      " 4   precio     98 non-null     float64\n",
      " 5   precio_2   0 non-null      float64\n",
      " 6   rating     61 non-null     float64\n",
      "dtypes: float64(3), object(4)\n",
      "memory usage: 5.5+ KB\n"
     ]
    }
   ],
   "source": [
    "df_groupon.info()\n",
    "df_groupon_detalle.info()\n",
    "df_groupon.head(1)\n",
    "df_groupon_detalle.head(1)"
   ]
  },
  {
   "cell_type": "code",
   "execution_count": null,
   "metadata": {},
   "outputs": [],
   "source": [
    "#FUNCION LATITUD Y LONGITUD MOVER A SRC\n",
    "\n",
    "def obtener_lat_long(direccion):\n",
    "    ubicacion = geolocalizador.geocode(direccion)\n",
    "    if ubicacion is not None:\n",
    "        return pd.Series((ubicacion.latitude, ubicacion.longitude))\n",
    "    else:\n",
    "        return pd.Series(('Desconocido', 'Desconocido'))"
   ]
  },
  {
   "cell_type": "code",
   "execution_count": 275,
   "metadata": {},
   "outputs": [],
   "source": [
    "#Eliminamos la columna precio_2 porque no nos aporta información\n",
    "df_groupon = df_groupon.drop(['precio_2'], axis=1)\n",
    "\n",
    "#Obetenemos la latitud y longitud de las direcciones de las actividades\n",
    "df_groupon[['latitud', 'longitud']] = df_groupon['direccion'].apply(obtener_lat_long)\n",
    "\n",
    "#Agrupamos los df\n",
    "df_groupon_all = pd.merge(df_groupon, df_groupon_detalle, on='url', how='left')\n",
    "\n",
    "#Gestionaremos los nulos en la columna descripción reemplazándolos por el nombre de la actividad\n",
    "df_groupon_all['descripcion'].fillna(df_groupon_all['nombre'], inplace=True)\n",
    "\n",
    "#Renombrado de columnas\n",
    "df_groupon_all.rename(columns={'categoria': 'subcategoria'}, inplace=True)"
   ]
  },
  {
   "cell_type": "markdown",
   "metadata": {},
   "source": [
    "## Limpieza Tripadvisor"
   ]
  },
  {
   "cell_type": "code",
   "execution_count": 277,
   "metadata": {},
   "outputs": [],
   "source": [
    "df_tripadvisor= pd.read_json('../1_Extraccion/tutorial/TRIPADVISOR_DETALLE.json')"
   ]
  },
  {
   "cell_type": "code",
   "execution_count": 158,
   "metadata": {},
   "outputs": [
    {
     "name": "stdout",
     "output_type": "stream",
     "text": [
      "<class 'pandas.core.frame.DataFrame'>\n",
      "RangeIndex: 3233 entries, 0 to 3232\n",
      "Data columns (total 6 columns):\n",
      " #   Column         Non-Null Count  Dtype \n",
      "---  ------         --------------  ----- \n",
      " 0   name           3233 non-null   object\n",
      " 1   url            3233 non-null   object\n",
      " 2   direction      3233 non-null   object\n",
      " 3   cuisines       3233 non-null   object\n",
      " 4   priceRangeNum  3233 non-null   object\n",
      " 5   rating         3233 non-null   object\n",
      "dtypes: object(6)\n",
      "memory usage: 151.7+ KB\n"
     ]
    }
   ],
   "source": [
    "df_tripadvisor.info()"
   ]
  },
  {
   "cell_type": "code",
   "execution_count": 278,
   "metadata": {},
   "outputs": [],
   "source": [
    "df_tripadvisor = df_tripadvisor.drop(['province','price','city', 'price_all','latitude','longitude','meals','specialDiets','locationAll','coordinates','positionlink'], axis=1)\n",
    "df_tripadvisor = df_tripadvisor.dropna()\n",
    "df_tripadvisor = df_tripadvisor.reset_index(drop=True)"
   ]
  },
  {
   "cell_type": "code",
   "execution_count": 154,
   "metadata": {},
   "outputs": [],
   "source": [
    "df_tripadvisor_url= pd.DataFrame(df_tripadvisor[\"url\"])\n",
    "df_tripadvisor_url.to_csv(f'../../data/data_inicial/TRIPADVISOR_URL.csv', header=True, index=False)"
   ]
  },
  {
   "cell_type": "code",
   "execution_count": 280,
   "metadata": {},
   "outputs": [],
   "source": [
    "#Crear la columna subcategoria\n",
    "df_tripadvisor['subcategoria'] = 'restaurantes'\n",
    "\n",
    "#Renombrado de columnas\n",
    "df_tripadvisor.rename(columns={'cuisines': 'descripcion', 'name': 'nombre'}, inplace=True)"
   ]
  },
  {
   "attachments": {},
   "cell_type": "markdown",
   "metadata": {},
   "source": [
    "## DF ENTRENAMIENTO"
   ]
  },
  {
   "cell_type": "code",
   "execution_count": 371,
   "metadata": {},
   "outputs": [],
   "source": [
    "#Creacion de una copia de cada uno de los df\n",
    "df_entrenamiento_gr= df_groupon_all.copy()\n",
    "df_entrenamiento_fv= df_fever_all.copy()\n",
    "df_entrenamiento_tp= df_tripadvisor.copy()"
   ]
  },
  {
   "cell_type": "code",
   "execution_count": 372,
   "metadata": {},
   "outputs": [],
   "source": [
    "#Eliminacion de las columnas no implicadas en el modelo de recomendacion\n",
    "df_entrenamiento_gr.drop(df_entrenamiento_gr.columns.difference(['nombre', 'subcategoria', 'descripcion', 'url']), axis=1, inplace=True)\n",
    "df_entrenamiento_fv.drop(df_entrenamiento_fv.columns.difference(['nombre', 'subcategoria', 'descripcion', 'url']), axis=1, inplace=True)\n",
    "df_entrenamiento_tp.drop(df_entrenamiento_tp.columns.difference(['nombre', 'subcategoria', 'descripcion', 'url']), axis=1, inplace=True)\n",
    "\n",
    "#REEMPLAZAR URL POR ID\n",
    "#df_entrenamiento_gr.drop(df_entrenamiento_gr.columns.difference(['nombre', 'subcategoria', 'descripcion', 'id']), axis=1, inplace=True)\n",
    "#df_entrenamiento_fv.drop(df_entrenamiento_fv.columns.difference(['nombre', 'subcategoria', 'descripcion', 'id']), axis=1, inplace=True)\n",
    "#df_entrenamiento_tp.drop(df_entrenamiento_tp.columns.difference(['nombre', 'subcategoria', 'descripcion', 'id']), axis=1, inplace=True)"
   ]
  },
  {
   "cell_type": "code",
   "execution_count": 373,
   "metadata": {},
   "outputs": [],
   "source": [
    "#Establecer el orden de las columnas\n",
    "df_entrenamiento_gr = df_entrenamiento_gr[['nombre', 'subcategoria', 'descripcion', 'url']]\n",
    "df_entrenamiento_fv = df_entrenamiento_fv[['nombre', 'subcategoria', 'descripcion', 'url']]\n",
    "df_entrenamiento_tp = df_entrenamiento_tp[['nombre', 'subcategoria', 'descripcion', 'url']]"
   ]
  },
  {
   "cell_type": "code",
   "execution_count": 374,
   "metadata": {},
   "outputs": [],
   "source": [
    "#Concatenado de los df\n",
    "df_entrenamiento_all = pd.concat([df_entrenamiento_gr, df_entrenamiento_fv, df_entrenamiento_tp], ignore_index=True)\n",
    "\n",
    "#Generacion de un id a partir de la url (ESTE PASO HAY QUE HACERLO ANTES EN LA UNIFICACION ANTERIOR DE LOS DF)\n",
    "df_entrenamiento_all['id'], _ = pd.factorize(df_entrenamiento_all['url'], sort=True)\n",
    "\n",
    "#Añadir la columna categoría (ESTE PASO HAY QUE HACERLO ANTES EN LA UNIFICACION ANTERIOR DE LOS DF)\n",
    "rel_categoria= pd.read_csv('../../data/data_inicial/CATEGORIA_RELACION.csv')\n",
    "df_entrenamiento_all = pd.merge(df_entrenamiento_all, rel_categoria, on='subcategoria', how='left')"
   ]
  },
  {
   "attachments": {},
   "cell_type": "markdown",
   "metadata": {},
   "source": [
    "### Limpieza"
   ]
  },
  {
   "cell_type": "code",
   "execution_count": 388,
   "metadata": {},
   "outputs": [],
   "source": [
    "#funcion para limpiar descripciones MOVER A SRC\n",
    "\n",
    "def limpiar_texto(texto):\n",
    "    # Eliminar números y caracteres especiales\n",
    "    texto = re.sub('[^a-zA-ZáéíóúüñÁÉÍÓÚÜÑ]|lunes|martes|miércoles|jueves|viernes|sábado|domingo', ' ', texto)\n",
    "    \n",
    "    # Convertir el texto a minúsculas\n",
    "    texto = texto.lower()\n",
    "    \n",
    "    # Tokenizar el texto en palabras\n",
    "    palabras = nltk.tokenize.word_tokenize(texto, language='spanish')\n",
    "    \n",
    "    # Eliminar preposiciones, artículos, adverbios y determinantes\n",
    "    stopwords_sp = set(stopwords.words('spanish'))\n",
    "    palabras = [palabra for palabra in palabras if palabra not in stopwords_sp]\n",
    "    \n",
    "    # Unir las palabras en una cadena de texto nuevamente\n",
    "    texto_limpio = ' '.join(palabras)\n",
    "    \n",
    "    return texto_limpio"
   ]
  },
  {
   "cell_type": "code",
   "execution_count": 389,
   "metadata": {},
   "outputs": [],
   "source": [
    "#eliminacion de guiones en subcategoría\n",
    "df_entrenamiento_all['subcategoria'] = df_entrenamiento_all['subcategoria'].apply(lambda x: x.replace('-', ' '))\n",
    "\n",
    "#limpieza de descripcion\n",
    "df_entrenamiento_all['descripcion'] = df_entrenamiento_all['descripcion'].apply(lambda x: limpiar_texto(x))"
   ]
  },
  {
   "cell_type": "code",
   "execution_count": 394,
   "metadata": {},
   "outputs": [],
   "source": [
    "df_entrenamiento_all['descripcion'] = df_entrenamiento_all['descripcion'].apply(lambda x: limpiar_texto(x))"
   ]
  },
  {
   "cell_type": "code",
   "execution_count": 387,
   "metadata": {},
   "outputs": [
    {
     "name": "stdout",
     "output_type": "stream",
     "text": [
      "Las opciones incluyen:\n",
      "Juego de escape room urbano de 2,5 horas aproximadamente para grupos de dos a seis personas,\n",
      "De martes a jueves o de viernes a domingo.\n",
      "Sobre el juego:\n",
      "El juego de aventura ParaPoly no trata solo de ver los monumentos de la ciudad, sino de escuchar lo que te dicen. Se deben buscar las pistas, investiga las señales y resuelve los acertijo. Para ello es necesario un par de amigos, un móvil inteligente, un bolígrafo y el mapa del juego.\n",
      "La partida no dura más de un par de horas, por lo que es posible hacer un descanso para comer o cenar, o incluso parar por la noche y continuar al día siguiente.\n",
      "Más informacion sobre el juego: http://madrid.parapark.es/parapoly\n"
     ]
    }
   ],
   "source": []
  },
  {
   "cell_type": "code",
   "execution_count": null,
   "metadata": {},
   "outputs": [],
   "source": []
  },
  {
   "cell_type": "code",
   "execution_count": 395,
   "metadata": {},
   "outputs": [
    {
     "data": {
      "text/html": [
       "<div>\n",
       "<style scoped>\n",
       "    .dataframe tbody tr th:only-of-type {\n",
       "        vertical-align: middle;\n",
       "    }\n",
       "\n",
       "    .dataframe tbody tr th {\n",
       "        vertical-align: top;\n",
       "    }\n",
       "\n",
       "    .dataframe thead th {\n",
       "        text-align: right;\n",
       "    }\n",
       "</style>\n",
       "<table border=\"1\" class=\"dataframe\">\n",
       "  <thead>\n",
       "    <tr style=\"text-align: right;\">\n",
       "      <th></th>\n",
       "      <th>nombre</th>\n",
       "      <th>subcategoria</th>\n",
       "      <th>descripcion</th>\n",
       "      <th>url</th>\n",
       "      <th>id</th>\n",
       "      <th>categoria</th>\n",
       "    </tr>\n",
       "  </thead>\n",
       "  <tbody>\n",
       "    <tr>\n",
       "      <th>0</th>\n",
       "      <td>Escape room urbano para grupos de 2 a 6 person...</td>\n",
       "      <td>juegos de escape</td>\n",
       "      <td>opciones incluyen juego escape room urbano hor...</td>\n",
       "      <td>https://www.groupon.es/deals/parapark-madrid-2</td>\n",
       "      <td>3783</td>\n",
       "      <td>Entretenimiento</td>\n",
       "    </tr>\n",
       "    <tr>\n",
       "      <th>1</th>\n",
       "      <td>Escape game para 4 a 6 personas en una sala a ...</td>\n",
       "      <td>juegos de escape</td>\n",
       "      <td>incluye escape game salas participantes duraci...</td>\n",
       "      <td>https://www.groupon.es/deals/escapology-ilusio...</td>\n",
       "      <td>3759</td>\n",
       "      <td>Entretenimiento</td>\n",
       "    </tr>\n",
       "  </tbody>\n",
       "</table>\n",
       "</div>"
      ],
      "text/plain": [
       "                                              nombre      subcategoria  \\\n",
       "0  Escape room urbano para grupos de 2 a 6 person...  juegos de escape   \n",
       "1  Escape game para 4 a 6 personas en una sala a ...  juegos de escape   \n",
       "\n",
       "                                         descripcion  \\\n",
       "0  opciones incluyen juego escape room urbano hor...   \n",
       "1  incluye escape game salas participantes duraci...   \n",
       "\n",
       "                                                 url    id        categoria  \n",
       "0     https://www.groupon.es/deals/parapark-madrid-2  3783  Entretenimiento  \n",
       "1  https://www.groupon.es/deals/escapology-ilusio...  3759  Entretenimiento  "
      ]
     },
     "execution_count": 395,
     "metadata": {},
     "output_type": "execute_result"
    }
   ],
   "source": [
    "df_entrenamiento_all.head(2)"
   ]
  },
  {
   "cell_type": "code",
   "execution_count": 385,
   "metadata": {},
   "outputs": [],
   "source": [
    "df_entrenamiento_all.to_csv(f'../../data/data_inicial/RECOMENDACION_ALL.csv', header=True, index=False)"
   ]
  }
 ],
 "metadata": {
  "kernelspec": {
   "display_name": "Python 3",
   "language": "python",
   "name": "python3"
  },
  "language_info": {
   "codemirror_mode": {
    "name": "ipython",
    "version": 3
   },
   "file_extension": ".py",
   "mimetype": "text/x-python",
   "name": "python",
   "nbconvert_exporter": "python",
   "pygments_lexer": "ipython3",
   "version": "3.9.12"
  },
  "orig_nbformat": 4
 },
 "nbformat": 4,
 "nbformat_minor": 2
}
