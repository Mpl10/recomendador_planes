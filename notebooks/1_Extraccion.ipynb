{
 "cells": [
  {
   "cell_type": "code",
   "execution_count": 2,
   "metadata": {},
   "outputs": [],
   "source": [
    "import sys \n",
    "sys.path.append(\"src\")\n",
    "import src.soporte_extraccion as sp"
   ]
  },
  {
   "attachments": {},
   "cell_type": "markdown",
   "metadata": {},
   "source": [
    "# EXTRACCIÓN DE DATOS"
   ]
  },
  {
   "attachments": {},
   "cell_type": "markdown",
   "metadata": {},
   "source": [
    "Para este proyecto se realizará la extracción de datos de 3 fuentes; Fever y Groupon para planes de ocio y Tripadvisor para restaurantes. En este documento se procede a recopilar toda la información mediante Web scrapping con Selenium, Beautiful Soup y Scrapy."
   ]
  },
  {
   "attachments": {},
   "cell_type": "markdown",
   "metadata": {},
   "source": [
    "## 1. Extracción de Fever"
   ]
  },
  {
   "attachments": {},
   "cell_type": "markdown",
   "metadata": {},
   "source": [
    "Para extraer la información de la página web de Fever se seleccionarán las categorías de interés para el modelo de recomendación y se realizará la extracción de la información relativa a las mismas en dos pasos:"
   ]
  },
  {
   "attachments": {},
   "cell_type": "markdown",
   "metadata": {},
   "source": [
    "#### Extracción principal :"
   ]
  },
  {
   "attachments": {},
   "cell_type": "markdown",
   "metadata": {},
   "source": [
    "En el primer paso se extraerá la información relativa a los item contenidos en cada una de las categorías. La información que se obtendrá como resultado es la siguiente: categoria, nombre, url, fecha, rating y precio. "
   ]
  },
  {
   "cell_type": "code",
   "execution_count": 14,
   "metadata": {},
   "outputs": [],
   "source": [
    "sp.Extraccion.fever()"
   ]
  },
  {
   "attachments": {},
   "cell_type": "markdown",
   "metadata": {},
   "source": [
    "#### Extracción detalle :"
   ]
  },
  {
   "attachments": {},
   "cell_type": "markdown",
   "metadata": {},
   "source": [
    "A partir de las url obtenidas en el paso anterior se accederá a cada uno de los item de forma individual para obtener los datos relativos a: descripcción, sku, imagen, latitud, longitud y lugar (o dirección)."
   ]
  },
  {
   "cell_type": "code",
   "execution_count": 12,
   "metadata": {},
   "outputs": [],
   "source": [
    "sp.Extraccion.fever_detalle()"
   ]
  },
  {
   "attachments": {},
   "cell_type": "markdown",
   "metadata": {},
   "source": [
    "## 2. Extracción de Groupon"
   ]
  },
  {
   "attachments": {},
   "cell_type": "markdown",
   "metadata": {},
   "source": [
    "Para extraer la información de la página web de Groupon se seleccionarán las categorías de interés para el modelo de recomendación y se realizará la extracción de la información relativa a las mismas en dos pasos:"
   ]
  },
  {
   "attachments": {},
   "cell_type": "markdown",
   "metadata": {},
   "source": [
    "#### Extracción principal :"
   ]
  },
  {
   "attachments": {},
   "cell_type": "markdown",
   "metadata": {},
   "source": [
    "En el primer paso se extraerá la información relativa a los item contenidos en cada una de las categorías. La información que se obtendrá como resultado es la siguiente: categoria, nombre, url, precio, rating y dirección. "
   ]
  },
  {
   "cell_type": "code",
   "execution_count": 10,
   "metadata": {},
   "outputs": [],
   "source": [
    "sp.Extraccion.groupon()"
   ]
  },
  {
   "cell_type": "markdown",
   "metadata": {},
   "source": [
    "#### Extracción detalle :"
   ]
  },
  {
   "attachments": {},
   "cell_type": "markdown",
   "metadata": {},
   "source": [
    "A partir de las url obtenidas en el paso anterior se accederá a cada uno de los item de forma individual para obtener las imágenes y descripcciones de los planes."
   ]
  },
  {
   "cell_type": "code",
   "execution_count": 8,
   "metadata": {},
   "outputs": [],
   "source": [
    "sp.Extraccion.groupon_detalle()"
   ]
  },
  {
   "attachments": {},
   "cell_type": "markdown",
   "metadata": {},
   "source": [
    "## 3. Extracción de Tripadvisor"
   ]
  },
  {
   "attachments": {},
   "cell_type": "markdown",
   "metadata": {},
   "source": [
    "Con el método scrapy se realizará una primera extracción de Tripadvisor. El códicgo se encuentra almacenado en la carpeta tutorial y devuelve un archivo .json, que se utilizará para la elaboración de una lista de url para obtener la información de las coordenadas e imágenes."
   ]
  },
  {
   "cell_type": "code",
   "execution_count": 6,
   "metadata": {},
   "outputs": [],
   "source": [
    "sp.Extraccion.tripadvisor_detalle()"
   ]
  }
 ],
 "metadata": {
  "kernelspec": {
   "display_name": "Python 3",
   "language": "python",
   "name": "python3"
  },
  "language_info": {
   "codemirror_mode": {
    "name": "ipython",
    "version": 3
   },
   "file_extension": ".py",
   "mimetype": "text/x-python",
   "name": "python",
   "nbconvert_exporter": "python",
   "pygments_lexer": "ipython3",
   "version": "3.9.12"
  },
  "orig_nbformat": 4
 },
 "nbformat": 4,
 "nbformat_minor": 2
}
