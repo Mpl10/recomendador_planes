{
 "cells": [
  {
   "cell_type": "code",
   "execution_count": 2,
   "metadata": {},
   "outputs": [],
   "source": [
    "import pandas as pd\n",
    "import numpy as np\n",
    "\n",
    "import random\n",
    "from random import randint\n",
    "import string\n",
    "import requests\n",
    "from tqdm import tqdm\n",
    "\n",
    "from time import sleep\n",
    "from selenium import webdriver\n",
    "from bs4 import BeautifulSoup\n",
    "from webdriver_manager.chrome import ChromeDriverManager\n",
    "from selenium.webdriver.common.keys import Keys\n",
    "from selenium.webdriver.chrome.options import Options\n",
    "from selenium.common.exceptions import NoSuchElementException\n",
    "\n",
    "\n",
    "import warnings\n",
    "warnings.filterwarnings('ignore')"
   ]
  },
  {
   "cell_type": "code",
   "execution_count": 3,
   "metadata": {},
   "outputs": [],
   "source": [
    "opciones= Options()\n",
    "opciones.add_experimental_option('excludeSwitches', ['enable-automation'])\n",
    "opciones.add_experimental_option('useAutomationExtension', False)\n",
    "opciones.add_argument('--start-maximized') \n",
    "opciones.add_argument('user.data-dir=selenium') \n",
    "#opciones.add_argument('--incognito')"
   ]
  },
  {
   "attachments": {},
   "cell_type": "markdown",
   "metadata": {},
   "source": [
    "## Extractor Groupon"
   ]
  },
  {
   "cell_type": "code",
   "execution_count": 119,
   "metadata": {},
   "outputs": [
    {
     "name": "stderr",
     "output_type": "stream",
     "text": [
      "  1%|          | 7/999 [00:30<1:11:12,  4.31s/it]"
     ]
    },
    {
     "name": "stdout",
     "output_type": "stream",
     "text": [
      "Fin cursos-fotorgrafia\n",
      "Element not found 8\n"
     ]
    },
    {
     "name": "stderr",
     "output_type": "stream",
     "text": [
      "\n"
     ]
    }
   ],
   "source": [
    "driver = webdriver.Chrome(\"chromedriver.exe\")\n",
    "num_res= list(range(1, 1000))\n",
    "\n",
    "dicc_groupon= { \"categoria\" : [],\n",
    "                \"nombre\"    : [],\n",
    "                \"direccion\" : [],\n",
    "                \"url\"       : [],\n",
    "                \"precio\"    : [],\n",
    "                \"precio_2\"  : [],\n",
    "                \"rating\"    : []                              \n",
    "               }\n",
    "\n",
    "categorias= [\"juegos-de-escape\", \n",
    "             \"cursos-fotorgrafia\", \n",
    "             \"clases-baile\", \n",
    "             \"v-cata-de-vinos\",\n",
    "             \"v-espectaculos\",\n",
    "             \"carreras\",\n",
    "             \"bolos\",\n",
    "             \"paintball\",\n",
    "             \"equitacion\",\n",
    "             \"v-escalada\",\n",
    "             \"v-esqui-y-snowboard\",\n",
    "             \"deportes-acuaticos\",\n",
    "             \"patinaje-sobre-hielo\",\n",
    "             \"v-golf\",\n",
    "             \"parapente\",\n",
    "             \"tours-de-vinos\",\n",
    "             \"excursiones-por-la-ciudad-y-lugares-de-interes\",\n",
    "             \"excursiones-y-aventuras-al-aire-libre\",\n",
    "             \"tour-de-vuelo\",\n",
    "             \"day-spa\"\n",
    "             ]\n",
    "\n",
    "\n",
    "for categoria in categorias:\n",
    "\n",
    "    driver.get(f\"https://www.groupon.es/ofertas/{categoria}?distance=%5B0.0..50.0%5D\")\n",
    "\n",
    "    try:\n",
    "        driver.find_element(\"xpath\", '//*[@id=\"nothx\"]').click()\n",
    "        sleep(6)\n",
    "    except:\n",
    "        pass\n",
    "\n",
    "    try:\n",
    "        driver.find_element(\"xpath\", '//*[@id=\"gdpr-accept\"]').click()\n",
    "        sleep(3)\n",
    "    except:\n",
    "        pass\n",
    "\n",
    "    for i in tqdm(num_res):\n",
    "        try:\n",
    "\n",
    "            dicc_groupon[\"nombre\"].append(driver.find_element(\"xpath\", f'//*[@id=\"pull-deal-feed\"]/figure[{i}]/div/a/div[2]/div[1]/div').text)\n",
    "            dicc_groupon[\"direccion\"].append(driver.find_element(\"xpath\", f'//*[@id=\"pull-deal-feed\"]/figure[{i}]/div/a/div[2]/div[2]/div/span[1]').text)\n",
    "            dicc_groupon[\"url\"].append(driver.find_element(\"xpath\", f'//*[@id=\"pull-deal-feed\"]/figure[{i}]/div/a').get_attribute('href'))\n",
    "            dicc_groupon[\"categoria\"].append(categoria)\n",
    "\n",
    "            try:\n",
    "                dicc_groupon[\"precio\"].append((driver.find_element(\"xpath\", f'//*[@id=\"pull-deal-feed\"]/figure[{i}]/div/a/div[2]/div[4]/div[1]/div[1]/div[2]/span').text))\n",
    "\n",
    "            except:\n",
    "                dicc_groupon[\"precio\"].append(np.nan)\n",
    "\n",
    "            try:\n",
    "                dicc_groupon[\"precio_2\"].append(driver.find_element(\"xpath\", f'//*[@id=\"pull-deal-feed\"]/figure[{i}]/div/a/div[2]/div[4]/div[1]/div[2]/div[2]/div[2]').text)\n",
    "\n",
    "            except:\n",
    "                dicc_groupon[\"precio_2\"].append(np.nan)\n",
    "\n",
    "            try:\n",
    "                dicc_groupon[\"rating\"].append(driver.find_element(\"xpath\", f'//*[@id=\"pull-deal-feed\"]/figure[{i}]/div/a/div[2]/div[3]/div/div[1]').text)\n",
    "            except:\n",
    "                dicc_groupon[\"rating\"].append(np.nan)\n",
    "\n",
    "\n",
    "            sleep(randint(3,5))\n",
    "\n",
    "        except NoSuchElementException:\n",
    "            print(f\"Fin {categoria}\")\n",
    "            print(f\"Element not found {i}\")\n",
    "            break\n",
    "\n",
    "\n",
    "df_groupon= pd.DataFrame(dicc_groupon)\n",
    "df_groupon.to_csv(f'../../data/data_inicial/GROUPON.csv', header=True, index=False)"
   ]
  },
  {
   "attachments": {},
   "cell_type": "markdown",
   "metadata": {},
   "source": [
    "## Extractor Groupon Detalle"
   ]
  },
  {
   "cell_type": "code",
   "execution_count": 4,
   "metadata": {},
   "outputs": [],
   "source": [
    "df= pd.read_csv('../../data/data_inicial/GROUPON.csv')"
   ]
  },
  {
   "cell_type": "code",
   "execution_count": 44,
   "metadata": {},
   "outputs": [],
   "source": [
    "lista_url=list(df[\"url\"].unique())"
   ]
  },
  {
   "cell_type": "code",
   "execution_count": 46,
   "metadata": {},
   "outputs": [
    {
     "name": "stderr",
     "output_type": "stream",
     "text": [
      "100%|██████████| 88/88 [08:33<00:00,  5.84s/it]\n"
     ]
    }
   ],
   "source": [
    "driver = webdriver.Chrome(\"chromedriver.exe\")\n",
    "\n",
    "dicc_groupon_detalle= { \"url\"        :[],\n",
    "                        \"descripcion\":[],\n",
    "                        \"imagen\"     :[]\n",
    "                      }\n",
    "\n",
    "\n",
    "for url in tqdm(lista_url):\n",
    "    \n",
    "    driver.get(url)\n",
    "\n",
    "    try:\n",
    "        driver.find_element(\"xpath\", '//*[@id=\"nothx\"]').click()\n",
    "        sleep(6)\n",
    "    except:\n",
    "        pass\n",
    "\n",
    "    try:\n",
    "        driver.find_element(\"xpath\", '//*[@id=\"gdpr-accept\"]').click()\n",
    "        sleep(3)\n",
    "    except:\n",
    "        pass\n",
    "\n",
    "    try:\n",
    "\n",
    "        dicc_groupon_detalle[\"url\"].append(url)\n",
    "\n",
    "        try:\n",
    "            dicc_groupon_detalle[\"imagen\"].append(driver.find_element(\"xpath\", f'//*[@id=\"overflow-container\"]/div/div/img').get_attribute(\"src\"))\n",
    "        except:\n",
    "            dicc_groupon_detalle[\"imagen\"].append(np.nan)\n",
    "\n",
    "        try:\n",
    "            dicc_groupon_detalle[\"descripcion\"].append(driver.find_element(\"xpath\", f'//*[@id=\"deal-pitch\"]').text)\n",
    "        except:\n",
    "            dicc_groupon_detalle[\"descripcion\"].append(np.nan)\n",
    "\n",
    "        sleep(randint(3,5))\n",
    "\n",
    "    except NoSuchElementException:\n",
    "        print(f\"Element not found {url}\")\n",
    "        break"
   ]
  },
  {
   "cell_type": "code",
   "execution_count": 52,
   "metadata": {},
   "outputs": [],
   "source": [
    "df_groupon_detalle= pd.DataFrame(dicc_groupon_detalle)\n",
    "df_groupon_detalle.to_csv(f'../../data/data_inicial/GROUPON_DETALLE.csv', header=True, index=False)"
   ]
  }
 ],
 "metadata": {
  "kernelspec": {
   "display_name": "Python 3",
   "language": "python",
   "name": "python3"
  },
  "language_info": {
   "codemirror_mode": {
    "name": "ipython",
    "version": 3
   },
   "file_extension": ".py",
   "mimetype": "text/x-python",
   "name": "python",
   "nbconvert_exporter": "python",
   "pygments_lexer": "ipython3",
   "version": "3.9.12"
  },
  "orig_nbformat": 4,
  "vscode": {
   "interpreter": {
    "hash": "1277e85fe6f9c410318b7e83884dd57c4ab3de7df8d2580abfb17d5362efeff9"
   }
  }
 },
 "nbformat": 4,
 "nbformat_minor": 2
}
