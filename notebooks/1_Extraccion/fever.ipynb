{
 "cells": [
  {
   "cell_type": "code",
   "execution_count": 3,
   "metadata": {},
   "outputs": [],
   "source": [
    "import pandas as pd\n",
    "import numpy as np\n",
    "\n",
    "import random\n",
    "from random import randint\n",
    "import string\n",
    "import requests\n",
    "from tqdm import tqdm\n",
    "\n",
    "from time import sleep\n",
    "from selenium import webdriver\n",
    "from bs4 import BeautifulSoup\n",
    "from webdriver_manager.chrome import ChromeDriverManager\n",
    "from selenium.webdriver.common.keys import Keys\n",
    "from selenium.webdriver.chrome.options import Options\n",
    "from selenium.common.exceptions import NoSuchElementException\n",
    "\n",
    "\n",
    "import warnings\n",
    "warnings.filterwarnings('ignore')"
   ]
  },
  {
   "cell_type": "code",
   "execution_count": 4,
   "metadata": {},
   "outputs": [],
   "source": [
    "opciones= Options()\n",
    "opciones.add_experimental_option('excludeSwitches', ['enable-automation'])\n",
    "opciones.add_experimental_option('useAutomationExtension', False)\n",
    "opciones.add_argument('--start-maximized') \n",
    "opciones.add_argument('user.data-dir=selenium') \n",
    "#opciones.add_argument('--incognito')"
   ]
  },
  {
   "attachments": {},
   "cell_type": "markdown",
   "metadata": {},
   "source": [
    "## Extractor Fever Resumen"
   ]
  },
  {
   "cell_type": "code",
   "execution_count": 21,
   "metadata": {},
   "outputs": [
    {
     "name": "stderr",
     "output_type": "stream",
     "text": [
      "  5%|▍         | 46/999 [03:03<1:03:13,  3.98s/it]\n"
     ]
    },
    {
     "name": "stdout",
     "output_type": "stream",
     "text": [
      "Fin conciertos-festivales\n",
      "Element not found 47\n"
     ]
    },
    {
     "name": "stderr",
     "output_type": "stream",
     "text": [
      "  8%|▊         | 78/999 [05:36<1:06:16,  4.32s/it]\n"
     ]
    },
    {
     "name": "stdout",
     "output_type": "stream",
     "text": [
      "Fin cultura-arte-moda\n",
      "Element not found 79\n"
     ]
    },
    {
     "name": "stderr",
     "output_type": "stream",
     "text": [
      "  2%|▏         | 15/999 [01:09<1:15:29,  4.60s/it]\n"
     ]
    },
    {
     "name": "stdout",
     "output_type": "stream",
     "text": [
      "Fin terrazas-y-rooftops\n",
      "Element not found 16\n"
     ]
    },
    {
     "name": "stderr",
     "output_type": "stream",
     "text": [
      "  4%|▍         | 44/999 [02:58<1:04:43,  4.07s/it]\n"
     ]
    },
    {
     "name": "stdout",
     "output_type": "stream",
     "text": [
      "Fin vida-nocturna-clubs\n",
      "Element not found 45\n"
     ]
    },
    {
     "name": "stderr",
     "output_type": "stream",
     "text": [
      "  1%|          | 7/999 [00:29<1:10:34,  4.27s/it]\n"
     ]
    },
    {
     "name": "stdout",
     "output_type": "stream",
     "text": [
      "Fin fabrik\n",
      "Element not found 8\n"
     ]
    },
    {
     "name": "stderr",
     "output_type": "stream",
     "text": [
      "  2%|▏         | 19/999 [01:15<1:05:02,  3.98s/it]\n"
     ]
    },
    {
     "name": "stdout",
     "output_type": "stream",
     "text": [
      "Fin monologos\n",
      "Element not found 20\n"
     ]
    },
    {
     "name": "stderr",
     "output_type": "stream",
     "text": [
      "  0%|          | 4/999 [00:16<1:08:42,  4.14s/it]\n"
     ]
    },
    {
     "name": "stdout",
     "output_type": "stream",
     "text": [
      "Fin parque-atracciones\n",
      "Element not found 5\n"
     ]
    },
    {
     "name": "stderr",
     "output_type": "stream",
     "text": [
      "  4%|▍         | 39/999 [02:39<1:05:27,  4.09s/it]\n"
     ]
    },
    {
     "name": "stdout",
     "output_type": "stream",
     "text": [
      "Fin brunch\n",
      "Element not found 40\n"
     ]
    },
    {
     "name": "stderr",
     "output_type": "stream",
     "text": [
      "  2%|▏         | 19/999 [01:20<1:09:20,  4.25s/it]\n"
     ]
    },
    {
     "name": "stdout",
     "output_type": "stream",
     "text": [
      "Fin deportes-aventura\n",
      "Element not found 20\n"
     ]
    },
    {
     "name": "stderr",
     "output_type": "stream",
     "text": [
      "  1%|          | 5/999 [00:22<1:15:21,  4.55s/it]\n"
     ]
    },
    {
     "name": "stdout",
     "output_type": "stream",
     "text": [
      "Fin teatro-eslava\n",
      "Element not found 6\n"
     ]
    },
    {
     "name": "stderr",
     "output_type": "stream",
     "text": [
      "  1%|          | 9/999 [00:40<1:13:47,  4.47s/it]\n"
     ]
    },
    {
     "name": "stdout",
     "output_type": "stream",
     "text": [
      "Fin musicales\n",
      "Element not found 10\n"
     ]
    },
    {
     "name": "stderr",
     "output_type": "stream",
     "text": [
      "  1%|          | 5/999 [00:16<55:19,  3.34s/it]\n"
     ]
    },
    {
     "name": "stdout",
     "output_type": "stream",
     "text": [
      "Fin exposiciones\n",
      "Element not found 6\n"
     ]
    },
    {
     "name": "stderr",
     "output_type": "stream",
     "text": [
      "  5%|▌         | 51/999 [03:36<1:06:56,  4.24s/it]\n"
     ]
    },
    {
     "name": "stdout",
     "output_type": "stream",
     "text": [
      "Fin actividades-juegos\n",
      "Element not found 52\n"
     ]
    },
    {
     "name": "stderr",
     "output_type": "stream",
     "text": [
      " 20%|██        | 200/999 [13:45<54:57,  4.13s/it]  \n"
     ]
    },
    {
     "name": "stdout",
     "output_type": "stream",
     "text": [
      "Fin gastronomia\n",
      "Element not found 201\n"
     ]
    },
    {
     "name": "stderr",
     "output_type": "stream",
     "text": [
      "  2%|▏         | 24/999 [01:43<1:09:55,  4.30s/it]\n"
     ]
    },
    {
     "name": "stdout",
     "output_type": "stream",
     "text": [
      "Fin cine\n",
      "Element not found 25\n"
     ]
    },
    {
     "name": "stderr",
     "output_type": "stream",
     "text": [
      "  7%|▋         | 72/999 [04:57<1:03:44,  4.13s/it]\n"
     ]
    },
    {
     "name": "stdout",
     "output_type": "stream",
     "text": [
      "Fin bebidas-afterwork\n",
      "Element not found 73\n"
     ]
    },
    {
     "name": "stderr",
     "output_type": "stream",
     "text": [
      "  5%|▌         | 54/999 [03:58<1:09:29,  4.41s/it]\n"
     ]
    },
    {
     "name": "stdout",
     "output_type": "stream",
     "text": [
      "Fin planes-aire-libre\n",
      "Element not found 55\n"
     ]
    },
    {
     "name": "stderr",
     "output_type": "stream",
     "text": [
      "  1%|▏         | 13/999 [00:54<1:09:17,  4.22s/it]\n"
     ]
    },
    {
     "name": "stdout",
     "output_type": "stream",
     "text": [
      "Fin magia-mentalismo\n",
      "Element not found 14\n"
     ]
    },
    {
     "name": "stderr",
     "output_type": "stream",
     "text": [
      "  6%|▋         | 64/999 [04:28<1:05:28,  4.20s/it]\n"
     ]
    },
    {
     "name": "stdout",
     "output_type": "stream",
     "text": [
      "Fin teatro\n",
      "Element not found 65\n"
     ]
    },
    {
     "name": "stderr",
     "output_type": "stream",
     "text": [
      "  0%|          | 0/999 [00:00<?, ?it/s]\n"
     ]
    },
    {
     "name": "stdout",
     "output_type": "stream",
     "text": [
      "Fin museos-galerias-arte\n",
      "Element not found 1\n"
     ]
    },
    {
     "name": "stderr",
     "output_type": "stream",
     "text": [
      "  0%|          | 0/999 [00:00<?, ?it/s]\n"
     ]
    },
    {
     "name": "stdout",
     "output_type": "stream",
     "text": [
      "Fin belleza-bienestar\n",
      "Element not found 1\n"
     ]
    },
    {
     "name": "stderr",
     "output_type": "stream",
     "text": [
      "  1%|          | 5/999 [00:18<1:01:54,  3.74s/it]\n"
     ]
    },
    {
     "name": "stdout",
     "output_type": "stream",
     "text": [
      "Fin autocine\n",
      "Element not found 6\n"
     ]
    },
    {
     "name": "stderr",
     "output_type": "stream",
     "text": [
      "  2%|▏         | 16/999 [01:05<1:07:26,  4.12s/it]\n"
     ]
    },
    {
     "name": "stdout",
     "output_type": "stream",
     "text": [
      "Fin festivales\n",
      "Element not found 17\n"
     ]
    },
    {
     "name": "stderr",
     "output_type": "stream",
     "text": [
      "  0%|          | 3/999 [00:10<58:15,  3.51s/it]  \n"
     ]
    },
    {
     "name": "stdout",
     "output_type": "stream",
     "text": [
      "Fin la-chocita-del-loro\n",
      "Element not found 4\n"
     ]
    },
    {
     "name": "stderr",
     "output_type": "stream",
     "text": [
      "  1%|▏         | 13/999 [00:57<1:13:05,  4.45s/it]\n"
     ]
    },
    {
     "name": "stdout",
     "output_type": "stream",
     "text": [
      "Fin flamenco\n",
      "Element not found 14\n"
     ]
    },
    {
     "name": "stderr",
     "output_type": "stream",
     "text": [
      " 11%|█         | 107/999 [07:17<1:00:49,  4.09s/it]"
     ]
    },
    {
     "name": "stdout",
     "output_type": "stream",
     "text": [
      "Fin teatro-comedia-espectaculos\n",
      "Element not found 108\n"
     ]
    },
    {
     "name": "stderr",
     "output_type": "stream",
     "text": [
      "\n"
     ]
    }
   ],
   "source": [
    "driver = webdriver.Chrome(\"chromedriver.exe\")\n",
    "num_res= list(range(1, 10000))\n",
    "\n",
    "dicc_fever= {\"categoria\" : [],\n",
    "             \"nombre\"    : [],\n",
    "             \"url\"       : [],\n",
    "             \"precio\"    : [],\n",
    "             \"fecha\"     : [],\n",
    "             \"rating\"    : []                              \n",
    "             }\n",
    "\n",
    "categorias= [\"conciertos-festivales\", \n",
    "             \"cultura-arte-moda\", \n",
    "             \"terrazas-y-rooftops\", \n",
    "             \"vida-nocturna-clubs\",\n",
    "             \"fabrik\",\n",
    "             \"monologos\",\n",
    "             \"parque-atracciones\",\n",
    "             \"brunch\",\n",
    "             \"deportes-aventura\",\n",
    "             \"teatro-eslava\",\n",
    "             \"musicales\",\n",
    "             \"exposiciones\",\n",
    "             \"actividades-juegos\",\n",
    "             \"gastronomia\",\n",
    "             \"cine\",\n",
    "             \"bebidas-afterwork\",\n",
    "             \"planes-aire-libre\",\n",
    "             \"magia-mentalismo\",\n",
    "             \"teatro\",\n",
    "             \"museos-galerias-arte\",\n",
    "             \"belleza-bienestar\",\n",
    "             \"autocine\",\n",
    "             \"festivales\",\n",
    "             \"la-chocita-del-loro\",\n",
    "             \"flamenco\",\n",
    "             \"teatro-comedia-espectaculos\"]\n",
    "\n",
    "\n",
    "for categoria in categorias:\n",
    "\n",
    "    driver.get(f\"https://feverup.com/es/madrid/{categoria}\")\n",
    "\n",
    "    try:\n",
    "        driver.find_element(\"xpath\", '//*[@id=\"cookie-advice\"]/button').click()\n",
    "        sleep(7)\n",
    "    except:\n",
    "        pass\n",
    "\n",
    "\n",
    "    for i in tqdm(num_res):\n",
    "        try:\n",
    "\n",
    "            dicc_fever[\"nombre\"].append(driver.find_element(\"xpath\", f'/html/body/app-root/main/div/app-what-plan-filter/div[2]/app-what-plan-filter-list/ul/li[{i}]/app-plan-card/a/div/header/h3').text)\n",
    "            dicc_fever[\"url\"].append(driver.find_element(\"xpath\", f\"/html/body/app-root/main/div/app-what-plan-filter/div[2]/app-what-plan-filter-list/ul/li[{i}]/app-plan-card/a\").get_attribute('href'))\n",
    "            dicc_fever[\"categoria\"].append(categoria)\n",
    "\n",
    "            try:\n",
    "                dicc_fever[\"precio\"].append(driver.find_element(\"xpath\", f\"/html/body/app-root/main/div/app-what-plan-filter/div[2]/app-what-plan-filter-list/ul/li[{i}]/app-plan-card/a/div/footer/div[2]/app-plan-price/div\").text)\n",
    "            except:\n",
    "                dicc_fever[\"precio\"].append(np.nan)\n",
    "\n",
    "            try:\n",
    "                dicc_fever[\"fecha\"].append(driver.find_element(\"xpath\", f\"/html/body/app-root/main/div/app-what-plan-filter/div[2]/app-what-plan-filter-list/ul/li[{i}]/app-plan-card/a/div/header/ul/li\").text)\n",
    "            except:\n",
    "                dicc_fever[\"fecha\"].append(np.nan)\n",
    "\n",
    "            try:\n",
    "                dicc_fever[\"rating\"].append(driver.find_element(\"xpath\", f\"/html/body/app-root/main/div/app-what-plan-filter/div[2]/app-what-plan-filter-list/ul/li[{i}]/app-plan-card/a/div/footer/div[1]/ul/li/app-plan-review-stars/div/span[1]\").text)\n",
    "            except:\n",
    "                dicc_fever[\"rating\"].append(np.nan)\n",
    "\n",
    "            driver.execute_script(\"window.scrollBy(0, 5000);\")\n",
    "            sleep(randint(3,5))\n",
    "\n",
    "        except NoSuchElementException:\n",
    "            print(f\"Fin {categoria}\")\n",
    "            print(f\"Element not found {i}\")\n",
    "            break\n",
    "\n",
    "df_fever= pd.DataFrame(dicc_fever)\n",
    "df_fever.to_csv(f'../../data/data_inicial/FEVER.csv', header=True, index=False)"
   ]
  },
  {
   "attachments": {},
   "cell_type": "markdown",
   "metadata": {},
   "source": [
    "## Extractor Fever Detalle"
   ]
  },
  {
   "cell_type": "code",
   "execution_count": 35,
   "metadata": {},
   "outputs": [],
   "source": [
    "df= pd.read_csv('../../data/data_inicial/FEVER.csv')"
   ]
  },
  {
   "cell_type": "code",
   "execution_count": 36,
   "metadata": {},
   "outputs": [],
   "source": [
    "lista_url=list(df[\"url\"].unique())"
   ]
  },
  {
   "cell_type": "code",
   "execution_count": 31,
   "metadata": {},
   "outputs": [
    {
     "name": "stderr",
     "output_type": "stream",
     "text": [
      "100%|██████████| 494/494 [51:14<00:00,  6.22s/it] \n"
     ]
    }
   ],
   "source": [
    "sopa_ini=[]\n",
    "\n",
    "for url in tqdm(lista_url):\n",
    "    sopa_ini.append(requests.get(url))\n",
    "    sleep(randint(3,7))"
   ]
  },
  {
   "cell_type": "code",
   "execution_count": 32,
   "metadata": {},
   "outputs": [
    {
     "name": "stderr",
     "output_type": "stream",
     "text": [
      "100%|██████████| 494/494 [00:25<00:00, 19.36it/s]\n"
     ]
    }
   ],
   "source": [
    "sopa=[]\n",
    "\n",
    "for s in tqdm(sopa_ini):\n",
    "    sopa.append(BeautifulSoup(s.content, 'html.parser'))"
   ]
  },
  {
   "cell_type": "code",
   "execution_count": null,
   "metadata": {},
   "outputs": [],
   "source": [
    "dicc_fever_detalle= {\"descripcion\":[],\n",
    "                     \"sku\"        :[],\n",
    "                     \"imagen\"     :[],\n",
    "                     \"latitud\"    :[],\n",
    "                     \"longitud\"   :[],\n",
    "                     \"lugar\"      :[]\n",
    "                    }\n",
    "\n",
    "for plan in tqdm(sopa):\n",
    "    try:\n",
    "        description = plan.find('script', {'type': 'application/ld+json'}).string\n",
    "        description_dict = json.loads(description)\n",
    "\n",
    "        try:\n",
    "            description_text = description_dict['description']\n",
    "            descripcion_inicio = description_text.find(\"Descripción\") + len(\"Descripción\")\n",
    "            descripcion_fin = description_text.find(\"sku\") \n",
    "            dicc_fever_detalle[\"descripcion\"].append(description_text[descripcion_inicio:descripcion_fin])\n",
    "        except:\n",
    "            dicc_fever_detalle[\"descripcion\"].append(np.nan)\n",
    "\n",
    "        try:  \n",
    "            dicc_fever_detalle[\"sku\"].append(description_dict['sku'])\n",
    "        except:\n",
    "            dicc_fever_detalle[\"sku\"].append(np.nan)\n",
    "        \n",
    "        try:  \n",
    "            dicc_fever_detalle[\"imagen\"].append(description_dict['image']['contentURL'])\n",
    "        except:\n",
    "            dicc_fever_detalle[\"imagen\"].append(np.nan)\n",
    "\n",
    "        try:  \n",
    "            dicc_fever_detalle[\"latitud\"].append(description_dict['image']['contentLocation']['geo']['latitude'])\n",
    "            dicc_fever_detalle[\"longitud\"].append(description_dict['image']['contentLocation']['geo']['longitude'])\n",
    "        except:\n",
    "            dicc_fever_detalle[\"latitud\"].append(np.nan)\n",
    "            dicc_fever_detalle[\"longitud\"].append(np.nan)\n",
    "\n",
    "        try:  \n",
    "            dicc_fever_detalle[\"lugar\"].append(description_dict['offers'][0]['areaServed']['name'])\n",
    "        except:\n",
    "            dicc_fever_detalle[\"lugar\"].append(np.nan)\n",
    "\n",
    "    except:\n",
    "        pass"
   ]
  },
  {
   "cell_type": "code",
   "execution_count": 186,
   "metadata": {},
   "outputs": [],
   "source": [
    "df_fever_detalle= pd.DataFrame(dicc_fever_detalle)\n",
    "df_fever_detalle.to_csv(f'../../data/data_inicial/FEVER_DETALLE.csv', header=True, index=False)"
   ]
  }
 ],
 "metadata": {
  "kernelspec": {
   "display_name": "Python 3",
   "language": "python",
   "name": "python3"
  },
  "language_info": {
   "codemirror_mode": {
    "name": "ipython",
    "version": 3
   },
   "file_extension": ".py",
   "mimetype": "text/x-python",
   "name": "python",
   "nbconvert_exporter": "python",
   "pygments_lexer": "ipython3",
   "version": "3.9.12"
  },
  "orig_nbformat": 4,
  "vscode": {
   "interpreter": {
    "hash": "1277e85fe6f9c410318b7e83884dd57c4ab3de7df8d2580abfb17d5362efeff9"
   }
  }
 },
 "nbformat": 4,
 "nbformat_minor": 2
}
