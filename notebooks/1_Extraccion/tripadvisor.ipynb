{
 "cells": [
  {
   "cell_type": "code",
   "execution_count": 1,
   "metadata": {},
   "outputs": [],
   "source": [
    "import pandas as pd\n",
    "import numpy as np\n",
    "\n",
    "import random\n",
    "from random import randint\n",
    "import string\n",
    "import requests\n",
    "from tqdm import tqdm\n",
    "\n",
    "from time import sleep\n",
    "from selenium import webdriver\n",
    "from bs4 import BeautifulSoup\n",
    "from webdriver_manager.chrome import ChromeDriverManager\n",
    "from selenium.webdriver.common.keys import Keys\n",
    "from selenium.webdriver.chrome.options import Options\n",
    "from selenium.common.exceptions import NoSuchElementException\n",
    "\n",
    "\n",
    "import warnings\n",
    "warnings.filterwarnings('ignore')"
   ]
  },
  {
   "cell_type": "code",
   "execution_count": 2,
   "metadata": {},
   "outputs": [],
   "source": [
    "opciones= Options()\n",
    "opciones.add_experimental_option('excludeSwitches', ['enable-automation'])\n",
    "opciones.add_experimental_option('useAutomationExtension', False)\n",
    "opciones.add_argument('--start-maximized') \n",
    "opciones.add_argument('user.data-dir=selenium') \n",
    "#opciones.add_argument('--incognito')"
   ]
  },
  {
   "attachments": {},
   "cell_type": "markdown",
   "metadata": {},
   "source": [
    "## Extractor Tripadvisor detalle"
   ]
  },
  {
   "cell_type": "code",
   "execution_count": 10,
   "metadata": {},
   "outputs": [],
   "source": [
    "df= pd.read_csv('../../data/data_inicial/TRIPADVISOR_URL.csv')"
   ]
  },
  {
   "cell_type": "code",
   "execution_count": 25,
   "metadata": {},
   "outputs": [],
   "source": [
    "lista_url=list(df[\"url\"].unique())"
   ]
  },
  {
   "cell_type": "code",
   "execution_count": 32,
   "metadata": {},
   "outputs": [],
   "source": [
    "dicc_trip=  {\"url\"          : [],\n",
    "             \"coordenadas\"  : [],\n",
    "             \"imagen\"       : []                             \n",
    "             }"
   ]
  },
  {
   "cell_type": "code",
   "execution_count": 33,
   "metadata": {},
   "outputs": [
    {
     "name": "stderr",
     "output_type": "stream",
     "text": [
      "  9%|▉         | 291/3233 [24:33<3:59:29,  4.88s/it]"
     ]
    },
    {
     "name": "stdout",
     "output_type": "stream",
     "text": [
      "no coordenadas https://www.tripadvisor.es/Restaurant_Review-g187514-d1496002-Reviews-El_Rincon_de_Esteban-Madrid.html\n"
     ]
    },
    {
     "name": "stderr",
     "output_type": "stream",
     "text": [
      "  9%|▉         | 293/3233 [24:45<4:26:14,  5.43s/it]"
     ]
    },
    {
     "name": "stdout",
     "output_type": "stream",
     "text": [
      "no coordenadas https://www.tripadvisor.es/Restaurant_Review-g187514-d2073662-Reviews-Carmencita_Brunch-Madrid.html\n"
     ]
    },
    {
     "name": "stderr",
     "output_type": "stream",
     "text": [
      " 11%|█         | 343/3233 [28:59<3:27:21,  4.31s/it]"
     ]
    },
    {
     "name": "stdout",
     "output_type": "stream",
     "text": [
      "no coordenadas https://www.tripadvisor.es/Restaurant_Review-g187514-d8738363-Reviews-Yugo_The_Bunker-Madrid.html\n"
     ]
    },
    {
     "name": "stderr",
     "output_type": "stream",
     "text": [
      " 12%|█▏        | 385/3233 [32:23<4:15:43,  5.39s/it]"
     ]
    },
    {
     "name": "stdout",
     "output_type": "stream",
     "text": [
      "no coordenadas https://www.tripadvisor.es/Restaurant_Review-g187514-d23898311-Reviews-Riokinho_Brazilian_Nikkei_Sushi_Bar-Madrid.html\n"
     ]
    },
    {
     "name": "stderr",
     "output_type": "stream",
     "text": [
      " 13%|█▎        | 434/3233 [36:11<3:40:06,  4.72s/it]"
     ]
    },
    {
     "name": "stdout",
     "output_type": "stream",
     "text": [
      "no coordenadas https://www.tripadvisor.es/Restaurant_Review-g187514-d17370530-Reviews-Pante_Cucina_Siciliana-Madrid.html\n"
     ]
    },
    {
     "name": "stderr",
     "output_type": "stream",
     "text": [
      " 15%|█▍        | 477/3233 [39:52<4:06:49,  5.37s/it]"
     ]
    },
    {
     "name": "stdout",
     "output_type": "stream",
     "text": [
      "no coordenadas https://www.tripadvisor.es/Restaurant_Review-g187514-d7718507-Reviews-El_Rincon_de_los_Cuates-Madrid.html\n"
     ]
    },
    {
     "name": "stderr",
     "output_type": "stream",
     "text": [
      " 19%|█▉        | 626/3233 [52:30<3:23:04,  4.67s/it]"
     ]
    },
    {
     "name": "stdout",
     "output_type": "stream",
     "text": [
      "no coordenadas https://www.tripadvisor.es/Restaurant_Review-g187514-d8603314-Reviews-GOFIO-Madrid.html\n"
     ]
    },
    {
     "name": "stderr",
     "output_type": "stream",
     "text": [
      " 22%|██▏       | 712/3233 [59:38<3:41:50,  5.28s/it]"
     ]
    },
    {
     "name": "stdout",
     "output_type": "stream",
     "text": [
      "no coordenadas https://www.tripadvisor.es/Restaurant_Review-g187514-d2490063-Reviews-O_Caldino-Madrid.html\n"
     ]
    },
    {
     "name": "stderr",
     "output_type": "stream",
     "text": [
      " 23%|██▎       | 736/3233 [1:01:32<3:04:42,  4.44s/it]"
     ]
    },
    {
     "name": "stdout",
     "output_type": "stream",
     "text": [
      "no coordenadas https://www.tripadvisor.es/Restaurant_Review-g187514-d7285775-Reviews-Tapas_Mas-Madrid.html\n"
     ]
    },
    {
     "name": "stderr",
     "output_type": "stream",
     "text": [
      " 25%|██▌       | 821/3233 [1:08:38<3:31:26,  5.26s/it]"
     ]
    },
    {
     "name": "stdout",
     "output_type": "stream",
     "text": [
      "no coordenadas https://www.tripadvisor.es/Restaurant_Review-g187514-d21291648-Reviews-Tempus_Restaurante-Madrid.html\n"
     ]
    },
    {
     "name": "stderr",
     "output_type": "stream",
     "text": [
      " 28%|██▊       | 893/3233 [1:14:44<2:52:25,  4.42s/it]"
     ]
    },
    {
     "name": "stdout",
     "output_type": "stream",
     "text": [
      "no coordenadas https://www.tripadvisor.es/Restaurant_Review-g187514-d3138697-Reviews-Restaurante_San_Francisco-Madrid.html\n"
     ]
    },
    {
     "name": "stderr",
     "output_type": "stream",
     "text": [
      " 30%|██▉       | 962/3233 [1:20:41<2:48:14,  4.44s/it]"
     ]
    },
    {
     "name": "stdout",
     "output_type": "stream",
     "text": [
      "no coordenadas https://www.tripadvisor.es/Restaurant_Review-g187514-d15770954-Reviews-La_Tasca_Del_Retiro-Madrid.html\n"
     ]
    },
    {
     "name": "stderr",
     "output_type": "stream",
     "text": [
      " 30%|███       | 982/3233 [1:22:18<2:51:28,  4.57s/it]"
     ]
    },
    {
     "name": "stdout",
     "output_type": "stream",
     "text": [
      "no coordenadas https://www.tripadvisor.es/Restaurant_Review-g187514-d23800273-Reviews-Zuma_Madrid-Madrid.html\n"
     ]
    },
    {
     "name": "stderr",
     "output_type": "stream",
     "text": [
      " 31%|███       | 993/3233 [1:23:11<2:47:39,  4.49s/it]"
     ]
    },
    {
     "name": "stdout",
     "output_type": "stream",
     "text": [
      "no coordenadas https://www.tripadvisor.es/Restaurant_Review-g187514-d23914314-Reviews-Caro_Club-Madrid.html\n"
     ]
    },
    {
     "name": "stderr",
     "output_type": "stream",
     "text": [
      " 31%|███       | 1009/3233 [1:24:36<3:13:58,  5.23s/it]"
     ]
    },
    {
     "name": "stdout",
     "output_type": "stream",
     "text": [
      "no coordenadas https://www.tripadvisor.es/Restaurant_Review-g187514-d9785222-Reviews-Shuwa_Shuwa-Madrid.html\n"
     ]
    },
    {
     "name": "stderr",
     "output_type": "stream",
     "text": [
      " 34%|███▍      | 1105/3233 [1:32:57<3:33:28,  6.02s/it]"
     ]
    },
    {
     "name": "stdout",
     "output_type": "stream",
     "text": [
      "no coordenadas https://www.tripadvisor.es/Restaurant_Review-g187514-d8591815-Reviews-Thani_Cevicheria-Madrid.html\n"
     ]
    },
    {
     "name": "stderr",
     "output_type": "stream",
     "text": [
      " 34%|███▍      | 1106/3233 [1:33:03<3:33:34,  6.02s/it]"
     ]
    },
    {
     "name": "stdout",
     "output_type": "stream",
     "text": [
      "no coordenadas https://www.tripadvisor.es/Restaurant_Review-g187514-d697525-Reviews-El_Botanico-Madrid.html\n"
     ]
    },
    {
     "name": "stderr",
     "output_type": "stream",
     "text": [
      " 36%|███▌      | 1149/3233 [1:36:43<2:59:00,  5.15s/it]"
     ]
    },
    {
     "name": "stdout",
     "output_type": "stream",
     "text": [
      "no coordenadas https://www.tripadvisor.es/Restaurant_Review-g187514-d19113448-Reviews-Las_Muns_Calle_Mayor-Madrid.html\n"
     ]
    },
    {
     "name": "stderr",
     "output_type": "stream",
     "text": [
      " 39%|███▉      | 1269/3233 [1:46:31<2:24:42,  4.42s/it]"
     ]
    },
    {
     "name": "stdout",
     "output_type": "stream",
     "text": [
      "no coordenadas https://www.tripadvisor.es/Restaurant_Review-g187514-d23990630-Reviews-La_Milanese_Madrid-Madrid.html\n"
     ]
    },
    {
     "name": "stderr",
     "output_type": "stream",
     "text": [
      " 41%|████▏     | 1336/3233 [1:52:10<2:48:13,  5.32s/it]"
     ]
    },
    {
     "name": "stdout",
     "output_type": "stream",
     "text": [
      "no coordenadas https://www.tripadvisor.es/Restaurant_Review-g187514-d24166265-Reviews-Nunuka_Bistrot_de_Georgia-Madrid.html\n"
     ]
    },
    {
     "name": "stderr",
     "output_type": "stream",
     "text": [
      " 42%|████▏     | 1342/3233 [1:52:42<2:38:45,  5.04s/it]"
     ]
    },
    {
     "name": "stdout",
     "output_type": "stream",
     "text": [
      "no coordenadas https://www.tripadvisor.es/Restaurant_Review-g187514-d25090838-Reviews-La_Villa_del_Narcea-Madrid.html\n"
     ]
    },
    {
     "name": "stderr",
     "output_type": "stream",
     "text": [
      " 43%|████▎     | 1381/3233 [1:56:02<2:37:42,  5.11s/it]"
     ]
    },
    {
     "name": "stdout",
     "output_type": "stream",
     "text": [
      "no coordenadas https://www.tripadvisor.es/Restaurant_Review-g187514-d11960938-Reviews-Bodegas_Rivas-Madrid.html\n"
     ]
    },
    {
     "name": "stderr",
     "output_type": "stream",
     "text": [
      " 44%|████▎     | 1407/3233 [1:58:08<2:44:51,  5.42s/it]"
     ]
    },
    {
     "name": "stdout",
     "output_type": "stream",
     "text": [
      "no coordenadas https://www.tripadvisor.es/Restaurant_Review-g187514-d15851513-Reviews-Urban_Green_Organic_Market-Madrid.html\n"
     ]
    },
    {
     "name": "stderr",
     "output_type": "stream",
     "text": [
      " 44%|████▎     | 1408/3233 [1:58:13<2:41:50,  5.32s/it]"
     ]
    },
    {
     "name": "stdout",
     "output_type": "stream",
     "text": [
      "no coordenadas https://www.tripadvisor.es/Restaurant_Review-g187514-d21363822-Reviews-Papua-Madrid.html\n"
     ]
    },
    {
     "name": "stderr",
     "output_type": "stream",
     "text": [
      " 44%|████▎     | 1409/3233 [1:58:17<2:29:50,  4.93s/it]"
     ]
    },
    {
     "name": "stdout",
     "output_type": "stream",
     "text": [
      "no coordenadas https://www.tripadvisor.es/Restaurant_Review-g187514-d9592633-Reviews-La_Cana_de_Gonzalo-Madrid.html\n"
     ]
    },
    {
     "name": "stderr",
     "output_type": "stream",
     "text": [
      " 44%|████▎     | 1410/3233 [1:58:21<2:21:10,  4.65s/it]"
     ]
    },
    {
     "name": "stdout",
     "output_type": "stream",
     "text": [
      "no coordenadas https://www.tripadvisor.es/Restaurant_Review-g187514-d7995790-Reviews-Kiev_Taberna-Madrid.html\n"
     ]
    },
    {
     "name": "stderr",
     "output_type": "stream",
     "text": [
      " 44%|████▎     | 1411/3233 [1:58:27<2:30:22,  4.95s/it]"
     ]
    },
    {
     "name": "stdout",
     "output_type": "stream",
     "text": [
      "no coordenadas https://www.tripadvisor.es/Restaurant_Review-g187514-d8412133-Reviews-LA_FACTORIA_DE_PONZANO-Madrid.html\n"
     ]
    },
    {
     "name": "stderr",
     "output_type": "stream",
     "text": [
      " 44%|████▎     | 1412/3233 [1:58:32<2:31:21,  4.99s/it]"
     ]
    },
    {
     "name": "stdout",
     "output_type": "stream",
     "text": [
      "no coordenadas https://www.tripadvisor.es/Restaurant_Review-g187514-d8795076-Reviews-Tubarro_3-Madrid.html\n"
     ]
    },
    {
     "name": "stderr",
     "output_type": "stream",
     "text": [
      " 44%|████▎     | 1413/3233 [1:58:38<2:38:18,  5.22s/it]"
     ]
    },
    {
     "name": "stdout",
     "output_type": "stream",
     "text": [
      "no coordenadas https://www.tripadvisor.es/Restaurant_Review-g187514-d12481660-Reviews-The_Shaker_Music_Cocktail_Bar-Madrid.html\n"
     ]
    },
    {
     "name": "stderr",
     "output_type": "stream",
     "text": [
      " 44%|████▎     | 1414/3233 [1:58:42<2:34:01,  5.08s/it]"
     ]
    },
    {
     "name": "stdout",
     "output_type": "stream",
     "text": [
      "no coordenadas https://www.tripadvisor.es/Restaurant_Review-g187514-d15602434-Reviews-Boanerges-Madrid.html\n"
     ]
    },
    {
     "name": "stderr",
     "output_type": "stream",
     "text": [
      " 44%|████▍     | 1415/3233 [1:58:48<2:39:11,  5.25s/it]"
     ]
    },
    {
     "name": "stdout",
     "output_type": "stream",
     "text": [
      "no coordenadas https://www.tripadvisor.es/Restaurant_Review-g187514-d25224425-Reviews-Escalaz_Burgers-Madrid.html\n"
     ]
    },
    {
     "name": "stderr",
     "output_type": "stream",
     "text": [
      " 44%|████▍     | 1416/3233 [1:58:52<2:31:03,  4.99s/it]"
     ]
    },
    {
     "name": "stdout",
     "output_type": "stream",
     "text": [
      "no coordenadas https://www.tripadvisor.es/Restaurant_Review-g187514-d1140916-Reviews-La_Tia_Cebolla-Madrid.html\n"
     ]
    },
    {
     "name": "stderr",
     "output_type": "stream",
     "text": [
      " 44%|████▍     | 1417/3233 [1:58:56<2:20:46,  4.65s/it]"
     ]
    },
    {
     "name": "stdout",
     "output_type": "stream",
     "text": [
      "no coordenadas https://www.tripadvisor.es/Restaurant_Review-g187514-d10537028-Reviews-Restaurante_Rayal-Madrid.html\n"
     ]
    },
    {
     "name": "stderr",
     "output_type": "stream",
     "text": [
      " 44%|████▍     | 1418/3233 [1:59:02<2:33:54,  5.09s/it]"
     ]
    },
    {
     "name": "stdout",
     "output_type": "stream",
     "text": [
      "no coordenadas https://www.tripadvisor.es/Restaurant_Review-g187514-d21359958-Reviews-Nomo_Braganza-Madrid.html\n"
     ]
    },
    {
     "name": "stderr",
     "output_type": "stream",
     "text": [
      " 44%|████▍     | 1419/3233 [1:59:07<2:29:36,  4.95s/it]"
     ]
    },
    {
     "name": "stdout",
     "output_type": "stream",
     "text": [
      "no coordenadas https://www.tripadvisor.es/Restaurant_Review-g187514-d2723636-Reviews-Casa_Pello-Madrid.html\n"
     ]
    },
    {
     "name": "stderr",
     "output_type": "stream",
     "text": [
      " 44%|████▍     | 1420/3233 [1:59:13<2:36:58,  5.19s/it]"
     ]
    },
    {
     "name": "stdout",
     "output_type": "stream",
     "text": [
      "no coordenadas https://www.tripadvisor.es/Restaurant_Review-g187514-d4551223-Reviews-La_playa_de_lavapies-Madrid.html\n"
     ]
    },
    {
     "name": "stderr",
     "output_type": "stream",
     "text": [
      " 44%|████▍     | 1421/3233 [1:59:18<2:39:19,  5.28s/it]"
     ]
    },
    {
     "name": "stdout",
     "output_type": "stream",
     "text": [
      "no coordenadas https://www.tripadvisor.es/Restaurant_Review-g187514-d9866607-Reviews-Mi_Tasquita-Madrid.html\n"
     ]
    },
    {
     "name": "stderr",
     "output_type": "stream",
     "text": [
      " 44%|████▍     | 1422/3233 [1:59:23<2:33:40,  5.09s/it]"
     ]
    },
    {
     "name": "stdout",
     "output_type": "stream",
     "text": [
      "no coordenadas https://www.tripadvisor.es/Restaurant_Review-g187514-d12609794-Reviews-Marisqueria_Poseidon-Madrid.html\n"
     ]
    },
    {
     "name": "stderr",
     "output_type": "stream",
     "text": [
      " 44%|████▍     | 1423/3233 [1:59:27<2:22:22,  4.72s/it]"
     ]
    },
    {
     "name": "stdout",
     "output_type": "stream",
     "text": [
      "no coordenadas https://www.tripadvisor.es/Restaurant_Review-g187514-d6848021-Reviews-Tonda-Madrid.html\n"
     ]
    },
    {
     "name": "stderr",
     "output_type": "stream",
     "text": [
      " 44%|████▍     | 1424/3233 [1:59:30<2:11:27,  4.36s/it]"
     ]
    },
    {
     "name": "stdout",
     "output_type": "stream",
     "text": [
      "no coordenadas https://www.tripadvisor.es/Restaurant_Review-g187514-d6945377-Reviews-Oam_Thong_Sanuk-Madrid.html\n"
     ]
    },
    {
     "name": "stderr",
     "output_type": "stream",
     "text": [
      " 44%|████▍     | 1425/3233 [1:59:36<2:26:48,  4.87s/it]"
     ]
    },
    {
     "name": "stdout",
     "output_type": "stream",
     "text": [
      "no coordenadas https://www.tripadvisor.es/Restaurant_Review-g187514-d15670124-Reviews-Revoltosa_Prado-Madrid.html\n"
     ]
    },
    {
     "name": "stderr",
     "output_type": "stream",
     "text": [
      " 44%|████▍     | 1426/3233 [1:59:40<2:17:51,  4.58s/it]"
     ]
    },
    {
     "name": "stdout",
     "output_type": "stream",
     "text": [
      "no coordenadas https://www.tripadvisor.es/Restaurant_Review-g187514-d19393229-Reviews-Flavia_de_Chamberi-Madrid.html\n"
     ]
    },
    {
     "name": "stderr",
     "output_type": "stream",
     "text": [
      " 44%|████▍     | 1427/3233 [1:59:44<2:10:19,  4.33s/it]"
     ]
    },
    {
     "name": "stdout",
     "output_type": "stream",
     "text": [
      "no coordenadas https://www.tripadvisor.es/Restaurant_Review-g187514-d991054-Reviews-Das_Meigas-Madrid.html\n"
     ]
    },
    {
     "name": "stderr",
     "output_type": "stream",
     "text": [
      " 44%|████▍     | 1428/3233 [1:59:50<2:25:04,  4.82s/it]"
     ]
    },
    {
     "name": "stdout",
     "output_type": "stream",
     "text": [
      "no coordenadas https://www.tripadvisor.es/Restaurant_Review-g187514-d10358029-Reviews-Noname_Bar-Madrid.html\n"
     ]
    },
    {
     "name": "stderr",
     "output_type": "stream",
     "text": [
      " 44%|████▍     | 1429/3233 [1:59:56<2:36:22,  5.20s/it]"
     ]
    },
    {
     "name": "stdout",
     "output_type": "stream",
     "text": [
      "no coordenadas https://www.tripadvisor.es/Restaurant_Review-g187514-d18921625-Reviews-Convexo-Madrid.html\n"
     ]
    },
    {
     "name": "stderr",
     "output_type": "stream",
     "text": [
      " 44%|████▍     | 1430/3233 [2:00:01<2:37:52,  5.25s/it]"
     ]
    },
    {
     "name": "stdout",
     "output_type": "stream",
     "text": [
      "no coordenadas https://www.tripadvisor.es/Restaurant_Review-g187514-d9711619-Reviews-Sabor_Sichuan-Madrid.html\n"
     ]
    },
    {
     "name": "stderr",
     "output_type": "stream",
     "text": [
      " 44%|████▍     | 1431/3233 [2:00:08<2:49:56,  5.66s/it]"
     ]
    },
    {
     "name": "stdout",
     "output_type": "stream",
     "text": [
      "no coordenadas https://www.tripadvisor.es/Restaurant_Review-g187514-d5618007-Reviews-Juanyta_ME_MATA-Madrid.html\n"
     ]
    },
    {
     "name": "stderr",
     "output_type": "stream",
     "text": [
      " 44%|████▍     | 1432/3233 [2:00:14<2:52:02,  5.73s/it]"
     ]
    },
    {
     "name": "stdout",
     "output_type": "stream",
     "text": [
      "no coordenadas https://www.tripadvisor.es/Restaurant_Review-g187514-d21307118-Reviews-Restaurante_Atocha_107-Madrid.html\n"
     ]
    },
    {
     "name": "stderr",
     "output_type": "stream",
     "text": [
      " 44%|████▍     | 1433/3233 [2:00:19<2:49:48,  5.66s/it]"
     ]
    },
    {
     "name": "stdout",
     "output_type": "stream",
     "text": [
      "no coordenadas https://www.tripadvisor.es/Restaurant_Review-g187514-d10207312-Reviews-Roll_Station-Madrid.html\n"
     ]
    },
    {
     "name": "stderr",
     "output_type": "stream",
     "text": [
      " 44%|████▍     | 1434/3233 [2:00:26<2:55:16,  5.85s/it]"
     ]
    },
    {
     "name": "stdout",
     "output_type": "stream",
     "text": [
      "no coordenadas https://www.tripadvisor.es/Restaurant_Review-g187514-d10475850-Reviews-Ciao_Amore-Madrid.html\n"
     ]
    },
    {
     "name": "stderr",
     "output_type": "stream",
     "text": [
      " 44%|████▍     | 1435/3233 [2:00:31<2:54:05,  5.81s/it]"
     ]
    },
    {
     "name": "stdout",
     "output_type": "stream",
     "text": [
      "no coordenadas https://www.tripadvisor.es/Restaurant_Review-g187514-d17794394-Reviews-Sombrero_en_Ascuas-Madrid.html\n"
     ]
    },
    {
     "name": "stderr",
     "output_type": "stream",
     "text": [
      " 44%|████▍     | 1436/3233 [2:00:39<3:05:46,  6.20s/it]"
     ]
    },
    {
     "name": "stdout",
     "output_type": "stream",
     "text": [
      "no coordenadas https://www.tripadvisor.es/Restaurant_Review-g187514-d8487175-Reviews-Nouba-Madrid.html\n"
     ]
    },
    {
     "name": "stderr",
     "output_type": "stream",
     "text": [
      " 44%|████▍     | 1437/3233 [2:00:44<2:57:32,  5.93s/it]"
     ]
    },
    {
     "name": "stdout",
     "output_type": "stream",
     "text": [
      "no coordenadas https://www.tripadvisor.es/Restaurant_Review-g187514-d3171300-Reviews-La_Cana-Madrid.html\n"
     ]
    },
    {
     "name": "stderr",
     "output_type": "stream",
     "text": [
      " 44%|████▍     | 1438/3233 [2:00:49<2:48:32,  5.63s/it]"
     ]
    },
    {
     "name": "stdout",
     "output_type": "stream",
     "text": [
      "no coordenadas https://www.tripadvisor.es/Restaurant_Review-g187514-d18893804-Reviews-Lacabia_Chamberi-Madrid.html\n"
     ]
    },
    {
     "name": "stderr",
     "output_type": "stream",
     "text": [
      " 45%|████▍     | 1439/3233 [2:00:55<2:54:16,  5.83s/it]"
     ]
    },
    {
     "name": "stdout",
     "output_type": "stream",
     "text": [
      "no coordenadas https://www.tripadvisor.es/Restaurant_Review-g187514-d12250560-Reviews-Robin_Hood-Madrid.html\n"
     ]
    },
    {
     "name": "stderr",
     "output_type": "stream",
     "text": [
      " 45%|████▍     | 1440/3233 [2:01:00<2:48:01,  5.62s/it]"
     ]
    },
    {
     "name": "stdout",
     "output_type": "stream",
     "text": [
      "no coordenadas https://www.tripadvisor.es/Restaurant_Review-g187514-d13093509-Reviews-Restoran_Zampa_Late_Dinner-Madrid.html\n"
     ]
    },
    {
     "name": "stderr",
     "output_type": "stream",
     "text": [
      " 45%|████▍     | 1441/3233 [2:01:05<2:42:21,  5.44s/it]"
     ]
    },
    {
     "name": "stdout",
     "output_type": "stream",
     "text": [
      "no coordenadas https://www.tripadvisor.es/Restaurant_Review-g187514-d15288078-Reviews-La_heroica-Madrid.html\n"
     ]
    },
    {
     "name": "stderr",
     "output_type": "stream",
     "text": [
      " 45%|████▍     | 1442/3233 [2:01:10<2:38:12,  5.30s/it]"
     ]
    },
    {
     "name": "stdout",
     "output_type": "stream",
     "text": [
      "no coordenadas https://www.tripadvisor.es/Restaurant_Review-g187514-d21956101-Reviews-Limbo_Bernabeu-Madrid.html\n"
     ]
    },
    {
     "name": "stderr",
     "output_type": "stream",
     "text": [
      " 45%|████▍     | 1443/3233 [2:01:15<2:37:32,  5.28s/it]"
     ]
    },
    {
     "name": "stdout",
     "output_type": "stream",
     "text": [
      "no coordenadas https://www.tripadvisor.es/Restaurant_Review-g187514-d991769-Reviews-Casa_Adolfo-Madrid.html\n"
     ]
    },
    {
     "name": "stderr",
     "output_type": "stream",
     "text": [
      " 45%|████▍     | 1444/3233 [2:01:21<2:42:00,  5.43s/it]"
     ]
    },
    {
     "name": "stdout",
     "output_type": "stream",
     "text": [
      "no coordenadas https://www.tripadvisor.es/Restaurant_Review-g187514-d21956112-Reviews-Lamucca_de_Andes_Organik_Parriya-Madrid.html\n"
     ]
    },
    {
     "name": "stderr",
     "output_type": "stream",
     "text": [
      " 45%|████▍     | 1445/3233 [2:01:27<2:47:04,  5.61s/it]"
     ]
    },
    {
     "name": "stdout",
     "output_type": "stream",
     "text": [
      "no coordenadas https://www.tripadvisor.es/Restaurant_Review-g187514-d14080050-Reviews-TAM_COC-Madrid.html\n"
     ]
    },
    {
     "name": "stderr",
     "output_type": "stream",
     "text": [
      " 45%|████▍     | 1446/3233 [2:01:33<2:52:12,  5.78s/it]"
     ]
    },
    {
     "name": "stdout",
     "output_type": "stream",
     "text": [
      "no coordenadas https://www.tripadvisor.es/Restaurant_Review-g187514-d13387969-Reviews-Parada_36-Madrid.html\n"
     ]
    },
    {
     "name": "stderr",
     "output_type": "stream",
     "text": [
      " 45%|████▍     | 1447/3233 [2:01:39<2:54:20,  5.86s/it]"
     ]
    },
    {
     "name": "stdout",
     "output_type": "stream",
     "text": [
      "no coordenadas https://www.tripadvisor.es/Restaurant_Review-g187514-d12368372-Reviews-Palike-Madrid.html\n"
     ]
    },
    {
     "name": "stderr",
     "output_type": "stream",
     "text": [
      " 45%|████▍     | 1448/3233 [2:01:44<2:43:42,  5.50s/it]"
     ]
    },
    {
     "name": "stdout",
     "output_type": "stream",
     "text": [
      "no coordenadas https://www.tripadvisor.es/Restaurant_Review-g187514-d13279018-Reviews-Flamingo_Rock-Madrid.html\n"
     ]
    },
    {
     "name": "stderr",
     "output_type": "stream",
     "text": [
      " 45%|████▍     | 1449/3233 [2:01:51<2:53:25,  5.83s/it]"
     ]
    },
    {
     "name": "stdout",
     "output_type": "stream",
     "text": [
      "no coordenadas https://www.tripadvisor.es/Restaurant_Review-g187514-d23026323-Reviews-El_Gran_Cantabrico-Madrid.html\n"
     ]
    },
    {
     "name": "stderr",
     "output_type": "stream",
     "text": [
      " 45%|████▍     | 1450/3233 [2:01:56<2:51:51,  5.78s/it]"
     ]
    },
    {
     "name": "stdout",
     "output_type": "stream",
     "text": [
      "no coordenadas https://www.tripadvisor.es/Restaurant_Review-g187514-d9713443-Reviews-32_Azca-Madrid.html\n"
     ]
    },
    {
     "name": "stderr",
     "output_type": "stream",
     "text": [
      " 45%|████▍     | 1451/3233 [2:02:01<2:44:23,  5.54s/it]"
     ]
    },
    {
     "name": "stdout",
     "output_type": "stream",
     "text": [
      "no coordenadas https://www.tripadvisor.es/Restaurant_Review-g187514-d19652844-Reviews-Bar_Los_Titos-Madrid.html\n"
     ]
    },
    {
     "name": "stderr",
     "output_type": "stream",
     "text": [
      " 45%|████▍     | 1452/3233 [2:02:07<2:46:12,  5.60s/it]"
     ]
    },
    {
     "name": "stdout",
     "output_type": "stream",
     "text": [
      "no coordenadas https://www.tripadvisor.es/Restaurant_Review-g187514-d717305-Reviews-La_Trucha-Madrid.html\n"
     ]
    },
    {
     "name": "stderr",
     "output_type": "stream",
     "text": [
      " 45%|████▍     | 1453/3233 [2:02:13<2:48:54,  5.69s/it]"
     ]
    },
    {
     "name": "stdout",
     "output_type": "stream",
     "text": [
      "no coordenadas https://www.tripadvisor.es/Restaurant_Review-g187514-d21328128-Reviews-Mama_uma-Madrid.html\n"
     ]
    },
    {
     "name": "stderr",
     "output_type": "stream",
     "text": [
      " 45%|████▍     | 1454/3233 [2:02:20<3:03:08,  6.18s/it]"
     ]
    },
    {
     "name": "stdout",
     "output_type": "stream",
     "text": [
      "no coordenadas https://www.tripadvisor.es/Restaurant_Review-g187514-d16797495-Reviews-Shaka_Poke_Bar-Madrid.html\n"
     ]
    },
    {
     "name": "stderr",
     "output_type": "stream",
     "text": [
      " 45%|████▌     | 1455/3233 [2:02:25<2:52:29,  5.82s/it]"
     ]
    },
    {
     "name": "stdout",
     "output_type": "stream",
     "text": [
      "no coordenadas https://www.tripadvisor.es/Restaurant_Review-g187514-d3707563-Reviews-Los_Quesos_de_L_Amelie-Madrid.html\n"
     ]
    },
    {
     "name": "stderr",
     "output_type": "stream",
     "text": [
      " 45%|████▌     | 1456/3233 [2:02:32<3:00:04,  6.08s/it]"
     ]
    },
    {
     "name": "stdout",
     "output_type": "stream",
     "text": [
      "no coordenadas https://www.tripadvisor.es/Restaurant_Review-g187514-d9981025-Reviews-La_Quimera_de_Sanjo-Madrid.html\n"
     ]
    },
    {
     "name": "stderr",
     "output_type": "stream",
     "text": [
      " 45%|████▌     | 1457/3233 [2:02:36<2:40:19,  5.42s/it]"
     ]
    },
    {
     "name": "stdout",
     "output_type": "stream",
     "text": [
      "no coordenadas https://www.tripadvisor.es/Restaurant_Review-g187514-d7624833-Reviews-VIPS_Plaza_de_Espana-Madrid.html\n"
     ]
    },
    {
     "name": "stderr",
     "output_type": "stream",
     "text": [
      " 45%|████▌     | 1458/3233 [2:02:40<2:25:23,  4.91s/it]"
     ]
    },
    {
     "name": "stdout",
     "output_type": "stream",
     "text": [
      "no coordenadas https://www.tripadvisor.es/Restaurant_Review-g187514-d12511245-Reviews-Tequenos_Que_Molan-Madrid.html\n"
     ]
    },
    {
     "name": "stderr",
     "output_type": "stream",
     "text": [
      " 45%|████▌     | 1459/3233 [2:02:44<2:19:10,  4.71s/it]"
     ]
    },
    {
     "name": "stdout",
     "output_type": "stream",
     "text": [
      "no coordenadas https://www.tripadvisor.es/Restaurant_Review-g187514-d9818612-Reviews-Bodega_Amistad-Madrid.html\n"
     ]
    },
    {
     "name": "stderr",
     "output_type": "stream",
     "text": [
      " 45%|████▌     | 1460/3233 [2:02:48<2:18:12,  4.68s/it]"
     ]
    },
    {
     "name": "stdout",
     "output_type": "stream",
     "text": [
      "no coordenadas https://www.tripadvisor.es/Restaurant_Review-g187514-d21387592-Reviews-La_Turulita-Madrid.html\n"
     ]
    },
    {
     "name": "stderr",
     "output_type": "stream",
     "text": [
      " 45%|████▌     | 1461/3233 [2:02:54<2:21:18,  4.78s/it]"
     ]
    },
    {
     "name": "stdout",
     "output_type": "stream",
     "text": [
      "no coordenadas https://www.tripadvisor.es/Restaurant_Review-g187514-d1819790-Reviews-UDON_Chueca-Madrid.html\n"
     ]
    },
    {
     "name": "stderr",
     "output_type": "stream",
     "text": [
      " 45%|████▌     | 1462/3233 [2:03:00<2:32:18,  5.16s/it]"
     ]
    },
    {
     "name": "stdout",
     "output_type": "stream",
     "text": [
      "no coordenadas https://www.tripadvisor.es/Restaurant_Review-g187514-d23137507-Reviews-Can_Bonet-Madrid.html\n"
     ]
    },
    {
     "name": "stderr",
     "output_type": "stream",
     "text": [
      " 45%|████▌     | 1463/3233 [2:03:06<2:41:41,  5.48s/it]"
     ]
    },
    {
     "name": "stdout",
     "output_type": "stream",
     "text": [
      "no coordenadas https://www.tripadvisor.es/Restaurant_Review-g187514-d14913693-Reviews-Tasty_Poke_Bar-Madrid.html\n"
     ]
    },
    {
     "name": "stderr",
     "output_type": "stream",
     "text": [
      " 45%|████▌     | 1464/3233 [2:03:10<2:28:10,  5.03s/it]"
     ]
    },
    {
     "name": "stdout",
     "output_type": "stream",
     "text": [
      "no coordenadas https://www.tripadvisor.es/Restaurant_Review-g187514-d21209797-Reviews-Honest_Greens_Serrano-Madrid.html\n"
     ]
    },
    {
     "name": "stderr",
     "output_type": "stream",
     "text": [
      " 45%|████▌     | 1465/3233 [2:03:16<2:37:33,  5.35s/it]"
     ]
    },
    {
     "name": "stdout",
     "output_type": "stream",
     "text": [
      "no coordenadas https://www.tripadvisor.es/Restaurant_Review-g187514-d14765577-Reviews-PrimaDonna_Pizza_Bar-Madrid.html\n"
     ]
    },
    {
     "name": "stderr",
     "output_type": "stream",
     "text": [
      " 45%|████▌     | 1466/3233 [2:03:23<2:50:29,  5.79s/it]"
     ]
    },
    {
     "name": "stdout",
     "output_type": "stream",
     "text": [
      "no coordenadas https://www.tripadvisor.es/Restaurant_Review-g187514-d5615734-Reviews-Alma_Llanera-Madrid.html\n"
     ]
    },
    {
     "name": "stderr",
     "output_type": "stream",
     "text": [
      " 45%|████▌     | 1467/3233 [2:03:29<2:56:25,  5.99s/it]"
     ]
    },
    {
     "name": "stdout",
     "output_type": "stream",
     "text": [
      "no coordenadas https://www.tripadvisor.es/Restaurant_Review-g187514-d8607622-Reviews-Larrauri-Madrid.html\n"
     ]
    },
    {
     "name": "stderr",
     "output_type": "stream",
     "text": [
      " 45%|████▌     | 1468/3233 [2:03:35<2:53:43,  5.91s/it]"
     ]
    },
    {
     "name": "stdout",
     "output_type": "stream",
     "text": [
      "no coordenadas https://www.tripadvisor.es/Restaurant_Review-g187514-d966980-Reviews-Restaurante_Ginger-Madrid.html\n"
     ]
    },
    {
     "name": "stderr",
     "output_type": "stream",
     "text": [
      " 45%|████▌     | 1469/3233 [2:03:40<2:48:15,  5.72s/it]"
     ]
    },
    {
     "name": "stdout",
     "output_type": "stream",
     "text": [
      "no coordenadas https://www.tripadvisor.es/Restaurant_Review-g187514-d8552448-Reviews-La_Pepa-Madrid.html\n"
     ]
    },
    {
     "name": "stderr",
     "output_type": "stream",
     "text": [
      " 45%|████▌     | 1470/3233 [2:03:46<2:48:01,  5.72s/it]"
     ]
    },
    {
     "name": "stdout",
     "output_type": "stream",
     "text": [
      "no coordenadas https://www.tripadvisor.es/Restaurant_Review-g187514-d12969234-Reviews-Graciana_Empanadas_Argentinas-Madrid.html\n"
     ]
    },
    {
     "name": "stderr",
     "output_type": "stream",
     "text": [
      " 45%|████▌     | 1471/3233 [2:03:51<2:42:19,  5.53s/it]"
     ]
    },
    {
     "name": "stdout",
     "output_type": "stream",
     "text": [
      "no coordenadas https://www.tripadvisor.es/Restaurant_Review-g187514-d13814549-Reviews-BocaBoca-Madrid.html\n"
     ]
    },
    {
     "name": "stderr",
     "output_type": "stream",
     "text": [
      " 46%|████▌     | 1472/3233 [2:03:57<2:46:49,  5.68s/it]"
     ]
    },
    {
     "name": "stdout",
     "output_type": "stream",
     "text": [
      "no coordenadas https://www.tripadvisor.es/Restaurant_Review-g187514-d15598999-Reviews-Beefcious_Valdebebas-Madrid.html\n"
     ]
    },
    {
     "name": "stderr",
     "output_type": "stream",
     "text": [
      " 46%|████▌     | 1473/3233 [2:04:03<2:52:56,  5.90s/it]"
     ]
    },
    {
     "name": "stdout",
     "output_type": "stream",
     "text": [
      "no coordenadas https://www.tripadvisor.es/Restaurant_Review-g187514-d15118164-Reviews-Patio-Madrid.html\n"
     ]
    },
    {
     "name": "stderr",
     "output_type": "stream",
     "text": [
      " 46%|████▌     | 1474/3233 [2:04:08<2:37:28,  5.37s/it]"
     ]
    },
    {
     "name": "stdout",
     "output_type": "stream",
     "text": [
      "no coordenadas https://www.tripadvisor.es/Restaurant_Review-g187514-d12219492-Reviews-Pinkoco_Bar-Madrid.html\n"
     ]
    },
    {
     "name": "stderr",
     "output_type": "stream",
     "text": [
      " 46%|████▌     | 1475/3233 [2:04:13<2:41:42,  5.52s/it]"
     ]
    },
    {
     "name": "stdout",
     "output_type": "stream",
     "text": [
      "no coordenadas https://www.tripadvisor.es/Restaurant_Review-g187514-d8743695-Reviews-Rhino_Wild_bar_bistro-Madrid.html\n"
     ]
    },
    {
     "name": "stderr",
     "output_type": "stream",
     "text": [
      " 46%|████▌     | 1476/3233 [2:04:19<2:45:20,  5.65s/it]"
     ]
    },
    {
     "name": "stdout",
     "output_type": "stream",
     "text": [
      "no coordenadas https://www.tripadvisor.es/Restaurant_Review-g187514-d10847630-Reviews-Taberna_Donde_el_Rastro-Madrid.html\n"
     ]
    },
    {
     "name": "stderr",
     "output_type": "stream",
     "text": [
      " 46%|████▌     | 1477/3233 [2:04:24<2:39:22,  5.45s/it]"
     ]
    },
    {
     "name": "stdout",
     "output_type": "stream",
     "text": [
      "no coordenadas https://www.tripadvisor.es/Restaurant_Review-g187514-d23157786-Reviews-Ay_Guey_Mexican-Madrid.html\n"
     ]
    },
    {
     "name": "stderr",
     "output_type": "stream",
     "text": [
      " 46%|████▌     | 1478/3233 [2:04:29<2:33:46,  5.26s/it]"
     ]
    },
    {
     "name": "stdout",
     "output_type": "stream",
     "text": [
      "no coordenadas https://www.tripadvisor.es/Restaurant_Review-g187514-d23598923-Reviews-Lamonarracha_Barrio_de_Salamanca-Madrid.html\n"
     ]
    },
    {
     "name": "stderr",
     "output_type": "stream",
     "text": [
      " 46%|████▌     | 1479/3233 [2:04:33<2:24:26,  4.94s/it]"
     ]
    },
    {
     "name": "stdout",
     "output_type": "stream",
     "text": [
      "no coordenadas https://www.tripadvisor.es/Restaurant_Review-g187514-d15700545-Reviews-Efimero_Madrid-Madrid.html\n"
     ]
    },
    {
     "name": "stderr",
     "output_type": "stream",
     "text": [
      " 46%|████▌     | 1480/3233 [2:04:38<2:21:50,  4.85s/it]"
     ]
    },
    {
     "name": "stdout",
     "output_type": "stream",
     "text": [
      "no coordenadas https://www.tripadvisor.es/Restaurant_Review-g187514-d13116000-Reviews-La_Bruschetta-Madrid.html\n"
     ]
    },
    {
     "name": "stderr",
     "output_type": "stream",
     "text": [
      " 46%|████▌     | 1481/3233 [2:04:44<2:34:47,  5.30s/it]"
     ]
    },
    {
     "name": "stdout",
     "output_type": "stream",
     "text": [
      "no coordenadas https://www.tripadvisor.es/Restaurant_Review-g187514-d6541738-Reviews-Alfredo_s_Barbacoa-Madrid.html\n"
     ]
    },
    {
     "name": "stderr",
     "output_type": "stream",
     "text": [
      " 46%|████▌     | 1482/3233 [2:04:49<2:28:32,  5.09s/it]"
     ]
    },
    {
     "name": "stdout",
     "output_type": "stream",
     "text": [
      "no coordenadas https://www.tripadvisor.es/Restaurant_Review-g187514-d8089638-Reviews-Vergara_97-Madrid.html\n"
     ]
    },
    {
     "name": "stderr",
     "output_type": "stream",
     "text": [
      " 46%|████▌     | 1483/3233 [2:04:53<2:21:09,  4.84s/it]"
     ]
    },
    {
     "name": "stdout",
     "output_type": "stream",
     "text": [
      "no coordenadas https://www.tripadvisor.es/Restaurant_Review-g187514-d10447361-Reviews-La_Piazzola-Madrid.html\n"
     ]
    },
    {
     "name": "stderr",
     "output_type": "stream",
     "text": [
      " 46%|████▌     | 1484/3233 [2:04:58<2:22:57,  4.90s/it]"
     ]
    },
    {
     "name": "stdout",
     "output_type": "stream",
     "text": [
      "no coordenadas https://www.tripadvisor.es/Restaurant_Review-g187514-d3515251-Reviews-Cafeeke_Cervezas_Tapas_de_Belgica-Madrid.html\n"
     ]
    },
    {
     "name": "stderr",
     "output_type": "stream",
     "text": [
      " 46%|████▌     | 1485/3233 [2:05:04<2:27:22,  5.06s/it]"
     ]
    },
    {
     "name": "stdout",
     "output_type": "stream",
     "text": [
      "no coordenadas https://www.tripadvisor.es/Restaurant_Review-g187514-d5616863-Reviews-Killari_antes_La_Cachimba-Madrid.html\n"
     ]
    },
    {
     "name": "stderr",
     "output_type": "stream",
     "text": [
      " 46%|████▌     | 1486/3233 [2:05:08<2:22:15,  4.89s/it]"
     ]
    },
    {
     "name": "stdout",
     "output_type": "stream",
     "text": [
      "no coordenadas https://www.tripadvisor.es/Restaurant_Review-g187514-d19756198-Reviews-Bar_gallego_conchi_s-Madrid.html\n"
     ]
    },
    {
     "name": "stderr",
     "output_type": "stream",
     "text": [
      " 46%|████▌     | 1487/3233 [2:05:14<2:26:56,  5.05s/it]"
     ]
    },
    {
     "name": "stdout",
     "output_type": "stream",
     "text": [
      "no coordenadas https://www.tripadvisor.es/Restaurant_Review-g187514-d16698676-Reviews-Que_Chevere_Restaurante-Madrid.html\n"
     ]
    },
    {
     "name": "stderr",
     "output_type": "stream",
     "text": [
      " 46%|████▌     | 1488/3233 [2:05:20<2:34:49,  5.32s/it]"
     ]
    },
    {
     "name": "stdout",
     "output_type": "stream",
     "text": [
      "no coordenadas https://www.tripadvisor.es/Restaurant_Review-g187514-d8860352-Reviews-Miss_Sushi_Avenida_de_Brasil-Madrid.html\n"
     ]
    },
    {
     "name": "stderr",
     "output_type": "stream",
     "text": [
      " 46%|████▌     | 1489/3233 [2:05:24<2:26:59,  5.06s/it]"
     ]
    },
    {
     "name": "stdout",
     "output_type": "stream",
     "text": [
      "no coordenadas https://www.tripadvisor.es/Restaurant_Review-g187514-d8050540-Reviews-La_Taberna_de_Alfonso-Madrid.html\n"
     ]
    },
    {
     "name": "stderr",
     "output_type": "stream",
     "text": [
      " 46%|████▌     | 1490/3233 [2:05:30<2:34:20,  5.31s/it]"
     ]
    },
    {
     "name": "stdout",
     "output_type": "stream",
     "text": [
      "no coordenadas https://www.tripadvisor.es/Restaurant_Review-g187514-d23025920-Reviews-Lalopez_Bar-Madrid.html\n"
     ]
    },
    {
     "name": "stderr",
     "output_type": "stream",
     "text": [
      " 46%|████▌     | 1491/3233 [2:05:36<2:41:32,  5.56s/it]"
     ]
    },
    {
     "name": "stdout",
     "output_type": "stream",
     "text": [
      "no coordenadas https://www.tripadvisor.es/Restaurant_Review-g187514-d2259686-Reviews-Brasaylena_CC_ISLAZUL-Madrid.html\n"
     ]
    },
    {
     "name": "stderr",
     "output_type": "stream",
     "text": [
      " 46%|████▌     | 1492/3233 [2:05:42<2:43:54,  5.65s/it]"
     ]
    },
    {
     "name": "stdout",
     "output_type": "stream",
     "text": [
      "no coordenadas https://www.tripadvisor.es/Restaurant_Review-g187514-d21223226-Reviews-Distrito_Ceviche_S_L-Madrid.html\n"
     ]
    },
    {
     "name": "stderr",
     "output_type": "stream",
     "text": [
      " 46%|████▌     | 1493/3233 [2:05:48<2:46:31,  5.74s/it]"
     ]
    },
    {
     "name": "stdout",
     "output_type": "stream",
     "text": [
      "no coordenadas https://www.tripadvisor.es/Restaurant_Review-g187514-d20993184-Reviews-Taqueria_Los_Carnales-Madrid.html\n"
     ]
    },
    {
     "name": "stderr",
     "output_type": "stream",
     "text": [
      " 46%|████▌     | 1494/3233 [2:05:52<2:34:57,  5.35s/it]"
     ]
    },
    {
     "name": "stdout",
     "output_type": "stream",
     "text": [
      "no coordenadas https://www.tripadvisor.es/Restaurant_Review-g187514-d3172131-Reviews-Sagardi_en_Euskal_Etxea-Madrid.html\n"
     ]
    },
    {
     "name": "stderr",
     "output_type": "stream",
     "text": [
      " 46%|████▌     | 1495/3233 [2:05:56<2:24:47,  5.00s/it]"
     ]
    },
    {
     "name": "stdout",
     "output_type": "stream",
     "text": [
      "no coordenadas https://www.tripadvisor.es/Restaurant_Review-g187514-d17469154-Reviews-Restaurante_Arrabal-Madrid.html\n"
     ]
    },
    {
     "name": "stderr",
     "output_type": "stream",
     "text": [
      " 46%|████▋     | 1496/3233 [2:06:03<2:39:17,  5.50s/it]"
     ]
    },
    {
     "name": "stdout",
     "output_type": "stream",
     "text": [
      "no coordenadas https://www.tripadvisor.es/Restaurant_Review-g187514-d4688132-Reviews-Yan_Ken_Pon-Madrid.html\n"
     ]
    },
    {
     "name": "stderr",
     "output_type": "stream",
     "text": [
      " 46%|████▋     | 1497/3233 [2:06:08<2:35:29,  5.37s/it]"
     ]
    },
    {
     "name": "stdout",
     "output_type": "stream",
     "text": [
      "no coordenadas https://www.tripadvisor.es/Restaurant_Review-g187514-d991374-Reviews-Restaurante_El_Zaguan-Madrid.html\n"
     ]
    },
    {
     "name": "stderr",
     "output_type": "stream",
     "text": [
      " 46%|████▋     | 1498/3233 [2:06:14<2:40:31,  5.55s/it]"
     ]
    },
    {
     "name": "stdout",
     "output_type": "stream",
     "text": [
      "no coordenadas https://www.tripadvisor.es/Restaurant_Review-g187514-d13314041-Reviews-The_Observatory_Hotel_Puerta_America_5-Madrid.html\n"
     ]
    },
    {
     "name": "stderr",
     "output_type": "stream",
     "text": [
      " 46%|████▋     | 1499/3233 [2:06:20<2:46:08,  5.75s/it]"
     ]
    },
    {
     "name": "stdout",
     "output_type": "stream",
     "text": [
      "no coordenadas https://www.tripadvisor.es/Restaurant_Review-g187514-d11857899-Reviews-NH_Collection_Madrid_Suecia-Madrid.html\n"
     ]
    },
    {
     "name": "stderr",
     "output_type": "stream",
     "text": [
      " 46%|████▋     | 1500/3233 [2:06:25<2:37:56,  5.47s/it]"
     ]
    },
    {
     "name": "stdout",
     "output_type": "stream",
     "text": [
      "no coordenadas https://www.tripadvisor.es/Restaurant_Review-g187514-d8096903-Reviews-Taberna_La_Tienta-Madrid.html\n"
     ]
    },
    {
     "name": "stderr",
     "output_type": "stream",
     "text": [
      " 46%|████▋     | 1501/3233 [2:06:30<2:33:08,  5.31s/it]"
     ]
    },
    {
     "name": "stdout",
     "output_type": "stream",
     "text": [
      "no coordenadas https://www.tripadvisor.es/Restaurant_Review-g187514-d11965303-Reviews-Ichibanya-Madrid.html\n"
     ]
    },
    {
     "name": "stderr",
     "output_type": "stream",
     "text": [
      " 46%|████▋     | 1502/3233 [2:06:34<2:23:33,  4.98s/it]"
     ]
    },
    {
     "name": "stdout",
     "output_type": "stream",
     "text": [
      "no coordenadas https://www.tripadvisor.es/Restaurant_Review-g187514-d1748510-Reviews-La_Lonja-Madrid.html\n"
     ]
    },
    {
     "name": "stderr",
     "output_type": "stream",
     "text": [
      " 46%|████▋     | 1503/3233 [2:06:39<2:21:29,  4.91s/it]"
     ]
    },
    {
     "name": "stdout",
     "output_type": "stream",
     "text": [
      "no coordenadas https://www.tripadvisor.es/Restaurant_Review-g187514-d13006487-Reviews-La_Consentida_de_Garlic-Madrid.html\n"
     ]
    },
    {
     "name": "stderr",
     "output_type": "stream",
     "text": [
      " 47%|████▋     | 1504/3233 [2:06:44<2:17:49,  4.78s/it]"
     ]
    },
    {
     "name": "stdout",
     "output_type": "stream",
     "text": [
      "no coordenadas https://www.tripadvisor.es/Restaurant_Review-g187514-d23557672-Reviews-Funambulista_Bar-Madrid.html\n"
     ]
    },
    {
     "name": "stderr",
     "output_type": "stream",
     "text": [
      " 47%|████▋     | 1505/3233 [2:06:48<2:17:10,  4.76s/it]"
     ]
    },
    {
     "name": "stdout",
     "output_type": "stream",
     "text": [
      "no coordenadas https://www.tripadvisor.es/Restaurant_Review-g187514-d1232052-Reviews-Restaurante_Bonsai_Garden-Madrid.html\n"
     ]
    },
    {
     "name": "stderr",
     "output_type": "stream",
     "text": [
      " 47%|████▋     | 1506/3233 [2:06:52<2:10:56,  4.55s/it]"
     ]
    },
    {
     "name": "stdout",
     "output_type": "stream",
     "text": [
      "no coordenadas https://www.tripadvisor.es/Restaurant_Review-g187514-d1575133-Reviews-Taberna_Maceira-Madrid.html\n"
     ]
    },
    {
     "name": "stderr",
     "output_type": "stream",
     "text": [
      " 47%|████▋     | 1507/3233 [2:06:57<2:11:41,  4.58s/it]"
     ]
    },
    {
     "name": "stdout",
     "output_type": "stream",
     "text": [
      "no coordenadas https://www.tripadvisor.es/Restaurant_Review-g187514-d13576981-Reviews-Bocadillos_Oink-Madrid.html\n"
     ]
    },
    {
     "name": "stderr",
     "output_type": "stream",
     "text": [
      " 47%|████▋     | 1508/3233 [2:07:01<2:06:34,  4.40s/it]"
     ]
    },
    {
     "name": "stdout",
     "output_type": "stream",
     "text": [
      "no coordenadas https://www.tripadvisor.es/Restaurant_Review-g187514-d5616765-Reviews-Abuelita_Alicia-Madrid.html\n"
     ]
    },
    {
     "name": "stderr",
     "output_type": "stream",
     "text": [
      " 47%|████▋     | 1509/3233 [2:07:07<2:18:53,  4.83s/it]"
     ]
    },
    {
     "name": "stdout",
     "output_type": "stream",
     "text": [
      "no coordenadas https://www.tripadvisor.es/Restaurant_Review-g187514-d24048372-Reviews-Qubek-Madrid.html\n"
     ]
    },
    {
     "name": "stderr",
     "output_type": "stream",
     "text": [
      " 47%|████▋     | 1510/3233 [2:07:13<2:26:59,  5.12s/it]"
     ]
    },
    {
     "name": "stdout",
     "output_type": "stream",
     "text": [
      "no coordenadas https://www.tripadvisor.es/Restaurant_Review-g187514-d3569503-Reviews-La_Taberna_de_Gadea-Madrid.html\n"
     ]
    },
    {
     "name": "stderr",
     "output_type": "stream",
     "text": [
      " 47%|████▋     | 1511/3233 [2:07:19<2:37:03,  5.47s/it]"
     ]
    },
    {
     "name": "stdout",
     "output_type": "stream",
     "text": [
      "no coordenadas https://www.tripadvisor.es/Restaurant_Review-g187514-d15572565-Reviews-Mola_Grill-Madrid.html\n"
     ]
    },
    {
     "name": "stderr",
     "output_type": "stream",
     "text": [
      " 47%|████▋     | 1512/3233 [2:07:23<2:25:17,  5.07s/it]"
     ]
    },
    {
     "name": "stdout",
     "output_type": "stream",
     "text": [
      "no coordenadas https://www.tripadvisor.es/Restaurant_Review-g187514-d987918-Reviews-El_Ancla-Madrid.html\n"
     ]
    },
    {
     "name": "stderr",
     "output_type": "stream",
     "text": [
      " 47%|████▋     | 1513/3233 [2:07:27<2:13:02,  4.64s/it]"
     ]
    },
    {
     "name": "stdout",
     "output_type": "stream",
     "text": [
      "no coordenadas https://www.tripadvisor.es/Restaurant_Review-g187514-d11859217-Reviews-84-Madrid.html\n"
     ]
    },
    {
     "name": "stderr",
     "output_type": "stream",
     "text": [
      " 47%|████▋     | 1514/3233 [2:07:32<2:17:32,  4.80s/it]"
     ]
    },
    {
     "name": "stdout",
     "output_type": "stream",
     "text": [
      "no coordenadas https://www.tripadvisor.es/Restaurant_Review-g187514-d21014627-Reviews-Bamboo_Sushi_Bar-Madrid.html\n"
     ]
    },
    {
     "name": "stderr",
     "output_type": "stream",
     "text": [
      " 47%|████▋     | 1515/3233 [2:07:36<2:09:29,  4.52s/it]"
     ]
    },
    {
     "name": "stdout",
     "output_type": "stream",
     "text": [
      "no coordenadas https://www.tripadvisor.es/Restaurant_Review-g187514-d15034288-Reviews-Pescaderia_Maximo_Cadierno-Madrid.html\n"
     ]
    },
    {
     "name": "stderr",
     "output_type": "stream",
     "text": [
      " 47%|████▋     | 1516/3233 [2:07:41<2:18:14,  4.83s/it]"
     ]
    },
    {
     "name": "stdout",
     "output_type": "stream",
     "text": [
      "no coordenadas https://www.tripadvisor.es/Restaurant_Review-g187514-d23149706-Reviews-Crudo-Madrid.html\n"
     ]
    },
    {
     "name": "stderr",
     "output_type": "stream",
     "text": [
      " 47%|████▋     | 1517/3233 [2:07:45<2:10:04,  4.55s/it]"
     ]
    },
    {
     "name": "stdout",
     "output_type": "stream",
     "text": [
      "no coordenadas https://www.tripadvisor.es/Restaurant_Review-g187514-d2023515-Reviews-Cafeteria_Oskar-Madrid.html\n"
     ]
    },
    {
     "name": "stderr",
     "output_type": "stream",
     "text": [
      " 47%|████▋     | 1518/3233 [2:07:51<2:19:55,  4.90s/it]"
     ]
    },
    {
     "name": "stdout",
     "output_type": "stream",
     "text": [
      "no coordenadas https://www.tripadvisor.es/Restaurant_Review-g187514-d5321422-Reviews-Arroceria_Canas_Barro_Madrid-Madrid.html\n"
     ]
    },
    {
     "name": "stderr",
     "output_type": "stream",
     "text": [
      " 47%|████▋     | 1519/3233 [2:07:57<2:31:16,  5.30s/it]"
     ]
    },
    {
     "name": "stdout",
     "output_type": "stream",
     "text": [
      "no coordenadas https://www.tripadvisor.es/Restaurant_Review-g187514-d8529308-Reviews-La_Posada_de_Carmela-Madrid.html\n"
     ]
    },
    {
     "name": "stderr",
     "output_type": "stream",
     "text": [
      " 47%|████▋     | 1520/3233 [2:08:02<2:28:17,  5.19s/it]"
     ]
    },
    {
     "name": "stdout",
     "output_type": "stream",
     "text": [
      "no coordenadas https://www.tripadvisor.es/Restaurant_Review-g187514-d23576849-Reviews-Baritono_Prosperidad-Madrid.html\n"
     ]
    },
    {
     "name": "stderr",
     "output_type": "stream",
     "text": [
      " 47%|████▋     | 1521/3233 [2:08:08<2:37:24,  5.52s/it]"
     ]
    },
    {
     "name": "stdout",
     "output_type": "stream",
     "text": [
      "no coordenadas https://www.tripadvisor.es/Restaurant_Review-g187514-d8819170-Reviews-El_Mirador_de_Palma-Madrid.html\n"
     ]
    },
    {
     "name": "stderr",
     "output_type": "stream",
     "text": [
      " 47%|████▋     | 1522/3233 [2:08:19<3:20:51,  7.04s/it]"
     ]
    },
    {
     "name": "stdout",
     "output_type": "stream",
     "text": [
      "no coordenadas https://www.tripadvisor.es/Restaurant_Review-g187514-d21142568-Reviews-Saladier-Madrid.html\n"
     ]
    },
    {
     "name": "stderr",
     "output_type": "stream",
     "text": [
      " 47%|████▋     | 1523/3233 [2:08:26<3:25:37,  7.22s/it]"
     ]
    },
    {
     "name": "stdout",
     "output_type": "stream",
     "text": [
      "no coordenadas https://www.tripadvisor.es/Restaurant_Review-g187514-d12170996-Reviews-Delisko-Madrid.html\n"
     ]
    },
    {
     "name": "stderr",
     "output_type": "stream",
     "text": [
      " 47%|████▋     | 1524/3233 [2:08:31<3:05:57,  6.53s/it]"
     ]
    },
    {
     "name": "stdout",
     "output_type": "stream",
     "text": [
      "no coordenadas https://www.tripadvisor.es/Restaurant_Review-g187514-d23685841-Reviews-Pizza_Radical-Madrid.html\n"
     ]
    },
    {
     "name": "stderr",
     "output_type": "stream",
     "text": [
      " 47%|████▋     | 1525/3233 [2:08:36<2:50:10,  5.98s/it]"
     ]
    },
    {
     "name": "stdout",
     "output_type": "stream",
     "text": [
      "no coordenadas https://www.tripadvisor.es/Restaurant_Review-g187514-d17692273-Reviews-Bonbini_Restaurante-Madrid.html\n"
     ]
    },
    {
     "name": "stderr",
     "output_type": "stream",
     "text": [
      " 47%|████▋     | 1526/3233 [2:08:41<2:37:07,  5.52s/it]"
     ]
    },
    {
     "name": "stdout",
     "output_type": "stream",
     "text": [
      "no coordenadas https://www.tripadvisor.es/Restaurant_Review-g187514-d15061453-Reviews-Sandola-Madrid.html\n"
     ]
    },
    {
     "name": "stderr",
     "output_type": "stream",
     "text": [
      " 47%|████▋     | 1527/3233 [2:08:48<2:54:36,  6.14s/it]"
     ]
    },
    {
     "name": "stdout",
     "output_type": "stream",
     "text": [
      "no coordenadas https://www.tripadvisor.es/Restaurant_Review-g187514-d8636418-Reviews-Vermuteria_Latazo-Madrid.html\n"
     ]
    },
    {
     "name": "stderr",
     "output_type": "stream",
     "text": [
      " 47%|████▋     | 1528/3233 [2:08:53<2:39:20,  5.61s/it]"
     ]
    },
    {
     "name": "stdout",
     "output_type": "stream",
     "text": [
      "no coordenadas https://www.tripadvisor.es/Restaurant_Review-g187514-d15028302-Reviews-Aloha_Poke_Maria_de_Molina-Madrid.html\n"
     ]
    },
    {
     "name": "stderr",
     "output_type": "stream",
     "text": [
      " 47%|████▋     | 1529/3233 [2:08:58<2:40:13,  5.64s/it]"
     ]
    },
    {
     "name": "stdout",
     "output_type": "stream",
     "text": [
      "no coordenadas https://www.tripadvisor.es/Restaurant_Review-g187514-d1497143-Reviews-Restaurante_Cruz_Blanca-Madrid.html\n"
     ]
    },
    {
     "name": "stderr",
     "output_type": "stream",
     "text": [
      " 47%|████▋     | 1530/3233 [2:09:04<2:43:34,  5.76s/it]"
     ]
    },
    {
     "name": "stdout",
     "output_type": "stream",
     "text": [
      "no coordenadas https://www.tripadvisor.es/Restaurant_Review-g187514-d10168051-Reviews-El_Economato-Madrid.html\n"
     ]
    },
    {
     "name": "stderr",
     "output_type": "stream",
     "text": [
      " 47%|████▋     | 1531/3233 [2:09:10<2:40:58,  5.67s/it]"
     ]
    },
    {
     "name": "stdout",
     "output_type": "stream",
     "text": [
      "no coordenadas https://www.tripadvisor.es/Restaurant_Review-g187514-d15053577-Reviews-Leka_Opera_Bar_tapas-Madrid.html\n"
     ]
    },
    {
     "name": "stderr",
     "output_type": "stream",
     "text": [
      " 47%|████▋     | 1532/3233 [2:09:14<2:28:25,  5.24s/it]"
     ]
    },
    {
     "name": "stdout",
     "output_type": "stream",
     "text": [
      "no coordenadas https://www.tripadvisor.es/Restaurant_Review-g187514-d13431720-Reviews-La_Esquina_Mexicana-Madrid.html\n"
     ]
    },
    {
     "name": "stderr",
     "output_type": "stream",
     "text": [
      " 47%|████▋     | 1533/3233 [2:09:19<2:27:22,  5.20s/it]"
     ]
    },
    {
     "name": "stdout",
     "output_type": "stream",
     "text": [
      "no coordenadas https://www.tripadvisor.es/Restaurant_Review-g187514-d1115902-Reviews-El_Rey_de_Tallarines-Madrid.html\n"
     ]
    },
    {
     "name": "stderr",
     "output_type": "stream",
     "text": [
      " 47%|████▋     | 1534/3233 [2:09:25<2:31:42,  5.36s/it]"
     ]
    },
    {
     "name": "stdout",
     "output_type": "stream",
     "text": [
      "no coordenadas https://www.tripadvisor.es/Restaurant_Review-g187514-d21275777-Reviews-La_Joiosa_Taberna-Madrid.html\n"
     ]
    },
    {
     "name": "stderr",
     "output_type": "stream",
     "text": [
      " 47%|████▋     | 1535/3233 [2:09:30<2:31:43,  5.36s/it]"
     ]
    },
    {
     "name": "stdout",
     "output_type": "stream",
     "text": [
      "no coordenadas https://www.tripadvisor.es/Restaurant_Review-g187514-d10178507-Reviews-Al_Batra-Madrid.html\n"
     ]
    },
    {
     "name": "stderr",
     "output_type": "stream",
     "text": [
      " 48%|████▊     | 1536/3233 [2:09:36<2:34:50,  5.47s/it]"
     ]
    },
    {
     "name": "stdout",
     "output_type": "stream",
     "text": [
      "no coordenadas https://www.tripadvisor.es/Restaurant_Review-g187514-d14256532-Reviews-Believe_Life_Food_Madrid-Madrid.html\n"
     ]
    },
    {
     "name": "stderr",
     "output_type": "stream",
     "text": [
      " 48%|████▊     | 1537/3233 [2:09:43<2:45:20,  5.85s/it]"
     ]
    },
    {
     "name": "stdout",
     "output_type": "stream",
     "text": [
      "no coordenadas https://www.tripadvisor.es/Restaurant_Review-g187514-d811141-Reviews-Casa_Jorge-Madrid.html\n"
     ]
    },
    {
     "name": "stderr",
     "output_type": "stream",
     "text": [
      " 48%|████▊     | 1538/3233 [2:09:50<2:58:26,  6.32s/it]"
     ]
    },
    {
     "name": "stdout",
     "output_type": "stream",
     "text": [
      "no coordenadas https://www.tripadvisor.es/Restaurant_Review-g187514-d19917857-Reviews-La_Galia_Castellana-Madrid.html\n"
     ]
    },
    {
     "name": "stderr",
     "output_type": "stream",
     "text": [
      " 48%|████▊     | 1539/3233 [2:09:56<2:53:45,  6.15s/it]"
     ]
    },
    {
     "name": "stdout",
     "output_type": "stream",
     "text": [
      "no coordenadas https://www.tripadvisor.es/Restaurant_Review-g187514-d19468770-Reviews-El_secreto_del_lobo-Madrid.html\n"
     ]
    },
    {
     "name": "stderr",
     "output_type": "stream",
     "text": [
      " 48%|████▊     | 1540/3233 [2:10:00<2:35:49,  5.52s/it]"
     ]
    },
    {
     "name": "stdout",
     "output_type": "stream",
     "text": [
      "no coordenadas https://www.tripadvisor.es/Restaurant_Review-g187514-d4258851-Reviews-Taberna_de_la_Daniela_Bernabeu-Madrid.html\n"
     ]
    },
    {
     "name": "stderr",
     "output_type": "stream",
     "text": [
      " 48%|████▊     | 1541/3233 [2:10:05<2:31:01,  5.36s/it]"
     ]
    },
    {
     "name": "stdout",
     "output_type": "stream",
     "text": [
      "no coordenadas https://www.tripadvisor.es/Restaurant_Review-g187514-d17625343-Reviews-Taberna_El_Castor-Madrid.html\n"
     ]
    },
    {
     "name": "stderr",
     "output_type": "stream",
     "text": [
      " 48%|████▊     | 1542/3233 [2:10:09<2:22:16,  5.05s/it]"
     ]
    },
    {
     "name": "stdout",
     "output_type": "stream",
     "text": [
      "no coordenadas https://www.tripadvisor.es/Restaurant_Review-g187514-d19465917-Reviews-Racers_Madrid-Madrid.html\n"
     ]
    },
    {
     "name": "stderr",
     "output_type": "stream",
     "text": [
      " 48%|████▊     | 1543/3233 [2:10:15<2:28:33,  5.27s/it]"
     ]
    },
    {
     "name": "stdout",
     "output_type": "stream",
     "text": [
      "no coordenadas https://www.tripadvisor.es/Restaurant_Review-g187514-d15549402-Reviews-Carato_Bar-Madrid.html\n"
     ]
    },
    {
     "name": "stderr",
     "output_type": "stream",
     "text": [
      " 48%|████▊     | 1544/3233 [2:10:20<2:22:25,  5.06s/it]"
     ]
    },
    {
     "name": "stdout",
     "output_type": "stream",
     "text": [
      "no coordenadas https://www.tripadvisor.es/Restaurant_Review-g187514-d14127344-Reviews-Artists_Room-Madrid.html\n"
     ]
    },
    {
     "name": "stderr",
     "output_type": "stream",
     "text": [
      " 48%|████▊     | 1545/3233 [2:10:26<2:32:04,  5.41s/it]"
     ]
    },
    {
     "name": "stdout",
     "output_type": "stream",
     "text": [
      "no coordenadas https://www.tripadvisor.es/Restaurant_Review-g187514-d14770242-Reviews-Pokei-Madrid.html\n"
     ]
    },
    {
     "name": "stderr",
     "output_type": "stream",
     "text": [
      " 48%|████▊     | 1546/3233 [2:10:31<2:28:54,  5.30s/it]"
     ]
    },
    {
     "name": "stdout",
     "output_type": "stream",
     "text": [
      "no coordenadas https://www.tripadvisor.es/Restaurant_Review-g187514-d17804573-Reviews-La_Porcineria-Madrid.html\n"
     ]
    },
    {
     "name": "stderr",
     "output_type": "stream",
     "text": [
      " 48%|████▊     | 1547/3233 [2:10:37<2:35:46,  5.54s/it]"
     ]
    },
    {
     "name": "stdout",
     "output_type": "stream",
     "text": [
      "no coordenadas https://www.tripadvisor.es/Restaurant_Review-g187514-d12511114-Reviews-El_Parnaso-Madrid.html\n"
     ]
    },
    {
     "name": "stderr",
     "output_type": "stream",
     "text": [
      " 48%|████▊     | 1548/3233 [2:10:41<2:20:55,  5.02s/it]"
     ]
    },
    {
     "name": "stdout",
     "output_type": "stream",
     "text": [
      "no coordenadas https://www.tripadvisor.es/Restaurant_Review-g187514-d19805084-Reviews-Naked_Sated_Serrano-Madrid.html\n"
     ]
    },
    {
     "name": "stderr",
     "output_type": "stream",
     "text": [
      " 48%|████▊     | 1549/3233 [2:10:45<2:13:25,  4.75s/it]"
     ]
    },
    {
     "name": "stdout",
     "output_type": "stream",
     "text": [
      "no coordenadas https://www.tripadvisor.es/Restaurant_Review-g187514-d23471348-Reviews-Le_Tavernier-Madrid.html\n"
     ]
    },
    {
     "name": "stderr",
     "output_type": "stream",
     "text": [
      " 48%|████▊     | 1550/3233 [2:10:49<2:06:37,  4.51s/it]"
     ]
    },
    {
     "name": "stdout",
     "output_type": "stream",
     "text": [
      "no coordenadas https://www.tripadvisor.es/Restaurant_Review-g187514-d20257734-Reviews-El_Kiosko_Serrano-Madrid.html\n"
     ]
    },
    {
     "name": "stderr",
     "output_type": "stream",
     "text": [
      " 48%|████▊     | 1551/3233 [2:10:54<2:12:31,  4.73s/it]"
     ]
    },
    {
     "name": "stdout",
     "output_type": "stream",
     "text": [
      "no coordenadas https://www.tripadvisor.es/Restaurant_Review-g187514-d1513357-Reviews-Oishii_Sushi_Ramen_Madrid-Madrid.html\n"
     ]
    },
    {
     "name": "stderr",
     "output_type": "stream",
     "text": [
      " 48%|████▊     | 1552/3233 [2:11:01<2:27:27,  5.26s/it]"
     ]
    },
    {
     "name": "stdout",
     "output_type": "stream",
     "text": [
      "no coordenadas https://www.tripadvisor.es/Restaurant_Review-g187514-d13810359-Reviews-La_chispera-Madrid.html\n"
     ]
    },
    {
     "name": "stderr",
     "output_type": "stream",
     "text": [
      " 48%|████▊     | 1553/3233 [2:11:06<2:29:22,  5.33s/it]"
     ]
    },
    {
     "name": "stdout",
     "output_type": "stream",
     "text": [
      "no coordenadas https://www.tripadvisor.es/Restaurant_Review-g187514-d15752363-Reviews-Cabana_Food_Bar-Madrid.html\n"
     ]
    },
    {
     "name": "stderr",
     "output_type": "stream",
     "text": [
      " 48%|████▊     | 1554/3233 [2:11:11<2:29:15,  5.33s/it]"
     ]
    },
    {
     "name": "stdout",
     "output_type": "stream",
     "text": [
      "no coordenadas https://www.tripadvisor.es/Restaurant_Review-g187514-d15677450-Reviews-212_Bistro-Madrid.html\n"
     ]
    },
    {
     "name": "stderr",
     "output_type": "stream",
     "text": [
      " 48%|████▊     | 1555/3233 [2:11:18<2:41:35,  5.78s/it]"
     ]
    },
    {
     "name": "stdout",
     "output_type": "stream",
     "text": [
      "no coordenadas https://www.tripadvisor.es/Restaurant_Review-g187514-d4223185-Reviews-La_Burla_de_Quevedo-Madrid.html\n"
     ]
    },
    {
     "name": "stderr",
     "output_type": "stream",
     "text": [
      " 48%|████▊     | 1556/3233 [2:11:23<2:36:47,  5.61s/it]"
     ]
    },
    {
     "name": "stdout",
     "output_type": "stream",
     "text": [
      "no coordenadas https://www.tripadvisor.es/Restaurant_Review-g187514-d11981861-Reviews-Urban_Orchard_Organic_Vegan_Health_Bar-Madrid.html\n"
     ]
    },
    {
     "name": "stderr",
     "output_type": "stream",
     "text": [
      " 48%|████▊     | 1557/3233 [2:11:29<2:37:20,  5.63s/it]"
     ]
    },
    {
     "name": "stdout",
     "output_type": "stream",
     "text": [
      "no coordenadas https://www.tripadvisor.es/Restaurant_Review-g187514-d1092847-Reviews-La_Mazmorra-Madrid.html\n"
     ]
    },
    {
     "name": "stderr",
     "output_type": "stream",
     "text": [
      " 48%|████▊     | 1558/3233 [2:11:34<2:32:06,  5.45s/it]"
     ]
    },
    {
     "name": "stdout",
     "output_type": "stream",
     "text": [
      "no coordenadas https://www.tripadvisor.es/Restaurant_Review-g187514-d13173387-Reviews-La_Tagliatella_C_C_Plaza_Rio_2_Madrid-Madrid.html\n"
     ]
    },
    {
     "name": "stderr",
     "output_type": "stream",
     "text": [
      " 48%|████▊     | 1559/3233 [2:11:38<2:22:07,  5.09s/it]"
     ]
    },
    {
     "name": "stdout",
     "output_type": "stream",
     "text": [
      "no coordenadas https://www.tripadvisor.es/Restaurant_Review-g187514-d18771241-Reviews-EL_Toril_Urban_Gourmet-Madrid.html\n"
     ]
    },
    {
     "name": "stderr",
     "output_type": "stream",
     "text": [
      " 48%|████▊     | 1560/3233 [2:11:43<2:22:07,  5.10s/it]"
     ]
    },
    {
     "name": "stdout",
     "output_type": "stream",
     "text": [
      "no coordenadas https://www.tripadvisor.es/Restaurant_Review-g187514-d17329776-Reviews-Colmado_Madrileno-Madrid.html\n"
     ]
    },
    {
     "name": "stderr",
     "output_type": "stream",
     "text": [
      " 48%|████▊     | 1561/3233 [2:11:49<2:25:02,  5.20s/it]"
     ]
    },
    {
     "name": "stdout",
     "output_type": "stream",
     "text": [
      "no coordenadas https://www.tripadvisor.es/Restaurant_Review-g187514-d23437295-Reviews-Lagasca19-Madrid.html\n"
     ]
    },
    {
     "name": "stderr",
     "output_type": "stream",
     "text": [
      " 48%|████▊     | 1562/3233 [2:11:53<2:15:05,  4.85s/it]"
     ]
    },
    {
     "name": "stdout",
     "output_type": "stream",
     "text": [
      "no coordenadas https://www.tripadvisor.es/Restaurant_Review-g187514-d9788285-Reviews-Shukran-Madrid.html\n"
     ]
    },
    {
     "name": "stderr",
     "output_type": "stream",
     "text": [
      " 48%|████▊     | 1563/3233 [2:11:58<2:18:21,  4.97s/it]"
     ]
    },
    {
     "name": "stdout",
     "output_type": "stream",
     "text": [
      "no coordenadas https://www.tripadvisor.es/Restaurant_Review-g187514-d25228133-Reviews-Intenso-Madrid.html\n"
     ]
    },
    {
     "name": "stderr",
     "output_type": "stream",
     "text": [
      " 48%|████▊     | 1564/3233 [2:12:05<2:32:03,  5.47s/it]"
     ]
    },
    {
     "name": "stdout",
     "output_type": "stream",
     "text": [
      "no coordenadas https://www.tripadvisor.es/Restaurant_Review-g187514-d16701962-Reviews-La_Virgen_154-Madrid.html\n"
     ]
    },
    {
     "name": "stderr",
     "output_type": "stream",
     "text": [
      " 48%|████▊     | 1565/3233 [2:12:11<2:41:19,  5.80s/it]"
     ]
    },
    {
     "name": "stdout",
     "output_type": "stream",
     "text": [
      "no coordenadas https://www.tripadvisor.es/Restaurant_Review-g187514-d12216054-Reviews-Meraki_Bar_Restaurante-Madrid.html\n"
     ]
    },
    {
     "name": "stderr",
     "output_type": "stream",
     "text": [
      " 48%|████▊     | 1566/3233 [2:12:17<2:37:35,  5.67s/it]"
     ]
    },
    {
     "name": "stdout",
     "output_type": "stream",
     "text": [
      "no coordenadas https://www.tripadvisor.es/Restaurant_Review-g187514-d24092649-Reviews-Piantao_Chamberi-Madrid.html\n"
     ]
    },
    {
     "name": "stderr",
     "output_type": "stream",
     "text": [
      " 48%|████▊     | 1567/3233 [2:12:22<2:35:45,  5.61s/it]"
     ]
    },
    {
     "name": "stdout",
     "output_type": "stream",
     "text": [
      "no coordenadas https://www.tripadvisor.es/Restaurant_Review-g187514-d14068543-Reviews-Mis_Tradiciones-Madrid.html\n"
     ]
    },
    {
     "name": "stderr",
     "output_type": "stream",
     "text": [
      " 48%|████▊     | 1568/3233 [2:12:29<2:42:10,  5.84s/it]"
     ]
    },
    {
     "name": "stdout",
     "output_type": "stream",
     "text": [
      "no coordenadas https://www.tripadvisor.es/Restaurant_Review-g187514-d19074564-Reviews-Bombilla_gastrobar_Sant_Ana-Madrid.html\n"
     ]
    },
    {
     "name": "stderr",
     "output_type": "stream",
     "text": [
      " 49%|████▊     | 1569/3233 [2:12:32<2:24:44,  5.22s/it]"
     ]
    },
    {
     "name": "stdout",
     "output_type": "stream",
     "text": [
      "no coordenadas https://www.tripadvisor.es/Restaurant_Review-g187514-d18190179-Reviews-El_Jardin_De_Diana-Madrid.html\n"
     ]
    },
    {
     "name": "stderr",
     "output_type": "stream",
     "text": [
      " 49%|████▊     | 1570/3233 [2:12:37<2:18:33,  5.00s/it]"
     ]
    },
    {
     "name": "stdout",
     "output_type": "stream",
     "text": [
      "no coordenadas https://www.tripadvisor.es/Restaurant_Review-g187514-d2343603-Reviews-Bagatella-Madrid.html\n"
     ]
    },
    {
     "name": "stderr",
     "output_type": "stream",
     "text": [
      " 49%|████▊     | 1571/3233 [2:12:41<2:13:41,  4.83s/it]"
     ]
    },
    {
     "name": "stdout",
     "output_type": "stream",
     "text": [
      "no coordenadas https://www.tripadvisor.es/Restaurant_Review-g187514-d23348921-Reviews-Saint_Kuro_Madrid-Madrid.html\n"
     ]
    },
    {
     "name": "stderr",
     "output_type": "stream",
     "text": [
      " 49%|████▊     | 1572/3233 [2:12:46<2:08:31,  4.64s/it]"
     ]
    },
    {
     "name": "stdout",
     "output_type": "stream",
     "text": [
      "no coordenadas https://www.tripadvisor.es/Restaurant_Review-g187514-d13817649-Reviews-Tapa_Tapa_Santa_Maria_Micaela-Madrid.html\n"
     ]
    },
    {
     "name": "stderr",
     "output_type": "stream",
     "text": [
      " 49%|████▊     | 1573/3233 [2:12:50<2:10:01,  4.70s/it]"
     ]
    },
    {
     "name": "stdout",
     "output_type": "stream",
     "text": [
      "no coordenadas https://www.tripadvisor.es/Restaurant_Review-g187514-d990791-Reviews-Restaurante_El_Chorron-Madrid.html\n"
     ]
    },
    {
     "name": "stderr",
     "output_type": "stream",
     "text": [
      " 49%|████▊     | 1574/3233 [2:12:55<2:11:07,  4.74s/it]"
     ]
    },
    {
     "name": "stdout",
     "output_type": "stream",
     "text": [
      "no coordenadas https://www.tripadvisor.es/Restaurant_Review-g187514-d23815196-Reviews-Mademoiselle-Madrid.html\n"
     ]
    },
    {
     "name": "stderr",
     "output_type": "stream",
     "text": [
      " 49%|████▊     | 1575/3233 [2:13:02<2:31:57,  5.50s/it]"
     ]
    },
    {
     "name": "stdout",
     "output_type": "stream",
     "text": [
      "no coordenadas https://www.tripadvisor.es/Restaurant_Review-g187514-d14095891-Reviews-La_Probeta_La_Tita_Lab-Madrid.html\n"
     ]
    },
    {
     "name": "stderr",
     "output_type": "stream",
     "text": [
      " 49%|████▊     | 1576/3233 [2:13:10<2:45:12,  5.98s/it]"
     ]
    },
    {
     "name": "stdout",
     "output_type": "stream",
     "text": [
      "no coordenadas https://www.tripadvisor.es/Restaurant_Review-g187514-d15244916-Reviews-ESCAFANDRA_Taberna_Vegana-Madrid.html\n"
     ]
    },
    {
     "name": "stderr",
     "output_type": "stream",
     "text": [
      " 49%|████▉     | 1577/3233 [2:13:14<2:31:53,  5.50s/it]"
     ]
    },
    {
     "name": "stdout",
     "output_type": "stream",
     "text": [
      "no coordenadas https://www.tripadvisor.es/Restaurant_Review-g187514-d7392475-Reviews-Bosforos_Turkish_Restaurant-Madrid.html\n"
     ]
    },
    {
     "name": "stderr",
     "output_type": "stream",
     "text": [
      " 49%|████▉     | 1578/3233 [2:13:20<2:39:50,  5.80s/it]"
     ]
    },
    {
     "name": "stdout",
     "output_type": "stream",
     "text": [
      "no coordenadas https://www.tripadvisor.es/Restaurant_Review-g187514-d990806-Reviews-Restaurante_A_Canada-Madrid.html\n"
     ]
    },
    {
     "name": "stderr",
     "output_type": "stream",
     "text": [
      " 49%|████▉     | 1579/3233 [2:13:26<2:34:10,  5.59s/it]"
     ]
    },
    {
     "name": "stdout",
     "output_type": "stream",
     "text": [
      "no coordenadas https://www.tripadvisor.es/Restaurant_Review-g187514-d23843403-Reviews-Taberna_Zalla-Madrid.html\n"
     ]
    },
    {
     "name": "stderr",
     "output_type": "stream",
     "text": [
      " 49%|████▉     | 1580/3233 [2:13:32<2:42:21,  5.89s/it]"
     ]
    },
    {
     "name": "stdout",
     "output_type": "stream",
     "text": [
      "no coordenadas https://www.tripadvisor.es/Restaurant_Review-g187514-d9747733-Reviews-Tutiplen-Madrid.html\n"
     ]
    },
    {
     "name": "stderr",
     "output_type": "stream",
     "text": [
      " 49%|████▉     | 1581/3233 [2:13:39<2:48:24,  6.12s/it]"
     ]
    },
    {
     "name": "stdout",
     "output_type": "stream",
     "text": [
      "no coordenadas https://www.tripadvisor.es/Restaurant_Review-g187514-d4296306-Reviews-Donde_da_la_vuelta_el_viento-Madrid.html\n"
     ]
    },
    {
     "name": "stderr",
     "output_type": "stream",
     "text": [
      " 49%|████▉     | 1582/3233 [2:13:44<2:43:34,  5.94s/it]"
     ]
    },
    {
     "name": "stdout",
     "output_type": "stream",
     "text": [
      "no coordenadas https://www.tripadvisor.es/Restaurant_Review-g187514-d6762649-Reviews-Gymage_Terrace-Madrid.html\n"
     ]
    },
    {
     "name": "stderr",
     "output_type": "stream",
     "text": [
      " 49%|████▉     | 1583/3233 [2:13:48<2:28:51,  5.41s/it]"
     ]
    },
    {
     "name": "stdout",
     "output_type": "stream",
     "text": [
      "no coordenadas https://www.tripadvisor.es/Restaurant_Review-g187514-d18996835-Reviews-Los_Costilla-Madrid.html\n"
     ]
    },
    {
     "name": "stderr",
     "output_type": "stream",
     "text": [
      " 49%|████▉     | 1584/3233 [2:13:55<2:33:49,  5.60s/it]"
     ]
    },
    {
     "name": "stdout",
     "output_type": "stream",
     "text": [
      "no coordenadas https://www.tripadvisor.es/Restaurant_Review-g187514-d21369702-Reviews-La_Teranga_Restaurante-Madrid.html\n"
     ]
    },
    {
     "name": "stderr",
     "output_type": "stream",
     "text": [
      " 49%|████▉     | 1585/3233 [2:13:59<2:27:43,  5.38s/it]"
     ]
    },
    {
     "name": "stdout",
     "output_type": "stream",
     "text": [
      "no coordenadas https://www.tripadvisor.es/Restaurant_Review-g187514-d13419023-Reviews-Bar_Sobrado-Madrid.html\n"
     ]
    },
    {
     "name": "stderr",
     "output_type": "stream",
     "text": [
      " 49%|████▉     | 1586/3233 [2:14:05<2:26:23,  5.33s/it]"
     ]
    },
    {
     "name": "stdout",
     "output_type": "stream",
     "text": [
      "no coordenadas https://www.tripadvisor.es/Restaurant_Review-g187514-d14768786-Reviews-Habana_Vieja_58-Madrid.html\n"
     ]
    },
    {
     "name": "stderr",
     "output_type": "stream",
     "text": [
      " 49%|████▉     | 1587/3233 [2:14:08<2:12:54,  4.84s/it]"
     ]
    },
    {
     "name": "stdout",
     "output_type": "stream",
     "text": [
      "no coordenadas https://www.tripadvisor.es/Restaurant_Review-g187514-d11911374-Reviews-La_Cueva_de_1900_Arenal-Madrid.html\n"
     ]
    },
    {
     "name": "stderr",
     "output_type": "stream",
     "text": [
      " 49%|████▉     | 1588/3233 [2:14:15<2:27:19,  5.37s/it]"
     ]
    },
    {
     "name": "stdout",
     "output_type": "stream",
     "text": [
      "no coordenadas https://www.tripadvisor.es/Restaurant_Review-g187514-d10302313-Reviews-Pizzeria_La_Margaritena-Madrid.html\n"
     ]
    },
    {
     "name": "stderr",
     "output_type": "stream",
     "text": [
      " 49%|████▉     | 1589/3233 [2:14:20<2:21:53,  5.18s/it]"
     ]
    },
    {
     "name": "stdout",
     "output_type": "stream",
     "text": [
      "no coordenadas https://www.tripadvisor.es/Restaurant_Review-g187514-d12199887-Reviews-CUXTA_Antojitos_Drinks_Shop-Madrid.html\n"
     ]
    },
    {
     "name": "stderr",
     "output_type": "stream",
     "text": [
      " 49%|████▉     | 1590/3233 [2:14:25<2:25:20,  5.31s/it]"
     ]
    },
    {
     "name": "stdout",
     "output_type": "stream",
     "text": [
      "no coordenadas https://www.tripadvisor.es/Restaurant_Review-g187514-d12644326-Reviews-Ii_poke_Argensola-Madrid.html\n"
     ]
    },
    {
     "name": "stderr",
     "output_type": "stream",
     "text": [
      " 49%|████▉     | 1591/3233 [2:14:30<2:21:26,  5.17s/it]"
     ]
    },
    {
     "name": "stdout",
     "output_type": "stream",
     "text": [
      "no coordenadas https://www.tripadvisor.es/Restaurant_Review-g187514-d8309617-Reviews-Restaurante_Muxia-Madrid.html\n"
     ]
    },
    {
     "name": "stderr",
     "output_type": "stream",
     "text": [
      " 49%|████▉     | 1592/3233 [2:14:37<2:32:14,  5.57s/it]"
     ]
    },
    {
     "name": "stdout",
     "output_type": "stream",
     "text": [
      "no coordenadas https://www.tripadvisor.es/Restaurant_Review-g187514-d8023883-Reviews-Pizzeria_Arezzo-Madrid.html\n"
     ]
    },
    {
     "name": "stderr",
     "output_type": "stream",
     "text": [
      " 49%|████▉     | 1593/3233 [2:14:40<2:17:01,  5.01s/it]"
     ]
    },
    {
     "name": "stdout",
     "output_type": "stream",
     "text": [
      "no coordenadas https://www.tripadvisor.es/Restaurant_Review-g187514-d7226541-Reviews-Restaurant_Chuanyu-Madrid.html\n"
     ]
    },
    {
     "name": "stderr",
     "output_type": "stream",
     "text": [
      " 49%|████▉     | 1594/3233 [2:14:47<2:29:24,  5.47s/it]"
     ]
    },
    {
     "name": "stdout",
     "output_type": "stream",
     "text": [
      "no coordenadas https://www.tripadvisor.es/Restaurant_Review-g187514-d21140692-Reviews-El_Perolo-Madrid.html\n"
     ]
    },
    {
     "name": "stderr",
     "output_type": "stream",
     "text": [
      " 49%|████▉     | 1595/3233 [2:14:53<2:38:03,  5.79s/it]"
     ]
    },
    {
     "name": "stdout",
     "output_type": "stream",
     "text": [
      "no coordenadas https://www.tripadvisor.es/Restaurant_Review-g187514-d3182886-Reviews-LA_PRODIGA-Madrid.html\n"
     ]
    },
    {
     "name": "stderr",
     "output_type": "stream",
     "text": [
      " 49%|████▉     | 1596/3233 [2:15:00<2:43:01,  5.98s/it]"
     ]
    },
    {
     "name": "stdout",
     "output_type": "stream",
     "text": [
      "no coordenadas https://www.tripadvisor.es/Restaurant_Review-g187514-d8471643-Reviews-Hero_Hot_Pot-Madrid.html\n"
     ]
    },
    {
     "name": "stderr",
     "output_type": "stream",
     "text": [
      " 49%|████▉     | 1597/3233 [2:15:06<2:44:10,  6.02s/it]"
     ]
    },
    {
     "name": "stdout",
     "output_type": "stream",
     "text": [
      "no coordenadas https://www.tripadvisor.es/Restaurant_Review-g187514-d23305773-Reviews-Palm_Court-Madrid.html\n"
     ]
    },
    {
     "name": "stderr",
     "output_type": "stream",
     "text": [
      " 49%|████▉     | 1598/3233 [2:15:10<2:27:09,  5.40s/it]"
     ]
    },
    {
     "name": "stdout",
     "output_type": "stream",
     "text": [
      "no coordenadas https://www.tripadvisor.es/Restaurant_Review-g187514-d15143618-Reviews-Mediterrae-Madrid.html\n"
     ]
    },
    {
     "name": "stderr",
     "output_type": "stream",
     "text": [
      " 49%|████▉     | 1599/3233 [2:15:16<2:29:09,  5.48s/it]"
     ]
    },
    {
     "name": "stdout",
     "output_type": "stream",
     "text": [
      "no coordenadas https://www.tripadvisor.es/Restaurant_Review-g187514-d23100449-Reviews-Restaurante_Enrecoletos-Madrid.html\n"
     ]
    },
    {
     "name": "stderr",
     "output_type": "stream",
     "text": [
      " 49%|████▉     | 1600/3233 [2:15:21<2:31:54,  5.58s/it]"
     ]
    },
    {
     "name": "stdout",
     "output_type": "stream",
     "text": [
      "no coordenadas https://www.tripadvisor.es/Restaurant_Review-g187514-d988005-Reviews-La_Buganvilla-Madrid.html\n"
     ]
    },
    {
     "name": "stderr",
     "output_type": "stream",
     "text": [
      " 50%|████▉     | 1601/3233 [2:15:25<2:18:39,  5.10s/it]"
     ]
    },
    {
     "name": "stdout",
     "output_type": "stream",
     "text": [
      "no coordenadas https://www.tripadvisor.es/Restaurant_Review-g187514-d15583497-Reviews-La_Dolce_Vita-Madrid.html\n"
     ]
    },
    {
     "name": "stderr",
     "output_type": "stream",
     "text": [
      " 50%|████▉     | 1602/3233 [2:15:32<2:29:37,  5.50s/it]"
     ]
    },
    {
     "name": "stdout",
     "output_type": "stream",
     "text": [
      "no coordenadas https://www.tripadvisor.es/Restaurant_Review-g187514-d14098779-Reviews-Picon_Madrid-Madrid.html\n"
     ]
    },
    {
     "name": "stderr",
     "output_type": "stream",
     "text": [
      " 50%|████▉     | 1603/3233 [2:15:38<2:33:40,  5.66s/it]"
     ]
    },
    {
     "name": "stdout",
     "output_type": "stream",
     "text": [
      "no coordenadas https://www.tripadvisor.es/Restaurant_Review-g187514-d13784121-Reviews-La_Papita_Pal_Kilo-Madrid.html\n"
     ]
    },
    {
     "name": "stderr",
     "output_type": "stream",
     "text": [
      " 50%|████▉     | 1604/3233 [2:15:42<2:18:19,  5.10s/it]"
     ]
    },
    {
     "name": "stdout",
     "output_type": "stream",
     "text": [
      "no coordenadas https://www.tripadvisor.es/Restaurant_Review-g187514-d11811333-Reviews-Tenderete-Madrid.html\n"
     ]
    },
    {
     "name": "stderr",
     "output_type": "stream",
     "text": [
      " 50%|████▉     | 1605/3233 [2:15:47<2:24:45,  5.33s/it]"
     ]
    },
    {
     "name": "stdout",
     "output_type": "stream",
     "text": [
      "no coordenadas https://www.tripadvisor.es/Restaurant_Review-g187514-d13288946-Reviews-Gracias_Padre-Madrid.html\n"
     ]
    },
    {
     "name": "stderr",
     "output_type": "stream",
     "text": [
      " 50%|████▉     | 1606/3233 [2:15:54<2:31:02,  5.57s/it]"
     ]
    },
    {
     "name": "stdout",
     "output_type": "stream",
     "text": [
      "no coordenadas https://www.tripadvisor.es/Restaurant_Review-g187514-d1464608-Reviews-Canas_y_Tapas-Madrid.html\n"
     ]
    },
    {
     "name": "stderr",
     "output_type": "stream",
     "text": [
      " 50%|████▉     | 1607/3233 [2:15:58<2:17:47,  5.08s/it]"
     ]
    },
    {
     "name": "stdout",
     "output_type": "stream",
     "text": [
      "no coordenadas https://www.tripadvisor.es/Restaurant_Review-g187514-d11810588-Reviews-The_Place_to_be-Madrid.html\n"
     ]
    },
    {
     "name": "stderr",
     "output_type": "stream",
     "text": [
      " 50%|████▉     | 1608/3233 [2:16:01<2:07:46,  4.72s/it]"
     ]
    },
    {
     "name": "stdout",
     "output_type": "stream",
     "text": [
      "no coordenadas https://www.tripadvisor.es/Restaurant_Review-g187514-d13542709-Reviews-Picaro_Restobar-Madrid.html\n"
     ]
    },
    {
     "name": "stderr",
     "output_type": "stream",
     "text": [
      " 50%|████▉     | 1609/3233 [2:16:08<2:20:22,  5.19s/it]"
     ]
    },
    {
     "name": "stdout",
     "output_type": "stream",
     "text": [
      "no coordenadas https://www.tripadvisor.es/Restaurant_Review-g187514-d23331056-Reviews-Burmet-Madrid.html\n"
     ]
    },
    {
     "name": "stderr",
     "output_type": "stream",
     "text": [
      " 50%|████▉     | 1610/3233 [2:16:12<2:10:00,  4.81s/it]"
     ]
    },
    {
     "name": "stdout",
     "output_type": "stream",
     "text": [
      "no coordenadas https://www.tripadvisor.es/Restaurant_Review-g187514-d23071441-Reviews-Diamantes_de_Sal_Rosa-Madrid.html\n"
     ]
    },
    {
     "name": "stderr",
     "output_type": "stream",
     "text": [
      " 50%|████▉     | 1611/3233 [2:16:18<2:22:27,  5.27s/it]"
     ]
    },
    {
     "name": "stdout",
     "output_type": "stream",
     "text": [
      "no coordenadas https://www.tripadvisor.es/Restaurant_Review-g187514-d4108484-Reviews-La_Tremolina-Madrid.html\n"
     ]
    },
    {
     "name": "stderr",
     "output_type": "stream",
     "text": [
      " 50%|████▉     | 1612/3233 [2:16:24<2:26:48,  5.43s/it]"
     ]
    },
    {
     "name": "stdout",
     "output_type": "stream",
     "text": [
      "no coordenadas https://www.tripadvisor.es/Restaurant_Review-g187514-d15196023-Reviews-Taberna_el_Candie-Madrid.html\n"
     ]
    },
    {
     "name": "stderr",
     "output_type": "stream",
     "text": [
      " 50%|████▉     | 1613/3233 [2:16:29<2:27:59,  5.48s/it]"
     ]
    },
    {
     "name": "stdout",
     "output_type": "stream",
     "text": [
      "no coordenadas https://www.tripadvisor.es/Restaurant_Review-g187514-d19086904-Reviews-La_Alpargata_Taberna_Vegana-Madrid.html\n"
     ]
    },
    {
     "name": "stderr",
     "output_type": "stream",
     "text": [
      " 50%|████▉     | 1614/3233 [2:16:36<2:33:55,  5.70s/it]"
     ]
    },
    {
     "name": "stdout",
     "output_type": "stream",
     "text": [
      "no coordenadas https://www.tripadvisor.es/Restaurant_Review-g187514-d12547482-Reviews-LA_H_ES_MUDA_CEA_BERMUDEZ-Madrid.html\n"
     ]
    },
    {
     "name": "stderr",
     "output_type": "stream",
     "text": [
      " 50%|████▉     | 1615/3233 [2:16:41<2:28:51,  5.52s/it]"
     ]
    },
    {
     "name": "stdout",
     "output_type": "stream",
     "text": [
      "no coordenadas https://www.tripadvisor.es/Restaurant_Review-g187514-d13437604-Reviews-Viandas_WareHouse-Madrid.html\n"
     ]
    },
    {
     "name": "stderr",
     "output_type": "stream",
     "text": [
      " 50%|████▉     | 1616/3233 [2:16:45<2:16:24,  5.06s/it]"
     ]
    },
    {
     "name": "stdout",
     "output_type": "stream",
     "text": [
      "no coordenadas https://www.tripadvisor.es/Restaurant_Review-g187514-d6946626-Reviews-PARRILLA_RIOS_ROSAS-Madrid.html\n"
     ]
    },
    {
     "name": "stderr",
     "output_type": "stream",
     "text": [
      " 50%|█████     | 1617/3233 [2:16:51<2:27:19,  5.47s/it]"
     ]
    },
    {
     "name": "stdout",
     "output_type": "stream",
     "text": [
      "no coordenadas https://www.tripadvisor.es/Restaurant_Review-g187514-d2649839-Reviews-Pizza_Napoli-Madrid.html\n"
     ]
    },
    {
     "name": "stderr",
     "output_type": "stream",
     "text": [
      " 50%|█████     | 1618/3233 [2:16:55<2:15:55,  5.05s/it]"
     ]
    },
    {
     "name": "stdout",
     "output_type": "stream",
     "text": [
      "no coordenadas https://www.tripadvisor.es/Restaurant_Review-g187514-d15154711-Reviews-Astros_Resto_Bar-Madrid.html\n"
     ]
    },
    {
     "name": "stderr",
     "output_type": "stream",
     "text": [
      " 50%|█████     | 1619/3233 [2:17:00<2:10:40,  4.86s/it]"
     ]
    },
    {
     "name": "stdout",
     "output_type": "stream",
     "text": [
      "no coordenadas https://www.tripadvisor.es/Restaurant_Review-g187514-d19165479-Reviews-CHICK_Fried_Chicken-Madrid.html\n"
     ]
    },
    {
     "name": "stderr",
     "output_type": "stream",
     "text": [
      " 50%|█████     | 1620/3233 [2:17:06<2:22:13,  5.29s/it]"
     ]
    },
    {
     "name": "stdout",
     "output_type": "stream",
     "text": [
      "no coordenadas https://www.tripadvisor.es/Restaurant_Review-g187514-d19067209-Reviews-La_Modernista-Madrid.html\n"
     ]
    },
    {
     "name": "stderr",
     "output_type": "stream",
     "text": [
      " 50%|█████     | 1621/3233 [2:17:12<2:24:58,  5.40s/it]"
     ]
    },
    {
     "name": "stdout",
     "output_type": "stream",
     "text": [
      "no coordenadas https://www.tripadvisor.es/Restaurant_Review-g187514-d25163737-Reviews-Lupara_Bar-Madrid.html\n"
     ]
    },
    {
     "name": "stderr",
     "output_type": "stream",
     "text": [
      " 50%|█████     | 1622/3233 [2:17:15<2:11:35,  4.90s/it]"
     ]
    },
    {
     "name": "stdout",
     "output_type": "stream",
     "text": [
      "no coordenadas https://www.tripadvisor.es/Restaurant_Review-g187514-d13353727-Reviews-Akma_B_o_B-Madrid.html\n"
     ]
    },
    {
     "name": "stderr",
     "output_type": "stream",
     "text": [
      " 50%|█████     | 1623/3233 [2:17:19<2:04:34,  4.64s/it]"
     ]
    },
    {
     "name": "stdout",
     "output_type": "stream",
     "text": [
      "no coordenadas https://www.tripadvisor.es/Restaurant_Review-g187514-d23800640-Reviews-La_Barra_Del_Comercial-Madrid.html\n"
     ]
    },
    {
     "name": "stderr",
     "output_type": "stream",
     "text": [
      " 50%|█████     | 1624/3233 [2:17:23<1:59:04,  4.44s/it]"
     ]
    },
    {
     "name": "stdout",
     "output_type": "stream",
     "text": [
      "no coordenadas https://www.tripadvisor.es/Restaurant_Review-g187514-d15548776-Reviews-Cachapeishon-Madrid.html\n"
     ]
    },
    {
     "name": "stderr",
     "output_type": "stream",
     "text": [
      " 50%|█████     | 1625/3233 [2:17:28<2:02:37,  4.58s/it]"
     ]
    },
    {
     "name": "stdout",
     "output_type": "stream",
     "text": [
      "no coordenadas https://www.tripadvisor.es/Restaurant_Review-g187514-d10720317-Reviews-Moraima-Madrid.html\n"
     ]
    },
    {
     "name": "stderr",
     "output_type": "stream",
     "text": [
      " 50%|█████     | 1626/3233 [2:17:33<2:05:05,  4.67s/it]"
     ]
    },
    {
     "name": "stdout",
     "output_type": "stream",
     "text": [
      "no coordenadas https://www.tripadvisor.es/Restaurant_Review-g187514-d751623-Reviews-Fass-Madrid.html\n"
     ]
    },
    {
     "name": "stderr",
     "output_type": "stream",
     "text": [
      " 50%|█████     | 1627/3233 [2:17:38<2:05:43,  4.70s/it]"
     ]
    },
    {
     "name": "stdout",
     "output_type": "stream",
     "text": [
      "no coordenadas https://www.tripadvisor.es/Restaurant_Review-g187514-d17624780-Reviews-Restaurante_La_Lumbre-Madrid.html\n"
     ]
    },
    {
     "name": "stderr",
     "output_type": "stream",
     "text": [
      " 50%|█████     | 1628/3233 [2:17:42<2:00:50,  4.52s/it]"
     ]
    },
    {
     "name": "stdout",
     "output_type": "stream",
     "text": [
      "no coordenadas https://www.tripadvisor.es/Restaurant_Review-g187514-d7267837-Reviews-PaloSanto-Madrid.html\n"
     ]
    },
    {
     "name": "stderr",
     "output_type": "stream",
     "text": [
      " 50%|█████     | 1629/3233 [2:17:47<2:02:35,  4.59s/it]"
     ]
    },
    {
     "name": "stdout",
     "output_type": "stream",
     "text": [
      "no coordenadas https://www.tripadvisor.es/Restaurant_Review-g187514-d7305400-Reviews-Yambala-Madrid.html\n"
     ]
    },
    {
     "name": "stderr",
     "output_type": "stream",
     "text": [
      " 50%|█████     | 1630/3233 [2:17:53<2:12:43,  4.97s/it]"
     ]
    },
    {
     "name": "stdout",
     "output_type": "stream",
     "text": [
      "no coordenadas https://www.tripadvisor.es/Restaurant_Review-g187514-d11890758-Reviews-El_Rincon_de_Mapi-Madrid.html\n"
     ]
    },
    {
     "name": "stderr",
     "output_type": "stream",
     "text": [
      " 50%|█████     | 1631/3233 [2:17:58<2:16:16,  5.10s/it]"
     ]
    },
    {
     "name": "stdout",
     "output_type": "stream",
     "text": [
      "no coordenadas https://www.tripadvisor.es/Restaurant_Review-g187514-d15759740-Reviews-Aloha_Poke-Madrid.html\n"
     ]
    },
    {
     "name": "stderr",
     "output_type": "stream",
     "text": [
      " 50%|█████     | 1632/3233 [2:18:03<2:17:54,  5.17s/it]"
     ]
    },
    {
     "name": "stdout",
     "output_type": "stream",
     "text": [
      "no coordenadas https://www.tripadvisor.es/Restaurant_Review-g187514-d14894504-Reviews-Giulietta-Madrid.html\n"
     ]
    },
    {
     "name": "stderr",
     "output_type": "stream",
     "text": [
      " 51%|█████     | 1633/3233 [2:18:08<2:10:44,  4.90s/it]"
     ]
    },
    {
     "name": "stdout",
     "output_type": "stream",
     "text": [
      "no coordenadas https://www.tripadvisor.es/Restaurant_Review-g187514-d4986308-Reviews-En_Copa_de_Balon-Madrid.html\n"
     ]
    },
    {
     "name": "stderr",
     "output_type": "stream",
     "text": [
      " 51%|█████     | 1634/3233 [2:18:12<2:09:32,  4.86s/it]"
     ]
    },
    {
     "name": "stdout",
     "output_type": "stream",
     "text": [
      "no coordenadas https://www.tripadvisor.es/Restaurant_Review-g187514-d2717077-Reviews-Restaurante_O_Camino-Madrid.html\n"
     ]
    },
    {
     "name": "stderr",
     "output_type": "stream",
     "text": [
      " 51%|█████     | 1635/3233 [2:18:17<2:06:19,  4.74s/it]"
     ]
    },
    {
     "name": "stdout",
     "output_type": "stream",
     "text": [
      "no coordenadas https://www.tripadvisor.es/Restaurant_Review-g187514-d6019926-Reviews-Tierra_Del_Queiles-Madrid.html\n"
     ]
    },
    {
     "name": "stderr",
     "output_type": "stream",
     "text": [
      " 51%|█████     | 1636/3233 [2:18:22<2:07:03,  4.77s/it]"
     ]
    },
    {
     "name": "stdout",
     "output_type": "stream",
     "text": [
      "no coordenadas https://www.tripadvisor.es/Restaurant_Review-g187514-d15024261-Reviews-Zascandil-Madrid.html\n"
     ]
    },
    {
     "name": "stderr",
     "output_type": "stream",
     "text": [
      " 51%|█████     | 1637/3233 [2:18:28<2:18:29,  5.21s/it]"
     ]
    },
    {
     "name": "stdout",
     "output_type": "stream",
     "text": [
      "no coordenadas https://www.tripadvisor.es/Restaurant_Review-g187514-d3162800-Reviews-Taberna_La_Lirio-Madrid.html\n"
     ]
    },
    {
     "name": "stderr",
     "output_type": "stream",
     "text": [
      " 51%|█████     | 1638/3233 [2:18:32<2:08:41,  4.84s/it]"
     ]
    },
    {
     "name": "stdout",
     "output_type": "stream",
     "text": [
      "no coordenadas https://www.tripadvisor.es/Restaurant_Review-g187514-d17572329-Reviews-Makan_Saj-Madrid.html\n"
     ]
    },
    {
     "name": "stderr",
     "output_type": "stream",
     "text": [
      " 51%|█████     | 1639/3233 [2:18:37<2:11:41,  4.96s/it]"
     ]
    },
    {
     "name": "stdout",
     "output_type": "stream",
     "text": [
      "no coordenadas https://www.tripadvisor.es/Restaurant_Review-g187514-d15355273-Reviews-La_Nobia-Madrid.html\n"
     ]
    },
    {
     "name": "stderr",
     "output_type": "stream",
     "text": [
      " 51%|█████     | 1640/3233 [2:18:43<2:20:57,  5.31s/it]"
     ]
    },
    {
     "name": "stdout",
     "output_type": "stream",
     "text": [
      "no coordenadas https://www.tripadvisor.es/Restaurant_Review-g187514-d23312361-Reviews-Sushi_Bar_Tottori-Madrid.html\n"
     ]
    },
    {
     "name": "stderr",
     "output_type": "stream",
     "text": [
      " 51%|█████     | 1641/3233 [2:18:49<2:28:44,  5.61s/it]"
     ]
    },
    {
     "name": "stdout",
     "output_type": "stream",
     "text": [
      "no coordenadas https://www.tripadvisor.es/Restaurant_Review-g187514-d12545130-Reviews-ENCUENTROS_Cafe_Social_e_Intercultural-Madrid.html\n"
     ]
    },
    {
     "name": "stderr",
     "output_type": "stream",
     "text": [
      " 51%|█████     | 1642/3233 [2:18:55<2:29:46,  5.65s/it]"
     ]
    },
    {
     "name": "stdout",
     "output_type": "stream",
     "text": [
      "no coordenadas https://www.tripadvisor.es/Restaurant_Review-g187514-d8411509-Reviews-El_Porron_Canalla-Madrid.html\n"
     ]
    },
    {
     "name": "stderr",
     "output_type": "stream",
     "text": [
      " 51%|█████     | 1643/3233 [2:18:59<2:16:41,  5.16s/it]"
     ]
    },
    {
     "name": "stdout",
     "output_type": "stream",
     "text": [
      "no coordenadas https://www.tripadvisor.es/Restaurant_Review-g187514-d23790240-Reviews-Camerino-Madrid.html\n"
     ]
    },
    {
     "name": "stderr",
     "output_type": "stream",
     "text": [
      " 51%|█████     | 1644/3233 [2:19:04<2:12:22,  5.00s/it]"
     ]
    },
    {
     "name": "stdout",
     "output_type": "stream",
     "text": [
      "no coordenadas https://www.tripadvisor.es/Restaurant_Review-g187514-d2040740-Reviews-Epoque_by_Gran_Melia-Madrid.html\n"
     ]
    },
    {
     "name": "stderr",
     "output_type": "stream",
     "text": [
      " 51%|█████     | 1645/3233 [2:19:08<2:06:00,  4.76s/it]"
     ]
    },
    {
     "name": "stdout",
     "output_type": "stream",
     "text": [
      "no coordenadas https://www.tripadvisor.es/Restaurant_Review-g187514-d19896419-Reviews-Restaurante_Insolito-Madrid.html\n"
     ]
    },
    {
     "name": "stderr",
     "output_type": "stream",
     "text": [
      " 51%|█████     | 1646/3233 [2:19:13<2:06:47,  4.79s/it]"
     ]
    },
    {
     "name": "stdout",
     "output_type": "stream",
     "text": [
      "no coordenadas https://www.tripadvisor.es/Restaurant_Review-g187514-d13322073-Reviews-Paellamar_Tirso_de_Molina-Madrid.html\n"
     ]
    },
    {
     "name": "stderr",
     "output_type": "stream",
     "text": [
      " 51%|█████     | 1647/3233 [2:19:19<2:15:26,  5.12s/it]"
     ]
    },
    {
     "name": "stdout",
     "output_type": "stream",
     "text": [
      "no coordenadas https://www.tripadvisor.es/Restaurant_Review-g187514-d12375400-Reviews-UDON_La_Gavia-Madrid.html\n"
     ]
    },
    {
     "name": "stderr",
     "output_type": "stream",
     "text": [
      " 51%|█████     | 1648/3233 [2:19:25<2:19:54,  5.30s/it]"
     ]
    },
    {
     "name": "stdout",
     "output_type": "stream",
     "text": [
      "no coordenadas https://www.tripadvisor.es/Restaurant_Review-g187514-d13071677-Reviews-La_Boiga_Taberna-Madrid.html\n"
     ]
    },
    {
     "name": "stderr",
     "output_type": "stream",
     "text": [
      " 51%|█████     | 1649/3233 [2:19:29<2:11:55,  5.00s/it]"
     ]
    },
    {
     "name": "stdout",
     "output_type": "stream",
     "text": [
      "no coordenadas https://www.tripadvisor.es/Restaurant_Review-g187514-d19911569-Reviews-Cantina_Singular-Madrid.html\n"
     ]
    },
    {
     "name": "stderr",
     "output_type": "stream",
     "text": [
      " 51%|█████     | 1650/3233 [2:19:34<2:10:51,  4.96s/it]"
     ]
    },
    {
     "name": "stdout",
     "output_type": "stream",
     "text": [
      "no coordenadas https://www.tripadvisor.es/Restaurant_Review-g187514-d20198450-Reviews-Sweet_Rolls_Cinnamon_Roll-Madrid.html\n"
     ]
    },
    {
     "name": "stderr",
     "output_type": "stream",
     "text": [
      " 51%|█████     | 1651/3233 [2:19:39<2:11:00,  4.97s/it]"
     ]
    },
    {
     "name": "stdout",
     "output_type": "stream",
     "text": [
      "no coordenadas https://www.tripadvisor.es/Restaurant_Review-g187514-d3662915-Reviews-Platina_Cafe-Madrid.html\n"
     ]
    },
    {
     "name": "stderr",
     "output_type": "stream",
     "text": [
      " 51%|█████     | 1652/3233 [2:19:43<2:01:59,  4.63s/it]"
     ]
    },
    {
     "name": "stdout",
     "output_type": "stream",
     "text": [
      "no coordenadas https://www.tripadvisor.es/Restaurant_Review-g187514-d12416180-Reviews-Workshop_Del_Cacique-Madrid.html\n"
     ]
    },
    {
     "name": "stderr",
     "output_type": "stream",
     "text": [
      " 51%|█████     | 1653/3233 [2:19:47<2:00:04,  4.56s/it]"
     ]
    },
    {
     "name": "stdout",
     "output_type": "stream",
     "text": [
      "no coordenadas https://www.tripadvisor.es/Restaurant_Review-g187514-d991837-Reviews-Fortuny_Home_Club-Madrid.html\n"
     ]
    },
    {
     "name": "stderr",
     "output_type": "stream",
     "text": [
      " 51%|█████     | 1654/3233 [2:19:51<1:56:47,  4.44s/it]"
     ]
    },
    {
     "name": "stdout",
     "output_type": "stream",
     "text": [
      "no coordenadas https://www.tripadvisor.es/Restaurant_Review-g187514-d16713964-Reviews-Restaurante_Mar_y_Tierra_Montecarmelo-Madrid.html\n"
     ]
    },
    {
     "name": "stderr",
     "output_type": "stream",
     "text": [
      " 51%|█████     | 1655/3233 [2:19:55<1:51:23,  4.24s/it]"
     ]
    },
    {
     "name": "stdout",
     "output_type": "stream",
     "text": [
      "no coordenadas https://www.tripadvisor.es/Restaurant_Review-g187514-d12377551-Reviews-Maura_Wines_Food-Madrid.html\n"
     ]
    },
    {
     "name": "stderr",
     "output_type": "stream",
     "text": [
      " 51%|█████     | 1656/3233 [2:19:59<1:52:44,  4.29s/it]"
     ]
    },
    {
     "name": "stdout",
     "output_type": "stream",
     "text": [
      "no coordenadas https://www.tripadvisor.es/Restaurant_Review-g187514-d4474947-Reviews-La_Tagliatella_Avd_America-Madrid.html\n"
     ]
    },
    {
     "name": "stderr",
     "output_type": "stream",
     "text": [
      " 51%|█████▏    | 1657/3233 [2:20:05<2:07:47,  4.87s/it]"
     ]
    },
    {
     "name": "stdout",
     "output_type": "stream",
     "text": [
      "no coordenadas https://www.tripadvisor.es/Restaurant_Review-g187514-d8832261-Reviews-Hamburguesa_Nostra-Madrid.html\n"
     ]
    },
    {
     "name": "stderr",
     "output_type": "stream",
     "text": [
      " 51%|█████▏    | 1657/3233 [2:20:12<2:13:21,  5.08s/it]\n"
     ]
    },
    {
     "ename": "KeyboardInterrupt",
     "evalue": "",
     "output_type": "error",
     "traceback": [
      "\u001b[1;31m---------------------------------------------------------------------------\u001b[0m",
      "\u001b[1;31mKeyboardInterrupt\u001b[0m                         Traceback (most recent call last)",
      "\u001b[1;32mc:\\Users\\FOZ\\OneDrive - QlikTech Inc\\Desktop\\IRONHACK\\00_proyecto\\notebooks\\1_Extraccion\\tripadvisor.ipynb Cell 11\u001b[0m in \u001b[0;36m<cell line: 4>\u001b[1;34m()\u001b[0m\n\u001b[0;32m      <a href='vscode-notebook-cell:/c%3A/Users/FOZ/OneDrive%20-%20QlikTech%20Inc/Desktop/IRONHACK/00_proyecto/notebooks/1_Extraccion/tripadvisor.ipynb#W6sZmlsZQ%3D%3D?line=3'>4</a>\u001b[0m \u001b[39mfor\u001b[39;00m url \u001b[39min\u001b[39;00m tqdm(lista_url):\n\u001b[0;32m      <a href='vscode-notebook-cell:/c%3A/Users/FOZ/OneDrive%20-%20QlikTech%20Inc/Desktop/IRONHACK/00_proyecto/notebooks/1_Extraccion/tripadvisor.ipynb#W6sZmlsZQ%3D%3D?line=5'>6</a>\u001b[0m     driver\u001b[39m.\u001b[39mget(url)\n\u001b[1;32m----> <a href='vscode-notebook-cell:/c%3A/Users/FOZ/OneDrive%20-%20QlikTech%20Inc/Desktop/IRONHACK/00_proyecto/notebooks/1_Extraccion/tripadvisor.ipynb#W6sZmlsZQ%3D%3D?line=7'>8</a>\u001b[0m     sleep(randint(\u001b[39m2\u001b[39;49m,\u001b[39m4\u001b[39;49m))\n\u001b[0;32m      <a href='vscode-notebook-cell:/c%3A/Users/FOZ/OneDrive%20-%20QlikTech%20Inc/Desktop/IRONHACK/00_proyecto/notebooks/1_Extraccion/tripadvisor.ipynb#W6sZmlsZQ%3D%3D?line=8'>9</a>\u001b[0m     \u001b[39mtry\u001b[39;00m:\n\u001b[0;32m     <a href='vscode-notebook-cell:/c%3A/Users/FOZ/OneDrive%20-%20QlikTech%20Inc/Desktop/IRONHACK/00_proyecto/notebooks/1_Extraccion/tripadvisor.ipynb#W6sZmlsZQ%3D%3D?line=9'>10</a>\u001b[0m         driver\u001b[39m.\u001b[39mfind_element(\u001b[39m\"\u001b[39m\u001b[39mxpath\u001b[39m\u001b[39m\"\u001b[39m, \u001b[39m'\u001b[39m\u001b[39m//*[@id=\u001b[39m\u001b[39m\"\u001b[39m\u001b[39monetrust-accept-btn-handler\u001b[39m\u001b[39m\"\u001b[39m\u001b[39m]\u001b[39m\u001b[39m'\u001b[39m)\u001b[39m.\u001b[39mclick()\n",
      "\u001b[1;31mKeyboardInterrupt\u001b[0m: "
     ]
    }
   ],
   "source": [
    "driver = webdriver.Chrome(\"chromedriver.exe\")\n",
    "\n",
    "\n",
    "for url in tqdm(lista_url):\n",
    "    \n",
    "    driver.get(url)\n",
    "\n",
    "    sleep(randint(2,4))\n",
    "    try:\n",
    "        driver.find_element(\"xpath\", '//*[@id=\"onetrust-accept-btn-handler\"]').click()\n",
    "\n",
    "    except:\n",
    "        pass\n",
    "\n",
    "    dicc_trip[\"url\"].append(url)\n",
    "\n",
    "    try:\n",
    "        dicc_trip[\"coordenadas\"].append(driver.find_element(\"xpath\", f'//*[@id=\"component_54\"]/div[1]/div/div[3]/div/div/span[1]/span/img').get_attribute(\"src\"))\n",
    "    except NoSuchElementException:\n",
    "        try:\n",
    "            dicc_trip[\"coordenadas\"].append(driver.find_element(\"xpath\", f'//*[@id=\"component_56\"]/div[1]/div/div[3]/div/div/span[1]/span/img').get_attribute(\"src\"))\n",
    "        except NoSuchElementException:\n",
    "            try:\n",
    "                dicc_trip[\"coordenadas\"].append(driver.find_element(\"xpath\", f'//*[@id=\"component_55\"]/div[1]/div/div[3]/div/div/span[1]/span/img').get_attribute(\"src\"))\n",
    "            except NoSuchElementException:\n",
    "                dicc_trip[\"coordenadas\"].append(np.nan)\n",
    "                print(f\"no coordenadas {url}\")\n",
    "\n",
    "    try:\n",
    "        dicc_trip[\"imagen\"].append(driver.find_element(\"xpath\", f'//*[@id=\"taplc_resp_rr_photo_mosaic_0\"]/div/div[1]/div[1]/div[2]/div[2]/div[1]/div/img').get_attribute(\"src\"))\n",
    "\n",
    "    except NoSuchElementException:\n",
    "        try:\n",
    "            dicc_trip[\"imagen\"].append(driver.find_element(\"xpath\", f'//*[@id=\"taplc_resp_rr_photo_mosaic_0\"]/div/div[1]/div[1]/div[2]/div[3]/div/div/img').get_attribute(\"src\"))\n",
    "        except NoSuchElementException:\n",
    "            dicc_trip[\"imagen\"].append(np.nan)\n",
    "            print(f\"no imagen {url}\")\n"
   ]
  },
  {
   "cell_type": "code",
   "execution_count": 35,
   "metadata": {},
   "outputs": [],
   "source": [
    "df_trip_detalle= pd.DataFrame(dicc_trip)\n",
    "df_trip_detalle.to_csv(f'../../data/data_inicial/TRIPADVISOR_DETALLE.csv', header=True, index=False)"
   ]
  }
 ],
 "metadata": {
  "kernelspec": {
   "display_name": "Python 3",
   "language": "python",
   "name": "python3"
  },
  "language_info": {
   "codemirror_mode": {
    "name": "ipython",
    "version": 3
   },
   "file_extension": ".py",
   "mimetype": "text/x-python",
   "name": "python",
   "nbconvert_exporter": "python",
   "pygments_lexer": "ipython3",
   "version": "3.9.12"
  },
  "orig_nbformat": 4
 },
 "nbformat": 4,
 "nbformat_minor": 2
}
