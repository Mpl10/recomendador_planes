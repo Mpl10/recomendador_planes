{
 "cells": [
  {
   "cell_type": "code",
   "execution_count": 2,
   "metadata": {},
   "outputs": [],
   "source": [
    "import pandas as pd"
   ]
  },
  {
   "cell_type": "code",
   "execution_count": 3,
   "metadata": {},
   "outputs": [],
   "source": [
    "import sys \n",
    "sys.path.append(\"src\")\n",
    "import src.soporte_limpieza as sp"
   ]
  },
  {
   "cell_type": "code",
   "execution_count": 5,
   "metadata": {},
   "outputs": [],
   "source": [
    "pd.options.display.max_columns = None"
   ]
  },
  {
   "attachments": {},
   "cell_type": "markdown",
   "metadata": {},
   "source": [
    "# LIMPIEZA DE DATOS"
   ]
  },
  {
   "attachments": {},
   "cell_type": "markdown",
   "metadata": {},
   "source": [
    "En este notebook se procederá a la limpieza, unificación y preparación para el algoritmo de recomendación de la información extraída de cada una de las fuentes recogidas en el documento 1_Extraccion.ipynb"
   ]
  },
  {
   "attachments": {},
   "cell_type": "markdown",
   "metadata": {},
   "source": [
    "## 1. Limpieza de Fever"
   ]
  },
  {
   "cell_type": "code",
   "execution_count": 35,
   "metadata": {},
   "outputs": [],
   "source": [
    "df_fever= pd.read_csv('../data/FEVER.csv')\n",
    "df_fever_detalle= pd.read_csv('../data/FEVER_DETALLE.csv')"
   ]
  },
  {
   "cell_type": "code",
   "execution_count": 36,
   "metadata": {},
   "outputs": [],
   "source": [
    "#Extraemos las sku de las url para cruzar los 2 df\n",
    "df_fever['sku'] = df_fever['url'].apply(sp.Limpieza.extract_sku).astype(int)\n",
    "\n",
    "#Agrupamos los df\n",
    "df_fever_all = pd.merge(df_fever, df_fever_detalle, on='sku', how='left')\n",
    "\n",
    "#Gestionaremos los nulos en la columna descripción reemplazándolos por el nombre de la actividad\n",
    "df_fever_all['descripcion'].fillna(df_fever_all['nombre'], inplace=True)\n",
    "\n",
    "#Renombrado de columnas\n",
    "df_fever_all.rename(columns={'categoria': 'subcategoria'}, inplace=True)\n",
    "\n",
    "#Eliminación de la columnas que no se utilizarán en este caso\n",
    "df_fever_all = df_fever_all.drop(['fecha', 'sku'], axis=1)\n",
    "\n",
    "#Limpieza de la columna de precio\n",
    "df_fever_all['precio'] = df_fever_all['precio'].apply(sp.Limpieza.columna_precio_fever)\n",
    "\n",
    "#Limpieza de la columna de rating\n",
    "df_fever_all['rating'] = df_fever_all['rating'].apply(lambda x: sp.Limpieza.columna_rating(x))\n",
    "\n",
    "#Renombrado de columnas\n",
    "df_fever_all.rename(columns={'lugar': 'direccion'}, inplace=True)\n",
    "\n",
    "#Eliminación de aquellos planes que contienen nulos en el resto de las columnas, puesto que no se pueden reemplazar\n",
    "df_fever_all = df_fever_all.dropna()"
   ]
  },
  {
   "cell_type": "code",
   "execution_count": 37,
   "metadata": {},
   "outputs": [
    {
     "data": {
      "text/html": [
       "<div>\n",
       "<style scoped>\n",
       "    .dataframe tbody tr th:only-of-type {\n",
       "        vertical-align: middle;\n",
       "    }\n",
       "\n",
       "    .dataframe tbody tr th {\n",
       "        vertical-align: top;\n",
       "    }\n",
       "\n",
       "    .dataframe thead th {\n",
       "        text-align: right;\n",
       "    }\n",
       "</style>\n",
       "<table border=\"1\" class=\"dataframe\">\n",
       "  <thead>\n",
       "    <tr style=\"text-align: right;\">\n",
       "      <th></th>\n",
       "      <th>subcategoria</th>\n",
       "      <th>nombre</th>\n",
       "      <th>url</th>\n",
       "      <th>precio</th>\n",
       "      <th>rating</th>\n",
       "      <th>descripcion</th>\n",
       "      <th>imagen</th>\n",
       "      <th>latitud</th>\n",
       "      <th>longitud</th>\n",
       "      <th>direccion</th>\n",
       "    </tr>\n",
       "  </thead>\n",
       "  <tbody>\n",
       "    <tr>\n",
       "      <th>0</th>\n",
       "      <td>conciertos-festivales</td>\n",
       "      <td>Candlelight Orquesta: lo mejor de Joe Hisaishi</td>\n",
       "      <td>https://feverup.com/m/127269</td>\n",
       "      <td>15.0</td>\n",
       "      <td>0.0</td>\n",
       "      <td>elight  son los conciertos a la luz de las vel...</td>\n",
       "      <td>https://applications-media.feverup.com/image/u...</td>\n",
       "      <td>40.420915</td>\n",
       "      <td>-3.7188</td>\n",
       "      <td>Gran Teatro CAIXABANK Príncipe Pío</td>\n",
       "    </tr>\n",
       "  </tbody>\n",
       "</table>\n",
       "</div>"
      ],
      "text/plain": [
       "            subcategoria                                          nombre  \\\n",
       "0  conciertos-festivales  Candlelight Orquesta: lo mejor de Joe Hisaishi   \n",
       "\n",
       "                            url  precio  rating  \\\n",
       "0  https://feverup.com/m/127269    15.0     0.0   \n",
       "\n",
       "                                         descripcion  \\\n",
       "0  elight  son los conciertos a la luz de las vel...   \n",
       "\n",
       "                                              imagen    latitud  longitud  \\\n",
       "0  https://applications-media.feverup.com/image/u...  40.420915   -3.7188   \n",
       "\n",
       "                            direccion  \n",
       "0  Gran Teatro CAIXABANK Príncipe Pío  "
      ]
     },
     "execution_count": 37,
     "metadata": {},
     "output_type": "execute_result"
    }
   ],
   "source": [
    "df_fever_all.head(1)"
   ]
  },
  {
   "cell_type": "code",
   "execution_count": 38,
   "metadata": {},
   "outputs": [
    {
     "name": "stdout",
     "output_type": "stream",
     "text": [
      "<class 'pandas.core.frame.DataFrame'>\n",
      "Int64Index: 884 entries, 0 to 911\n",
      "Data columns (total 10 columns):\n",
      " #   Column        Non-Null Count  Dtype  \n",
      "---  ------        --------------  -----  \n",
      " 0   subcategoria  884 non-null    object \n",
      " 1   nombre        884 non-null    object \n",
      " 2   url           884 non-null    object \n",
      " 3   precio        884 non-null    float64\n",
      " 4   rating        884 non-null    float64\n",
      " 5   descripcion   884 non-null    object \n",
      " 6   imagen        884 non-null    object \n",
      " 7   latitud       884 non-null    float64\n",
      " 8   longitud      884 non-null    float64\n",
      " 9   direccion     884 non-null    object \n",
      "dtypes: float64(4), object(6)\n",
      "memory usage: 76.0+ KB\n"
     ]
    }
   ],
   "source": [
    "df_fever_all.info()"
   ]
  },
  {
   "attachments": {},
   "cell_type": "markdown",
   "metadata": {},
   "source": [
    "## 2. Limpieza de Groupon"
   ]
  },
  {
   "cell_type": "code",
   "execution_count": 39,
   "metadata": {},
   "outputs": [],
   "source": [
    "df_groupon= pd.read_csv('../data/GROUPON.csv')\n",
    "df_groupon_detalle= pd.read_csv('../data/GROUPON_DETALLE.csv')"
   ]
  },
  {
   "cell_type": "code",
   "execution_count": 40,
   "metadata": {},
   "outputs": [],
   "source": [
    "#Eliminamos la columna precio_2 porque no nos aporta información\n",
    "df_groupon = df_groupon.drop(['precio_2'], axis=1)\n",
    "\n",
    "#Agrupamos los df\n",
    "df_groupon_all = pd.merge(df_groupon, df_groupon_detalle, on='url', how='left')\n",
    "\n",
    "#Gestionaremos los nulos en la columna descripción reemplazándolos por el nombre de la actividad\n",
    "df_groupon_all['descripcion'].fillna(df_groupon_all['nombre'], inplace=True)\n",
    "\n",
    "#Limpieza y gestión de nulos de la columna rating\n",
    "df_groupon_all['rating'] = df_groupon_all['rating'].apply(lambda x: sp.Limpieza.columna_rating(x))\n",
    "\n",
    "#Obetenemos la latitud y longitud de las direcciones de las actividades\n",
    "df_groupon_all[['latitud', 'longitud']] = df_groupon_all['direccion'].apply(lambda x: pd.Series(sp.Limpieza.obtener_lat_long(x)))\n",
    "\n",
    "#Renombrado de columnas\n",
    "df_groupon_all.rename(columns={'categoria': 'subcategoria'}, inplace=True)"
   ]
  },
  {
   "cell_type": "code",
   "execution_count": 41,
   "metadata": {},
   "outputs": [
    {
     "data": {
      "text/html": [
       "<div>\n",
       "<style scoped>\n",
       "    .dataframe tbody tr th:only-of-type {\n",
       "        vertical-align: middle;\n",
       "    }\n",
       "\n",
       "    .dataframe tbody tr th {\n",
       "        vertical-align: top;\n",
       "    }\n",
       "\n",
       "    .dataframe thead th {\n",
       "        text-align: right;\n",
       "    }\n",
       "</style>\n",
       "<table border=\"1\" class=\"dataframe\">\n",
       "  <thead>\n",
       "    <tr style=\"text-align: right;\">\n",
       "      <th></th>\n",
       "      <th>subcategoria</th>\n",
       "      <th>nombre</th>\n",
       "      <th>direccion</th>\n",
       "      <th>url</th>\n",
       "      <th>precio</th>\n",
       "      <th>rating</th>\n",
       "      <th>descripcion</th>\n",
       "      <th>imagen</th>\n",
       "      <th>latitud</th>\n",
       "      <th>longitud</th>\n",
       "    </tr>\n",
       "  </thead>\n",
       "  <tbody>\n",
       "    <tr>\n",
       "      <th>0</th>\n",
       "      <td>juegos-de-escape</td>\n",
       "      <td>Escape room urbano para grupos de 2 a 6 person...</td>\n",
       "      <td>Calle Manzana, 15, Madrid</td>\n",
       "      <td>https://www.groupon.es/deals/parapark-madrid-2</td>\n",
       "      <td>39.99</td>\n",
       "      <td>4.7</td>\n",
       "      <td>Las opciones incluyen:\\nJuego de escape room u...</td>\n",
       "      <td>https://img.grouponcdn.com/deal/2g4EpyyacTyhbh...</td>\n",
       "      <td>0.0</td>\n",
       "      <td>0.0</td>\n",
       "    </tr>\n",
       "  </tbody>\n",
       "</table>\n",
       "</div>"
      ],
      "text/plain": [
       "       subcategoria                                             nombre  \\\n",
       "0  juegos-de-escape  Escape room urbano para grupos de 2 a 6 person...   \n",
       "\n",
       "                   direccion                                             url  \\\n",
       "0  Calle Manzana, 15, Madrid  https://www.groupon.es/deals/parapark-madrid-2   \n",
       "\n",
       "   precio  rating                                        descripcion  \\\n",
       "0   39.99     4.7  Las opciones incluyen:\\nJuego de escape room u...   \n",
       "\n",
       "                                              imagen  latitud  longitud  \n",
       "0  https://img.grouponcdn.com/deal/2g4EpyyacTyhbh...      0.0       0.0  "
      ]
     },
     "execution_count": 41,
     "metadata": {},
     "output_type": "execute_result"
    }
   ],
   "source": [
    "df_groupon_all.head(1)"
   ]
  },
  {
   "cell_type": "code",
   "execution_count": 42,
   "metadata": {},
   "outputs": [
    {
     "name": "stdout",
     "output_type": "stream",
     "text": [
      "<class 'pandas.core.frame.DataFrame'>\n",
      "Int64Index: 98 entries, 0 to 97\n",
      "Data columns (total 10 columns):\n",
      " #   Column        Non-Null Count  Dtype  \n",
      "---  ------        --------------  -----  \n",
      " 0   subcategoria  98 non-null     object \n",
      " 1   nombre        98 non-null     object \n",
      " 2   direccion     98 non-null     object \n",
      " 3   url           98 non-null     object \n",
      " 4   precio        98 non-null     float64\n",
      " 5   rating        98 non-null     float64\n",
      " 6   descripcion   98 non-null     object \n",
      " 7   imagen        98 non-null     object \n",
      " 8   latitud       98 non-null     float64\n",
      " 9   longitud      98 non-null     float64\n",
      "dtypes: float64(4), object(6)\n",
      "memory usage: 8.4+ KB\n"
     ]
    }
   ],
   "source": [
    "df_groupon_all.info()"
   ]
  },
  {
   "attachments": {},
   "cell_type": "markdown",
   "metadata": {},
   "source": [
    "## 3. Limpieza de Tripadvisor"
   ]
  },
  {
   "cell_type": "code",
   "execution_count": 43,
   "metadata": {},
   "outputs": [],
   "source": [
    "df_tripadvisor= pd.read_json('tutorial/TRIPADVISOR_D.json')\n",
    "df_tripadvisor_detalle= pd.read_csv('../data/TRIPADVISOR_DETALLE.csv')"
   ]
  },
  {
   "cell_type": "code",
   "execution_count": 44,
   "metadata": {},
   "outputs": [],
   "source": [
    "#Eliminacion de columnas innecesarias y campos nulos \n",
    "df_tripadvisor = df_tripadvisor.drop(['province','price','city', 'price_all','latitude','longitude','meals','specialDiets','locationAll','coordinates','positionlink'], axis=1)\n",
    "df_tripadvisor = df_tripadvisor.dropna()\n",
    "df_tripadvisor = df_tripadvisor.reset_index(drop=True)"
   ]
  },
  {
   "cell_type": "code",
   "execution_count": 45,
   "metadata": {},
   "outputs": [],
   "source": [
    "#Creación la columna subcategoria\n",
    "df_tripadvisor['subcategoria'] = 'restaurantes'\n",
    "\n",
    "#Renombrado de columnas\n",
    "df_tripadvisor.rename(columns={'cuisines': 'descripcion', 'name': 'nombre', 'direction': 'direccion'}, inplace=True)\n",
    "\n",
    "#Modificación de la columna url para cruzar los 2 df\n",
    "df_tripadvisor['url'] = 'https://www.tripadvisor.es' + df_tripadvisor['url']\n",
    "\n",
    "#Agrupamos los df\n",
    "df_tripadvisor_all = pd.merge(df_tripadvisor, df_tripadvisor_detalle, on='url', how='left')\n",
    "\n",
    "#Eliminación de los nulos del df en las columnas en las que no hay posibilidad de reemplazo\n",
    "df_tripadvisor_all = df_tripadvisor_all.dropna()\n",
    "df_tripadvisor_all = df_tripadvisor_all.reset_index(drop=True)\n",
    "\n",
    "#Extracción de latitud y longitud de la columna de coordenadas del df\n",
    "df_tripadvisor_all[['latitud', 'longitud']] = df_tripadvisor_all['coordenadas'].apply(sp.Limpieza.extraer_coordenadas).apply(pd.Series)\n",
    "\n",
    "#Limpieza de la columna de precios haciendo la media del rango\n",
    "df_tripadvisor_all['precio'] = df_tripadvisor_all[\"priceRangeNum\"].apply(sp.Limpieza.calcular_media_precio)\n",
    "\n",
    "#Limpieza de la columna de rating\n",
    "df_tripadvisor_all['rating'] = df_tripadvisor_all['rating'].apply(sp.Limpieza.extraer_rating_float)\n",
    "\n",
    "#Eliminar columnas previas a la limpieza\n",
    "df_tripadvisor_all = df_tripadvisor_all.drop(['coordenadas','priceRangeNum'], axis=1)"
   ]
  },
  {
   "cell_type": "code",
   "execution_count": 46,
   "metadata": {},
   "outputs": [
    {
     "name": "stdout",
     "output_type": "stream",
     "text": [
      "<class 'pandas.core.frame.DataFrame'>\n",
      "RangeIndex: 1384 entries, 0 to 1383\n",
      "Data columns (total 10 columns):\n",
      " #   Column        Non-Null Count  Dtype  \n",
      "---  ------        --------------  -----  \n",
      " 0   nombre        1384 non-null   object \n",
      " 1   url           1384 non-null   object \n",
      " 2   direccion     1384 non-null   object \n",
      " 3   descripcion   1384 non-null   object \n",
      " 4   rating        1384 non-null   float64\n",
      " 5   subcategoria  1384 non-null   object \n",
      " 6   imagen        1384 non-null   object \n",
      " 7   latitud       1384 non-null   float64\n",
      " 8   longitud      1384 non-null   float64\n",
      " 9   precio        1384 non-null   float64\n",
      "dtypes: float64(4), object(6)\n",
      "memory usage: 108.2+ KB\n"
     ]
    }
   ],
   "source": [
    "df_tripadvisor_all.info()"
   ]
  },
  {
   "cell_type": "code",
   "execution_count": 47,
   "metadata": {},
   "outputs": [
    {
     "data": {
      "text/html": [
       "<div>\n",
       "<style scoped>\n",
       "    .dataframe tbody tr th:only-of-type {\n",
       "        vertical-align: middle;\n",
       "    }\n",
       "\n",
       "    .dataframe tbody tr th {\n",
       "        vertical-align: top;\n",
       "    }\n",
       "\n",
       "    .dataframe thead th {\n",
       "        text-align: right;\n",
       "    }\n",
       "</style>\n",
       "<table border=\"1\" class=\"dataframe\">\n",
       "  <thead>\n",
       "    <tr style=\"text-align: right;\">\n",
       "      <th></th>\n",
       "      <th>nombre</th>\n",
       "      <th>url</th>\n",
       "      <th>direccion</th>\n",
       "      <th>descripcion</th>\n",
       "      <th>rating</th>\n",
       "      <th>subcategoria</th>\n",
       "      <th>imagen</th>\n",
       "      <th>latitud</th>\n",
       "      <th>longitud</th>\n",
       "      <th>precio</th>\n",
       "    </tr>\n",
       "  </thead>\n",
       "  <tbody>\n",
       "    <tr>\n",
       "      <th>0</th>\n",
       "      <td>Los Montes de Galicia</td>\n",
       "      <td>https://www.tripadvisor.es/Restaurant_Review-g...</td>\n",
       "      <td>Calle Azcona 46 PISO 8, 28028 Madrid España</td>\n",
       "      <td>Española, Internacional, Mediterránea, Saludable</td>\n",
       "      <td>5.0</td>\n",
       "      <td>restaurantes</td>\n",
       "      <td>data:image/gif;base64,R0lGODlhAQABAAAAACH5BAEK...</td>\n",
       "      <td>40.434765</td>\n",
       "      <td>-3.668304</td>\n",
       "      <td>65.0</td>\n",
       "    </tr>\n",
       "  </tbody>\n",
       "</table>\n",
       "</div>"
      ],
      "text/plain": [
       "                  nombre                                                url  \\\n",
       "0  Los Montes de Galicia  https://www.tripadvisor.es/Restaurant_Review-g...   \n",
       "\n",
       "                                     direccion  \\\n",
       "0  Calle Azcona 46 PISO 8, 28028 Madrid España   \n",
       "\n",
       "                                        descripcion  rating  subcategoria  \\\n",
       "0  Española, Internacional, Mediterránea, Saludable     5.0  restaurantes   \n",
       "\n",
       "                                              imagen    latitud  longitud  \\\n",
       "0  data:image/gif;base64,R0lGODlhAQABAAAAACH5BAEK...  40.434765 -3.668304   \n",
       "\n",
       "   precio  \n",
       "0    65.0  "
      ]
     },
     "execution_count": 47,
     "metadata": {},
     "output_type": "execute_result"
    }
   ],
   "source": [
    "df_tripadvisor_all.head(1)"
   ]
  },
  {
   "attachments": {},
   "cell_type": "markdown",
   "metadata": {},
   "source": [
    "## 4. Creación de df_all"
   ]
  },
  {
   "cell_type": "code",
   "execution_count": 48,
   "metadata": {},
   "outputs": [],
   "source": [
    "#Reestablecer el orden de las columnas para que sea común\n",
    "df_fever_all = df_fever_all[['nombre', 'subcategoria', 'descripcion', 'url', 'direccion','rating','imagen','latitud','longitud','precio']]\n",
    "df_groupon_all = df_groupon_all[['nombre', 'subcategoria', 'descripcion', 'url', 'direccion','rating','imagen','latitud','longitud','precio']]\n",
    "df_tripadvisor_all = df_tripadvisor_all[['nombre', 'subcategoria', 'descripcion', 'url', 'direccion','rating','imagen','latitud','longitud','precio']]"
   ]
  },
  {
   "cell_type": "code",
   "execution_count": 49,
   "metadata": {},
   "outputs": [],
   "source": [
    "#Concatenado de los df de las diferentes fuentes\n",
    "df_all = pd.concat([df_fever_all, df_groupon_all, df_tripadvisor_all], ignore_index=True)\n",
    "\n",
    "#Creación de identificador único por plan a partir de la columna de url\n",
    "df_all['id'], _ = pd.factorize(df_all['url'], sort=True)"
   ]
  },
  {
   "attachments": {},
   "cell_type": "markdown",
   "metadata": {},
   "source": [
    " * Creación de la tabla de categorías- subcategorías "
   ]
  },
  {
   "cell_type": "code",
   "execution_count": 50,
   "metadata": {},
   "outputs": [],
   "source": [
    "df_cat_sub = df_all.copy()\n",
    "df_cat_sub.drop(df_cat_sub.columns.difference(['id', 'subcategoria']), axis=1, inplace=True)"
   ]
  },
  {
   "cell_type": "code",
   "execution_count": 51,
   "metadata": {},
   "outputs": [],
   "source": [
    "#Importamos el fichero con la relación categoría-subcategoría y añadimos la columna de categoría a df_cat_sub\n",
    "rel_categoria= pd.read_csv('../data/CATEGORIA_RELACION.csv')\n",
    "df_cat_sub = pd.merge(df_cat_sub, rel_categoria, on='subcategoria', how='left')\n",
    "df_cat_sub['subcategoria'] = df_cat_sub['subcategoria'].apply(lambda x: x.replace('-', ' '))"
   ]
  },
  {
   "cell_type": "code",
   "execution_count": 52,
   "metadata": {},
   "outputs": [],
   "source": [
    "df_cat_sub.to_csv(f'../data/CATEGORIAS.csv', header=True, index=False)"
   ]
  },
  {
   "attachments": {},
   "cell_type": "markdown",
   "metadata": {},
   "source": [
    " * Eliminación de duplicados y creación de la tabla principal"
   ]
  },
  {
   "cell_type": "code",
   "execution_count": 53,
   "metadata": {},
   "outputs": [],
   "source": [
    "df_all= df_all.drop(['subcategoria'], axis=1)\n",
    "df_principal = df_all.drop_duplicates()"
   ]
  },
  {
   "cell_type": "code",
   "execution_count": 54,
   "metadata": {},
   "outputs": [],
   "source": [
    "df_principal.to_csv(f'../data/PRINCIPAL.csv', header=True, index=False)"
   ]
  },
  {
   "attachments": {},
   "cell_type": "markdown",
   "metadata": {},
   "source": [
    " * Creación de la tabla de entrenamiento"
   ]
  },
  {
   "cell_type": "code",
   "execution_count": 55,
   "metadata": {},
   "outputs": [],
   "source": [
    "df_entrenamiento = df_principal.copy()\n",
    "\n",
    "#concatenado de descripcion y nombre\n",
    "df_entrenamiento['descripcion_conc'] = df_entrenamiento.apply(lambda row: str(row['nombre']) +' '+ str(row['descripcion']), axis=1)\n",
    "\n",
    "#limpieza de descripcion\n",
    "df_entrenamiento['descripcion_conc'] = df_entrenamiento['descripcion_conc'].apply(lambda x: sp.Limpieza.limpiar_texto(x))\n",
    "\n",
    "#Eliminación de columnas\n",
    "df_entrenamiento.drop(df_entrenamiento.columns.difference(['id', 'descripcion_conc']), axis=1, inplace=True)"
   ]
  },
  {
   "cell_type": "code",
   "execution_count": 56,
   "metadata": {},
   "outputs": [],
   "source": [
    "df_entrenamiento.to_csv(f'../data/ENTRENAMIENTO.csv', header=True, index=False)"
   ]
  }
 ],
 "metadata": {
  "kernelspec": {
   "display_name": "Python 3",
   "language": "python",
   "name": "python3"
  },
  "language_info": {
   "codemirror_mode": {
    "name": "ipython",
    "version": 3
   },
   "file_extension": ".py",
   "mimetype": "text/x-python",
   "name": "python",
   "nbconvert_exporter": "python",
   "pygments_lexer": "ipython3",
   "version": "3.9.12"
  },
  "orig_nbformat": 4
 },
 "nbformat": 4,
 "nbformat_minor": 2
}
