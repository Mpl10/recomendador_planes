{
 "cells": [
  {
   "cell_type": "code",
   "execution_count": 33,
   "metadata": {},
   "outputs": [],
   "source": [
    "import numpy as np\n",
    "import pandas as pd\n",
    "from sklearn.feature_extraction.text import CountVectorizer\n",
    "from itertools import combinations"
   ]
  },
  {
   "cell_type": "code",
   "execution_count": 30,
   "metadata": {},
   "outputs": [],
   "source": [
    "df_planes= pd.read_csv('../../data/data_inicial/RECOMENDACION_ALL.csv')\n",
    "pd.options.display.max_columns = None"
   ]
  },
  {
   "cell_type": "code",
   "execution_count": 34,
   "metadata": {},
   "outputs": [
    {
     "data": {
      "text/html": [
       "<div>\n",
       "<style scoped>\n",
       "    .dataframe tbody tr th:only-of-type {\n",
       "        vertical-align: middle;\n",
       "    }\n",
       "\n",
       "    .dataframe tbody tr th {\n",
       "        vertical-align: top;\n",
       "    }\n",
       "\n",
       "    .dataframe thead th {\n",
       "        text-align: right;\n",
       "    }\n",
       "</style>\n",
       "<table border=\"1\" class=\"dataframe\">\n",
       "  <thead>\n",
       "    <tr style=\"text-align: right;\">\n",
       "      <th></th>\n",
       "      <th>nombre</th>\n",
       "      <th>subcategoria</th>\n",
       "      <th>descripcion</th>\n",
       "      <th>url</th>\n",
       "      <th>id</th>\n",
       "      <th>categoria</th>\n",
       "    </tr>\n",
       "  </thead>\n",
       "  <tbody>\n",
       "    <tr>\n",
       "      <th>0</th>\n",
       "      <td>Escape room urbano para grupos de 2 a 6 person...</td>\n",
       "      <td>juegos de escape</td>\n",
       "      <td>opciones incluyen juego escape room urbano hor...</td>\n",
       "      <td>https://www.groupon.es/deals/parapark-madrid-2</td>\n",
       "      <td>3783</td>\n",
       "      <td>Entretenimiento</td>\n",
       "    </tr>\n",
       "    <tr>\n",
       "      <th>1</th>\n",
       "      <td>Escape game para 4 a 6 personas en una sala a ...</td>\n",
       "      <td>juegos de escape</td>\n",
       "      <td>incluye escape game salas participantes duraci...</td>\n",
       "      <td>https://www.groupon.es/deals/escapology-ilusio...</td>\n",
       "      <td>3759</td>\n",
       "      <td>Entretenimiento</td>\n",
       "    </tr>\n",
       "    <tr>\n",
       "      <th>2</th>\n",
       "      <td>Escape room con actores \"La Maldición de los B...</td>\n",
       "      <td>juegos de escape</td>\n",
       "      <td>sala privada solo caso grupo personas habitaci...</td>\n",
       "      <td>https://www.groupon.es/deals/ncerrados-escape-...</td>\n",
       "      <td>3780</td>\n",
       "      <td>Entretenimiento</td>\n",
       "    </tr>\n",
       "    <tr>\n",
       "      <th>3</th>\n",
       "      <td>Juego de escape para hasta 5 personas en Enigm...</td>\n",
       "      <td>juegos de escape</td>\n",
       "      <td>juego escape personas enigmas room</td>\n",
       "      <td>https://www.groupon.es/deals/enigmas-room-3</td>\n",
       "      <td>3758</td>\n",
       "      <td>Entretenimiento</td>\n",
       "    </tr>\n",
       "    <tr>\n",
       "      <th>4</th>\n",
       "      <td>Escape room con 3 habitaciones a elegir para h...</td>\n",
       "      <td>juegos de escape</td>\n",
       "      <td>escape rooms elegir jungla ashe orishas duraci...</td>\n",
       "      <td>https://www.groupon.es/deals/bucaneros-park</td>\n",
       "      <td>3746</td>\n",
       "      <td>Entretenimiento</td>\n",
       "    </tr>\n",
       "    <tr>\n",
       "      <th>...</th>\n",
       "      <td>...</td>\n",
       "      <td>...</td>\n",
       "      <td>...</td>\n",
       "      <td>...</td>\n",
       "      <td>...</td>\n",
       "      <td>...</td>\n",
       "    </tr>\n",
       "    <tr>\n",
       "      <th>4508</th>\n",
       "      <td>Dolce &amp; Salado Restaurante</td>\n",
       "      <td>restaurantes</td>\n",
       "      <td>comida rápida española tienda gourmet street f...</td>\n",
       "      <td>/Restaurant_Review-g187514-d17599784-Reviews-D...</td>\n",
       "      <td>1334</td>\n",
       "      <td>Gastronomía</td>\n",
       "    </tr>\n",
       "    <tr>\n",
       "      <th>4509</th>\n",
       "      <td>Kokoxaxaasador</td>\n",
       "      <td>restaurantes</td>\n",
       "      <td>barbacoa sushi asiática</td>\n",
       "      <td>/Restaurant_Review-g187514-d21079293-Reviews-K...</td>\n",
       "      <td>1803</td>\n",
       "      <td>Gastronomía</td>\n",
       "    </tr>\n",
       "    <tr>\n",
       "      <th>4510</th>\n",
       "      <td>Ju Yuan Xiao Guan</td>\n",
       "      <td>restaurantes</td>\n",
       "      <td>china comida rápida</td>\n",
       "      <td>/Restaurant_Review-g187514-d14957781-Reviews-J...</td>\n",
       "      <td>980</td>\n",
       "      <td>Gastronomía</td>\n",
       "    </tr>\n",
       "    <tr>\n",
       "      <th>4511</th>\n",
       "      <td>Expresology</td>\n",
       "      <td>restaurantes</td>\n",
       "      <td>latina café comida rápida española saludable v...</td>\n",
       "      <td>/Restaurant_Review-g187514-d23029103-Reviews-E...</td>\n",
       "      <td>1964</td>\n",
       "      <td>Gastronomía</td>\n",
       "    </tr>\n",
       "    <tr>\n",
       "      <th>4512</th>\n",
       "      <td>Kebab &amp; Pollo A La Broaster</td>\n",
       "      <td>restaurantes</td>\n",
       "      <td>turca</td>\n",
       "      <td>/Restaurant_Review-g187514-d13825388-Reviews-K...</td>\n",
       "      <td>815</td>\n",
       "      <td>Gastronomía</td>\n",
       "    </tr>\n",
       "  </tbody>\n",
       "</table>\n",
       "<p>4513 rows × 6 columns</p>\n",
       "</div>"
      ],
      "text/plain": [
       "                                                 nombre      subcategoria  \\\n",
       "0     Escape room urbano para grupos de 2 a 6 person...  juegos de escape   \n",
       "1     Escape game para 4 a 6 personas en una sala a ...  juegos de escape   \n",
       "2     Escape room con actores \"La Maldición de los B...  juegos de escape   \n",
       "3     Juego de escape para hasta 5 personas en Enigm...  juegos de escape   \n",
       "4     Escape room con 3 habitaciones a elegir para h...  juegos de escape   \n",
       "...                                                 ...               ...   \n",
       "4508                         Dolce & Salado Restaurante      restaurantes   \n",
       "4509                                     Kokoxaxaasador      restaurantes   \n",
       "4510                                  Ju Yuan Xiao Guan      restaurantes   \n",
       "4511                                        Expresology      restaurantes   \n",
       "4512                        Kebab & Pollo A La Broaster      restaurantes   \n",
       "\n",
       "                                            descripcion  \\\n",
       "0     opciones incluyen juego escape room urbano hor...   \n",
       "1     incluye escape game salas participantes duraci...   \n",
       "2     sala privada solo caso grupo personas habitaci...   \n",
       "3                    juego escape personas enigmas room   \n",
       "4     escape rooms elegir jungla ashe orishas duraci...   \n",
       "...                                                 ...   \n",
       "4508  comida rápida española tienda gourmet street f...   \n",
       "4509                            barbacoa sushi asiática   \n",
       "4510                                china comida rápida   \n",
       "4511  latina café comida rápida española saludable v...   \n",
       "4512                                              turca   \n",
       "\n",
       "                                                    url    id        categoria  \n",
       "0        https://www.groupon.es/deals/parapark-madrid-2  3783  Entretenimiento  \n",
       "1     https://www.groupon.es/deals/escapology-ilusio...  3759  Entretenimiento  \n",
       "2     https://www.groupon.es/deals/ncerrados-escape-...  3780  Entretenimiento  \n",
       "3           https://www.groupon.es/deals/enigmas-room-3  3758  Entretenimiento  \n",
       "4           https://www.groupon.es/deals/bucaneros-park  3746  Entretenimiento  \n",
       "...                                                 ...   ...              ...  \n",
       "4508  /Restaurant_Review-g187514-d17599784-Reviews-D...  1334      Gastronomía  \n",
       "4509  /Restaurant_Review-g187514-d21079293-Reviews-K...  1803      Gastronomía  \n",
       "4510  /Restaurant_Review-g187514-d14957781-Reviews-J...   980      Gastronomía  \n",
       "4511  /Restaurant_Review-g187514-d23029103-Reviews-E...  1964      Gastronomía  \n",
       "4512  /Restaurant_Review-g187514-d13825388-Reviews-K...   815      Gastronomía  \n",
       "\n",
       "[4513 rows x 6 columns]"
      ]
     },
     "execution_count": 34,
     "metadata": {},
     "output_type": "execute_result"
    }
   ],
   "source": [
    "df_planes\n"
   ]
  },
  {
   "cell_type": "code",
   "execution_count": 35,
   "metadata": {},
   "outputs": [
    {
     "data": {
      "text/plain": [
       "array([[0, 0, 0, ..., 0, 0, 0],\n",
       "       [0, 0, 0, ..., 0, 0, 0],\n",
       "       [0, 0, 0, ..., 0, 0, 0],\n",
       "       ...,\n",
       "       [0, 0, 0, ..., 0, 0, 0],\n",
       "       [0, 0, 0, ..., 0, 0, 0],\n",
       "       [0, 0, 0, ..., 0, 0, 0]], dtype=int64)"
      ]
     },
     "execution_count": 35,
     "metadata": {},
     "output_type": "execute_result"
    }
   ],
   "source": [
    "contador_argumento= CountVectorizer(min_df=3)\n",
    "\n",
    "argumentos_bag_of_words =(contador_argumento\n",
    "                          .fit_transform(df_planes[\"descripcion\"])\n",
    "                          .toarray())\n",
    "\n",
    "argumentos_bag_of_words"
   ]
  },
  {
   "cell_type": "code",
   "execution_count": 39,
   "metadata": {},
   "outputs": [],
   "source": [
    "columnas_argumentos= [tup[0] for tup in sorted(contador_argumento.vocabulary_.items(), key= lambda x: x[1])]\n",
    "\n",
    "argumentos_bag_of_words_df= pd.DataFrame(argumentos_bag_of_words, columns=columnas_argumentos, index= df_planes[\"nombre\"])"
   ]
  },
  {
   "cell_type": "code",
   "execution_count": 52,
   "metadata": {},
   "outputs": [
    {
     "data": {
      "text/plain": [
       "nombre\n",
       "Escape room urbano para grupos de 2 a 6 personas con dí...    1\n",
       "Escape game para 4 a 6 personas en una sala a elegir en...    2\n",
       "Escape room con actores \"La Maldición de los Balaguer\"...     1\n",
       "Juego de escape para hasta 5 personas en Enigmas Room         1\n",
       "Escape room con 3 habitaciones a elegir para hasta 6 pe...    1\n",
       "                                                             ..\n",
       "Dolce & Salado Restaurante                                    0\n",
       "Kokoxaxaasador                                                0\n",
       "Ju Yuan Xiao Guan                                             0\n",
       "Expresology                                                   0\n",
       "Kebab & Pollo A La Broaster                                   0\n",
       "Name: escape, Length: 4513, dtype: int64"
      ]
     },
     "execution_count": 52,
     "metadata": {},
     "output_type": "execute_result"
    }
   ],
   "source": [
    "argumentos_bag_of_words_df[\"escape\"]"
   ]
  },
  {
   "cell_type": "code",
   "execution_count": null,
   "metadata": {},
   "outputs": [],
   "source": [
    "def tokenizador_categorias(string_categorias):\n",
    "    generos_separados = string_categorias.split"
   ]
  }
 ],
 "metadata": {
  "kernelspec": {
   "display_name": "Python 3",
   "language": "python",
   "name": "python3"
  },
  "language_info": {
   "codemirror_mode": {
    "name": "ipython",
    "version": 3
   },
   "file_extension": ".py",
   "mimetype": "text/x-python",
   "name": "python",
   "nbconvert_exporter": "python",
   "pygments_lexer": "ipython3",
   "version": "3.9.12"
  },
  "orig_nbformat": 4
 },
 "nbformat": 4,
 "nbformat_minor": 2
}
